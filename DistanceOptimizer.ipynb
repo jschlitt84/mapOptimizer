{
 "metadata": {
  "name": "",
  "signature": "sha256:c749d68e6aa2668e42e58d4023f0ce72b1a48f40264b4f00911bf553fa1a4d56"
 },
 "nbformat": 3,
 "nbformat_minor": 0,
 "worksheets": [
  {
   "cells": [
    {
     "cell_type": "heading",
     "level": 1,
     "metadata": {},
     "source": [
      "Resource Allocation Distance Optimizer"
     ]
    },
    {
     "cell_type": "heading",
     "level": 3,
     "metadata": {},
     "source": [
      "The goal of this program is to find locations for a finite set of resources such that the minimal mean distance from resource to population member is achieved without leaving any members at an excessive distance from the nearest resource."
     ]
    },
    {
     "cell_type": "code",
     "collapsed": false,
     "input": [
      "import matplotlib.pyplot as plt\n",
      "from random import randint, sample, random, choice, uniform\n",
      "from numpy import mean, std, zeros, average, array\n",
      "from copy import deepcopy\n",
      "from numpy.random import rand\n",
      "from multiprocessing import Process, Queue, cpu_count, Manager\n",
      "from math import ceil\n",
      "#import scipy.ndimage as sp\n",
      "#from concurrent import futures\n",
      "\n",
      "import matplotlib.cm as cm\n",
      "import networkx as nx\n",
      "import datetime\n",
      "import matplotlib.colors as colors\n",
      "\n",
      "import cPickle\n",
      "\n",
      "%matplotlib inline"
     ],
     "language": "python",
     "metadata": {},
     "outputs": [],
     "prompt_number": 1
    },
    {
     "cell_type": "heading",
     "level": 3,
     "metadata": {},
     "source": [
      "Animation enabled"
     ]
    },
    {
     "cell_type": "code",
     "collapsed": false,
     "input": [
      "import matplotlib.animation as animation\n",
      "from IPython.display import HTML\n",
      "\n",
      "#Animating via tutorial at:\n",
      "#http://jakevdp.github.io/blog/2013/05/12/embedding-matplotlib-animations/\n",
      "\n",
      "VIDEO_TAG = \"\"\"<video width=\"1024\" height=\"768\" controls>\n",
      " <source src=\"data:video/x-m4v;base64,{0}\" type=\"video/mp4\">\n",
      " Your browser does not support the video tag.\n",
      "</video>\"\"\"\n",
      "\n",
      "def display_animation(anim,fileName):\n",
      "    print \"Preparing to render video in notebook...\"\n",
      "    plt.close(anim._fig)\n",
      "    return HTML(anim_to_html(anim,fileName))\n",
      "\n",
      "def anim_to_html(anim,fileName):\n",
      "    fileName = fileName+'.mp4'\n",
      "    video = open(fileName, \"rb\").read()\n",
      "    anim._encoded_video = video.encode(\"base64\")\n",
      "    \n",
      "    return VIDEO_TAG.format(anim._encoded_video)"
     ],
     "language": "python",
     "metadata": {},
     "outputs": [],
     "prompt_number": 2
    },
    {
     "cell_type": "heading",
     "level": 3,
     "metadata": {},
     "source": [
      "Experiment Globals"
     ]
    },
    {
     "cell_type": "code",
     "collapsed": false,
     "input": [
      "nPopulation = 400\n",
      "nResource = 5\n",
      "meanTilt = 0.80 #Score = tilt* mean distance + (1-tilt)* max distance\n",
      "size = 120\n",
      "pLake = 0.4\n",
      "lakeSize = 10\n",
      "\n",
      "cfg = {'travel':'network',\n",
      "           'distance':'manhattan',\n",
      "           'population':'density',\n",
      "           'obstacles':0.2,\n",
      "           'extras':dict(),\n",
      "           'precision':'int',\n",
      "           'penalty':size*2,\n",
      "           'wander':3,\n",
      "           'inCityD':True,\n",
      "           'inCityH':False,\n",
      "           'threads':1,\n",
      "           'landFill':1,\n",
      "           'roadLimit':1,\n",
      "           'roadTimes':[0.5,0.3,0.1],\n",
      "           'roads':3,\n",
      "           'permanent':3,\n",
      "           'pickledRun':'network.pickle',\n",
      "           'pickledDist':'distDict.pickle'}\n",
      "\n",
      "#Travel modes = crow or path\n",
      "#Population modes = density or discrete\n",
      "#Obstacles = odds of obstructed point on network map"
     ],
     "language": "python",
     "metadata": {},
     "outputs": [],
     "prompt_number": 3
    },
    {
     "cell_type": "heading",
     "level": 3,
     "metadata": {},
     "source": [
      "Population, Obstacle, and Resource Location Generation"
     ]
    },
    {
     "cell_type": "code",
     "collapsed": false,
     "input": [
      "fromPickle = False\n",
      "\n",
      "if cfg['pickledRun'] != False:\n",
      "    pickleIn = open(cfg['pickledRun'])\n",
      "    runP = cPickle.load(pickleIn)\n",
      "    pickleIn.close()\n",
      "    fromPickle = True\n",
      "print fromPickle"
     ],
     "language": "python",
     "metadata": {},
     "outputs": [
      {
       "output_type": "stream",
       "stream": "stdout",
       "text": [
        "True\n"
       ]
      }
     ],
     "prompt_number": 4
    },
    {
     "cell_type": "code",
     "collapsed": false,
     "input": [
      "#Randomly places lake obstacles if network mode is used\n",
      "cfg['extras']['permanent'] = []\n",
      "\n",
      "if cfg['travel'] == 'network':\n",
      "    lakes = zeros((size,size)); fill = cfg['landFill']\n",
      "    lakes.fill(fill)\n",
      "    if not fromPickle:\n",
      "        for x in range(size/lakeSize):\n",
      "            for y in range(size/lakeSize):\n",
      "                if random() < pLake:\n",
      "                    for i in range(lakeSize):\n",
      "                        for j in range(lakeSize):\n",
      "                            lakes[x*lakeSize+i][y*lakeSize+j] = -1\n",
      "        pLocs = []\n",
      "        for pt in range(nPopulation):\n",
      "            x,y = randint(0,size-1),randint(0,size-1)\n",
      "            while lakes[x][y] != cfg['landFill']:\n",
      "                x,y = randint(0,size-1),randint(0,size-1)\n",
      "            pLocs.append([x,y])\n",
      "        cfg['extras']['lakes'] = lakes\n",
      "    else:\n",
      "        cfg['extras']['lakes'] = runP['map']\n",
      "        pLocs = runP['towns']\n",
      "    if cfg['permanent'] != 0:\n",
      "        perm = []\n",
      "        for pt in range(cfg['permanent']):\n",
      "            x,y = randint(0,size-1),randint(0,size-1)\n",
      "            while cfg['extras']['lakes'][x][y] != cfg['landFill']:\n",
      "                x,y = randint(0,size-1),randint(0,size-1)\n",
      "            perm.append([x,y])\n",
      "        cfg['extras']['permanent'] = perm\n",
      "    else:\n",
      "        pLocs = [[randint(0,size-1),randint(0,size-1)] for x in range(nPopulation)]\n",
      "        if cfg['permanent'] != 0:\n",
      "            cfg['extras']['permanent']= [[randint(0,size-1),randint(0,size-1)] for x in range(cfg['permanent'])]\n",
      "        \n",
      "\n",
      "#If population stored by density, creates density matrix\n",
      "if cfg['population'] == 'density':\n",
      "    cfg['extras']['occupied'] = pLocs\n",
      "    temp = zeros((size,size))\n",
      "    for i in range(nPopulation):\n",
      "        temp[pLocs[i][0]][pLocs[i][1]] += random()\n",
      "    pLocs = temp\n",
      "else:\n",
      "    cfg['extras']['occupied'] = pLocs\n",
      " \n",
      "if cfg['inCityH']:\n",
      "    neighbors = []\n",
      "    for i in range(nPopulation):\n",
      "        d = cfg['wander'] + 1\n",
      "        x = cfg['extras']['occupied'][i][0]\n",
      "        y = cfg['extras']['occupied'][i][1]\n",
      "        accessible = [loc for loc in cfg['extras']['occupied'] if loc[0]<(x+d) and loc[0]>(x-d) and loc[1]<(y+d) and loc[1]>(y-d)]\n",
      "        neighbors.append(deepcopy(accessible))\n",
      "    cfg['extras']['neighbors'] = neighbors"
     ],
     "language": "python",
     "metadata": {},
     "outputs": [],
     "prompt_number": 43
    },
    {
     "cell_type": "code",
     "collapsed": false,
     "input": [
      "#Randomly place roads if roads used\n",
      "if cfg['roads'] != 0 and cfg['travel'] == 'network' and not fromPickle:\n",
      "    for pos in range(cfg['roads']):\n",
      "        speed = choice(cfg['roadTimes'])\n",
      "        p1 = randint(0,size); p2 = randint(0,size)\n",
      "        slope = (p2-p1)/float(size)\n",
      "        orient = choice([True, False])\n",
      "        j = p1\n",
      "        for i in range(size):\n",
      "            try:\n",
      "                if orient:\n",
      "                    cfg['extras']['lakes'][int(i)][int(j)] = speed\n",
      "                else:\n",
      "                    cfg['extras']['lakes'][int(j)][int(i)] = speed\n",
      "            except:\n",
      "                None\n",
      "            j += slope"
     ],
     "language": "python",
     "metadata": {},
     "outputs": [],
     "prompt_number": 6
    },
    {
     "cell_type": "code",
     "collapsed": false,
     "input": [
      "#Scatters initial set of resources\n",
      "rLocs = [[randint(0,size-1),randint(0,size-1)] for x in range(nResource)]"
     ],
     "language": "python",
     "metadata": {},
     "outputs": [],
     "prompt_number": 41
    },
    {
     "cell_type": "heading",
     "level": 3,
     "metadata": {},
     "source": [
      "Network Population Function for Manhattan Distance Travel"
     ]
    },
    {
     "cell_type": "code",
     "collapsed": false,
     "input": [
      "def getNetwork(cfg,size):\n",
      "    \"\"\"Generates Network for Manhattan Distance Travel\"\"\"\n",
      "    network=nx.Graph()\n",
      "\n",
      "    for x in range(size-1):\n",
      "        for y in range(size):\n",
      "            if cfg['extras']['lakes'][x+1][y] != -1 and cfg['extras']['lakes'][x][y] != -1:\n",
      "                weight = min([cfg['extras']['lakes'][x+1][y],cfg['extras']['lakes'][x][y]])\n",
      "                network.add_edge(str([x+1,y]),str([x,y]),weight = weight)\n",
      "    for x in range(size):\n",
      "        for y in range(size-1):\n",
      "            if cfg['extras']['lakes'][x][y+1] != -1 and cfg['extras']['lakes'][x][y] != -1:\n",
      "                weight = min([cfg['extras']['lakes'][x][y+1],cfg['extras']['lakes'][x][y]])\n",
      "                network.add_edge(str([x,y+1]),str([x,y]),weight = weight)\n",
      "                \n",
      "    if cfg['roads'] >= 0: \n",
      "        roadV = cfg['roadLimit']\n",
      "        for x in range(size-1):\n",
      "            for y in range(size-1):\n",
      "                if cfg['extras']['lakes'][x][y] != -1 and cfg['extras']['lakes'][x+1][y+1] != -1:\n",
      "                    if cfg['extras']['lakes'][x][y] < roadV and cfg['extras']['lakes'][x+1][y+1] < roadV:\n",
      "                        weight = max([cfg['extras']['lakes'][x][y],cfg['extras']['lakes'][x+1][y+1]])\n",
      "                        network.add_edge(str([x,y]),str([x+1,y+1]),weight = weight*1.41421356237)\n",
      "        for x in range(1,size):\n",
      "            for y in range(size-1):\n",
      "                if cfg['extras']['lakes'][x][y] != -1 and cfg['extras']['lakes'][x-1][y+1] != -1: \n",
      "                    if cfg['extras']['lakes'][x][y] < roadV and cfg['extras']['lakes'][x-1][y+1] < roadV:\n",
      "                        weight = max([cfg['extras']['lakes'][x][y],cfg['extras']['lakes'][x-1][y+1]])\n",
      "                        network.add_edge(str([x,y]),str([x-1,y+1]),weight = weight*1.41421356237)\n",
      "                \n",
      "    return network\n",
      "\n",
      "if not fromPickle:\n",
      "    cfg['extras']['network'] = getNetwork(cfg,size)\n",
      "else:\n",
      "    cfg['extras']['network'] = runP['network']\n",
      "#nx.draw(cfg['extras']['network'])"
     ],
     "language": "python",
     "metadata": {},
     "outputs": [],
     "prompt_number": 51
    },
    {
     "cell_type": "heading",
     "level": 3,
     "metadata": {},
     "source": [
      "Prioritizes Points to Reduce Redundancy"
     ]
    },
    {
     "cell_type": "code",
     "collapsed": false,
     "input": [
      "def rank(x1,y1,x2,y2):\n",
      "    if x1 < x2:\n",
      "        return x1,y1,x2,y2\n",
      "    elif x1 > x2:\n",
      "        return x2,y2,x1,y1\n",
      "    elif y1 < y2:\n",
      "        return x1,y1,x2,y2\n",
      "    else:\n",
      "        return x2,y2,x1,y1"
     ],
     "language": "python",
     "metadata": {},
     "outputs": [],
     "prompt_number": 9
    },
    {
     "cell_type": "heading",
     "level": 3,
     "metadata": {},
     "source": [
      "Distance Grid Population for High r Runs"
     ]
    },
    {
     "cell_type": "code",
     "collapsed": false,
     "input": [
      "if cfg['pickledDist'] != False:\n",
      "    pickleIn = open(cfg['pickledDist'])\n",
      "    temp = cPickle.load(pickleIn)\n",
      "    pickleIn.close()\n",
      "    if type(temp.keys()[0]) is str:\n",
      "        newDict = dict()\n",
      "        for key,item in temp.iteritems():\n",
      "            newDict[eval(key)] = item\n",
      "        cfg['extras']['distgrid'] = deepcopy(newDict)\n",
      "        del newDict\n",
      "    else:\n",
      "        cfg['extras']['distgrid'] = deepcopy(temp)\n",
      "    del temp\n",
      "\n",
      "else:\n",
      "    cfg['extras']['distgrid'] = dict()"
     ],
     "language": "python",
     "metadata": {},
     "outputs": [],
     "prompt_number": 28
    },
    {
     "cell_type": "code",
     "collapsed": false,
     "input": [
      "cfg['extras']['distgrid'].values()[0:5]"
     ],
     "language": "python",
     "metadata": {},
     "outputs": [
      {
       "metadata": {},
       "output_type": "pyout",
       "prompt_number": 11,
       "text": [
        "[62.013203435549876,\n",
        " 94.74213562369998,\n",
        " 39.530865786486032,\n",
        " 77.020815280144973,\n",
        " 77.020815280144987]"
       ]
      }
     ],
     "prompt_number": 11
    },
    {
     "cell_type": "heading",
     "level": 3,
     "metadata": {},
     "source": [
      "Worker Functions"
     ]
    },
    {
     "cell_type": "code",
     "collapsed": false,
     "input": [
      "def getPts(locs):\n",
      "    \"\"\"Converts pt list to plotable format\"\"\"\n",
      "    ptsX = [pt[0] for pt in locs]\n",
      "    ptsY = [pt[1] for pt in locs]\n",
      "    return ptsX,ptsY\n",
      "\n",
      "\n",
      "def distCache(cfg,x1,y1,x2,y2):\n",
      "    \"\"\"Caches network distances\"\"\"\n",
      "    try:\n",
      "        length = cfg['extras']['distgrid'][rank(x1,y1,x2,y2)]\n",
      "    except:\n",
      "        if cfg['travel'] == 'network':\n",
      "            try:\n",
      "                length = nx.shortest_path_length(cfg['extras']['network'], \n",
      "                                                                    source=str([x1,y1]),\n",
      "                                                                    target=str([x2,y2]),\n",
      "                                                                    weight='weight')\n",
      "            except:\n",
      "                length = cfg['penalty']\n",
      "        else:\n",
      "            length = pow(pow(x1-x2,2)+pow(y1-y2,2),0.5)\n",
      "            if cfg['precision'] == 'int':\n",
      "                length = int(length)\n",
      "        cfg['extras']['distgrid'][rank(x1,y1,x2,y2)] = length\n",
      "    return length\n",
      "        \n",
      "\n",
      "def getClosest(pt,rLocs,cfg):\n",
      "    \"\"\"Returns distance to closest resource\"\"\"\n",
      "    #dist = lambda x: cfg['extras']['distgrid'][rank(pt[0],pt[1],x[0],x[1])]\n",
      "    try:\n",
      "        shortest = min([distCache(cfg,loc[0],loc[1],pt[0],pt[1]) for loc in rLocs+cfg['extras']['permanent']])\n",
      "        #shortest = min([distCache(cfg,loc[0],loc[1],pt[0],pt[1]) for loc in rLocs])\n",
      "    except:\n",
      "        shortest = cfg['penalty']+1\n",
      "    return shortest\n",
      "\n",
      "\n",
      "def statsProc(pLocs,rLocs,cfg,core,piece,out_q):\n",
      "    \"\"\"Subprocess for stats generation\"\"\"\n",
      "    out_q.put({core:[getClosest(pt,rLocs,cfg) for pt in piece]}) \n",
      "    \n",
      "\n",
      "def getStats(pLocs,rLocs,cfg):\n",
      "    \"\"\"Return distance stats\"\"\"\n",
      "    if cfg['threads'] != 1:\n",
      "        mgr = Manager(); cfgP = mgr.dict(cfg)\n",
      "        out_q = Queue()\n",
      "        \n",
      "        block = int(ceil(len(cfg['extras']['occupied'])/float(cfg['threads'])))\n",
      "        processes = []; distances = []\n",
      "\n",
      "        for i in range(cfg['threads']):\n",
      "            p = Process(target = statsProc, args = (pLocs,rLocs,cfgP,i,cfg['extras']['occupied'][block*i:block*(i+1)],out_q))\n",
      "            processes.append(p)\n",
      "            p.start()\n",
      "            merged = {}\n",
      "        for i in range(cfg['threads']):\n",
      "            merged.update(out_q.get())\n",
      "        for p in processes:\n",
      "            p.join()\n",
      "        for i in range(cfg['threads']):\n",
      "            distances += merged[i]\n",
      "        cfg = dict(cfgP.items())\n",
      "            \n",
      "    else:\n",
      "        distances = [getClosest(pt,rLocs,cfg) for pt in cfg['extras']['occupied']]\n",
      "        \n",
      "    if cfg['population'] == 'discrete':\n",
      "        return {'max':max(distances),\n",
      "                'min':min(distances),\n",
      "                'mean':mean(distances),\n",
      "                'std':std(distances)}\n",
      "    else:\n",
      "        weights = [pLocs[pt[0]][pt[1]] for pt in cfg['extras']['occupied']]\n",
      "        mean = average(distances, weights=weights)\n",
      "        return {'max':max(distances),\n",
      "                'min':min(distances),\n",
      "                'mean':mean,\n",
      "                'std':pow(average((distances-mean)**2, weights=weights),0.5)}"
     ],
     "language": "python",
     "metadata": {},
     "outputs": [],
     "prompt_number": 40
    },
    {
     "cell_type": "heading",
     "level": 3,
     "metadata": {},
     "source": [
      "Plot Generation"
     ]
    },
    {
     "cell_type": "code",
     "collapsed": false,
     "input": [
      "def mapTransparency(grid,coloredGrid,level):\n",
      "    temp = deepcopy(coloredGrid)\n",
      "    for i in range(len(temp)):\n",
      "        for j in range(len(temp[0])):\n",
      "            temp[i][j][3] = pow((float(grid[i][j])/level),.25)\n",
      "    return temp\n",
      "\n",
      "\n",
      "def mapColors(grid,level,cmap):\n",
      "    cNorm = colors.Normalize(vmin=0, vmax=level)\n",
      "    scalarMap = cm.ScalarMappable(norm=cNorm, cmap=cmap)\n",
      "    temp = grid.tolist()\n",
      "    for x in range(len(grid)):\n",
      "        for y in range(len(grid[0])):\n",
      "            temp[x][y] = list(scalarMap.to_rgba(float(grid[x][y])))\n",
      "    return temp\n",
      "\n",
      "\n",
      "def pltLocs(pLocs,rLocs,cfg,stats='null',title='null',call='null',cmap ='gist_earth'):\n",
      "    if call == 'animate':\n",
      "        plt.clf()\n",
      "    else:\n",
      "        fig = plt.figure(figsize=(7,7))\n",
      "        \n",
      "    plt.xlim(-1,size)\n",
      "    plt.ylim(-1,size)\n",
      "    if cfg['travel'] == 'network':\n",
      "        plt.imshow(cfg['extras']['lakes'],cmap=cmap,interpolation='nearest',alpha =0.8)\n",
      "    if cfg['population'] == 'discrete':\n",
      "        pX,pY = getPts(pLocs)\n",
      "        plt.scatter(pY,pX, s=2, c='black', alpha=0.25)\n",
      "    else:\n",
      "        colorized = mapColors(pLocs,1,'Greys')\n",
      "        colorized = mapTransparency(pLocs,colorized,1)\n",
      "        plt.imshow(colorized,cmap='Greys',interpolation='nearest',zorder=2)\n",
      "    rX,rY = getPts(rLocs)\n",
      "    plt.scatter(rY,rX, s=150, c='red', alpha=1, zorder=3)\n",
      "    bX,bY = getPts(cfg['extras']['permanent'])\n",
      "    plt.scatter(bY,bX, s=150, c='blue', alpha=1, zorder=3)\n",
      "    cfg['extras']['permanent']\n",
      "    if title != 'null':\n",
      "        plt.title(title)\n",
      "    if stats != 'null':\n",
      "        plt.xlabel('Mean Distance: %s\\nMax Distance: %s\\nStd Dev: %s' % (stats['mean'],stats['max'],stats['std']))\n",
      "    if call != 'animate':\n",
      "        plt.show()\n",
      "    return plt"
     ],
     "language": "python",
     "metadata": {},
     "outputs": [],
     "prompt_number": 30
    },
    {
     "cell_type": "heading",
     "level": 3,
     "metadata": {},
     "source": [
      "Starting Conditions"
     ]
    },
    {
     "cell_type": "code",
     "collapsed": false,
     "input": [
      "pltLocs(pLocs,rLocs,cfg)"
     ],
     "language": "python",
     "metadata": {},
     "outputs": [
      {
       "metadata": {},
       "output_type": "display_data",
       "png": "[encoded data removed]",
       "text": [
        "<matplotlib.figure.Figure at 0x7f1b5204d290>"
       ]
      },
      {
       "metadata": {},
       "output_type": "pyout",
       "prompt_number": 44,
       "text": [
        "<module 'matplotlib.pyplot' from '/usr/lib/pymodules/python2.7/matplotlib/pyplot.pyc'>"
       ]
      }
     ],
     "prompt_number": 44
    },
    {
     "cell_type": "code",
     "collapsed": false,
     "input": [
      "cfg['extras']['distgrid'].keys()[0:5]"
     ],
     "language": "python",
     "metadata": {},
     "outputs": [
      {
       "metadata": {},
       "output_type": "pyout",
       "prompt_number": 32,
       "text": [
        "[(82, 75, 89, 54),\n",
        " (39, 24, 69, 41),\n",
        " (40, 72, 48, 24),\n",
        " (40, 3, 97, 61),\n",
        " (108, 96, 112, 38)]"
       ]
      }
     ],
     "prompt_number": 32
    },
    {
     "cell_type": "code",
     "collapsed": false,
     "input": [
      "if not fromPickle:\n",
      "    pickleOut = open('network.pickle',\"wb\")\n",
      "    cPickle.dump({'network':cfg['extras']['network'],'map':cfg['extras']['lakes'],'towns':cfg['extras']['occupied']}, pickleOut)\n",
      "    pickleOut.close()"
     ],
     "language": "python",
     "metadata": {},
     "outputs": [],
     "prompt_number": 33
    },
    {
     "cell_type": "heading",
     "level": 3,
     "metadata": {},
     "source": [
      "Denaturing Algorithm"
     ]
    },
    {
     "cell_type": "code",
     "collapsed": false,
     "input": [
      "def denature(pLocs,rLocs,size,meanTilt,cfg,\n",
      "             tracker=[],\n",
      "             stopLimit = 50,\n",
      "             timeLimit = 20000,\n",
      "             showEvery = 25,\n",
      "             best = 10000000,\n",
      "             bestStats=dict()):\n",
      "    \n",
      "    \"\"\"Randomly replaces 1 to n/2 resource locations and keeps if new solution scores better\"\"\"\n",
      "    n = len(rLocs)\n",
      "    gen = 0\n",
      "    scores = []\n",
      "    bestStats = dict()\n",
      "    t1 = datetime.datetime.now()\n",
      "    while len(scores)<stopLimit or len(set(scores[-stopLimit:])) != 1:\n",
      "        newLocs = deepcopy(rLocs)\n",
      "        ids = sample(range(n),randint(1,int(n/2.+.5)))\n",
      "        for x in ids:\n",
      "            loc = [randint(0,size-1),randint(0,size-1)]\n",
      "            if cfg['inCityD']:\n",
      "                loc = choice(cfg['extras']['occupied'])\n",
      "            else:\n",
      "                loc = [randint(0,size-1),randint(0,size-1)]\n",
      "            newLocs[x] = loc\n",
      "        stats = getStats(pLocs,newLocs,cfg)\n",
      "        score = stats['mean']*meanTilt + stats['max']*(1-meanTilt)\n",
      "        if best > score:\n",
      "            rLocs = deepcopy(newLocs); bestStats = deepcopy(stats)\n",
      "            best = score\n",
      "            tracker.append({'gen':'Denature %s' % gen,'score':score,'stats':deepcopy(stats),'pts':deepcopy(rLocs)})\n",
      "        if gen%showEvery == 0:\n",
      "            print \"Best: %s   Uni: %s   Gen: %s   Mean: %s   Max: %s   Std: %s   Time: %s\" % (best,\n",
      "                                                                   len(set(scores[-stopLimit:])),\n",
      "                                                                   gen,bestStats['mean'],\n",
      "                                                                   bestStats['max'],\n",
      "                                                                   bestStats['std'],\n",
      "                                                                   (datetime.datetime.now()-t1).seconds)\n",
      "        if gen%(showEvery*20) == 0:\n",
      "            pltLocs(pLocs,rLocs,cfg,bestStats,title='Denaturer Gen %s Optimal Placement' % gen)\n",
      "        if gen == timeLimit:\n",
      "            break\n",
      "        scores.append(best)\n",
      "        gen += 1\n",
      "    if gen == timeLimit:\n",
      "        print \"\\nGeneration limit reached after %s generations\" % timeLimit\n",
      "    else:\n",
      "        print \"\\nStable solution found at generation %s and maintained for %s generations\" % (gen-stopLimit,stopLimit)\n",
      "    pltLocs(pLocs,rLocs,cfg,bestStats,title='Gen %s Optimal Placement' % gen)\n",
      "    print len(tracker), \"improvements made\"\n",
      "    return rLocs,tracker,best,bestStats"
     ],
     "language": "python",
     "metadata": {},
     "outputs": [],
     "prompt_number": 34
    },
    {
     "cell_type": "heading",
     "level": 3,
     "metadata": {},
     "source": [
      "Hill Climber Algorithm"
     ]
    },
    {
     "cell_type": "code",
     "collapsed": false,
     "input": [
      "def climb(pLocs,rLocs,size,meanTilt,cfg,\n",
      "             tracker=[],\n",
      "             stopLimit = 50,\n",
      "             timeLimit = 20000,\n",
      "             showEvery = 25,\n",
      "             best = 10000000,\n",
      "             bestStats=dict()):\n",
      "    \"\"\"Randomly nudges 1 to n/2 resources locations and keeps if new solution is better\"\"\"\n",
      "    n = len(rLocs)\n",
      "    gen = 0\n",
      "    scores = []\n",
      "    t1 = datetime.datetime.now()\n",
      "    while len(scores)<stopLimit or len(set(scores[-stopLimit:])) != 1:\n",
      "        newLocs = deepcopy(rLocs)\n",
      "        ids = sample(range(n),randint(1,int(n/2.+.5)))\n",
      "        for x in ids:\n",
      "            if cfg['inCityH']:\n",
      "                loc = choice(cfg['extras']['neighbors'][x])\n",
      "            else:\n",
      "                loc = [rLocs[x][0]+randint(-cfg['wander'],cfg['wander']),rLocs[x][1]+randint(-cfg['wander'],cfg['wander'])]\n",
      "            newLocs[x] = loc\n",
      "        stats = getStats(pLocs,newLocs,cfg)\n",
      "        score = stats['mean']*meanTilt + stats['max']*(1-meanTilt)\n",
      "        if best > score:\n",
      "            rLocs = deepcopy(newLocs); bestStats = deepcopy(stats)\n",
      "            best = score\n",
      "            tracker.append({'gen':'Hill Climber %s' % gen,'score':score,'stats':deepcopy(stats),'pts':deepcopy(rLocs)})\n",
      "        if gen%showEvery == 0:\n",
      "            print \"Best: %s   Uni: %s   Gen: %s   Mean: %s   Max: %s   Std: %s   Time: %s\" % (best,\n",
      "                                                                   len(set(scores[-stopLimit:])),\n",
      "                                                                   gen,bestStats['mean'],\n",
      "                                                                   bestStats['max'],\n",
      "                                                                   bestStats['std'],\n",
      "                                                                   (datetime.datetime.now()-t1).seconds)\n",
      "        if gen%(showEvery*20) == 0:\n",
      "            pltLocs(pLocs,rLocs,cfg,bestStats,title='Hill Climber Gen %s Optimal Placement' % gen)\n",
      "        if gen == timeLimit:\n",
      "            break\n",
      "        scores.append(best)\n",
      "        gen += 1\n",
      "    if gen == timeLimit:\n",
      "        print \"\\nGeneration limit reached after %s generations\" % timeLimit\n",
      "    else:\n",
      "        print \"\\nStable solution found at generation %s and maintained for %s generations\" % (gen-stopLimit,stopLimit)\n",
      "    pltLocs(pLocs,rLocs,cfg,bestStats,title='Gen %s Optimal Placement' % gen)\n",
      "    print len(tracker), \"improvements made\"    \n",
      "    return rLocs,tracker,best,bestStats"
     ],
     "language": "python",
     "metadata": {},
     "outputs": [],
     "prompt_number": 35
    },
    {
     "cell_type": "heading",
     "level": 3,
     "metadata": {},
     "source": [
      "Experiment Results"
     ]
    },
    {
     "cell_type": "code",
     "collapsed": false,
     "input": [
      "#print set(cfg['extras']['distgrid'].values())"
     ],
     "language": "python",
     "metadata": {},
     "outputs": [],
     "prompt_number": 36
    },
    {
     "cell_type": "code",
     "collapsed": false,
     "input": [
      "#Denature until stable solution is maintained for 30000 generations\n",
      "stagnantLimit = 2000\n",
      "best = 10000000\n",
      "showEvery = 250\n",
      "cfg['threads'] = 1\n",
      "\n",
      "rLocs,tracker,best,bestStats = denature(pLocs,rLocs,size,meanTilt,cfg,\n",
      "                              stopLimit = stagnantLimit,\n",
      "                              timeLimit = 'null',\n",
      "                              showEvery = showEvery,\n",
      "                              best = best)"
     ],
     "language": "python",
     "metadata": {},
     "outputs": [
      {
       "output_type": "stream",
       "stream": "stdout",
       "text": [
        "Best: 25.7481894059   Uni: 0   Gen: 0   Mean: 19.1361729194   Max: 52.1962553521   Std: 12.246352018   Time: 0\n"
       ]
      },
      {
       "metadata": {},
       "output_type": "display_data",
       "png": "[encoded data removed]",
       "text": [
        "<matplotlib.figure.Figure at 0x7f1b60d7b5d0>"
       ]
      },
      {
       "output_type": "stream",
       "stream": "stdout",
       "text": [
        "Best: 19.4526111348   Uni: 10   Gen: 250   Mean: 15.4732494972   Max: 35.370057685   Std: 7.50323721893   Time: 6\n",
        "Best: 19.4339088446   Uni: 11   Gen: 500   Mean: 15.4498716345   Max: 35.370057685   Std: 7.59784635902   Time: 8"
       ]
      },
      {
       "output_type": "stream",
       "stream": "stdout",
       "text": [
        "\n",
        "Best: 19.2422437589   Uni: 13   Gen: 750   Mean: 15.2850377457   Max: 35.0710678118   Std: 7.35520163505   Time: 10"
       ]
      },
      {
       "output_type": "stream",
       "stream": "stdout",
       "text": [
        "\n",
        "Best: 19.2422437589   Uni: 13   Gen: 1000   Mean: 15.2850377457   Max: 35.0710678118   Std: 7.35520163505   Time: 12"
       ]
      },
      {
       "output_type": "stream",
       "stream": "stdout",
       "text": [
        "\n",
        "Best: 18.6975241783   Uni: 14   Gen: 1250   Mean: 15.0005848793   Max: 33.4852813742   Std: 7.48267011047   Time: 14"
       ]
      },
      {
       "output_type": "stream",
       "stream": "stdout",
       "text": [
        "\n",
        "Best: 18.6975241783   Uni: 14   Gen: 1500   Mean: 15.0005848793   Max: 33.4852813742   Std: 7.48267011047   Time: 17"
       ]
      },
      {
       "output_type": "stream",
       "stream": "stdout",
       "text": [
        "\n",
        "Best: 18.6812699448   Uni: 15   Gen: 1750   Mean: 14.9802670874   Max: 33.4852813742   Std: 7.3538054555   Time: 19"
       ]
      },
      {
       "output_type": "stream",
       "stream": "stdout",
       "text": [
        "\n",
        "Best: 18.4905710621   Uni: 17   Gen: 2000   Mean: 15.0032895871   Max: 32.439696962   Std: 7.36811276756   Time: 21"
       ]
      },
      {
       "output_type": "stream",
       "stream": "stdout",
       "text": [
        "\n",
        "Best: 18.4905710621   Uni: 8   Gen: 2250   Mean: 15.0032895871   Max: 32.439696962   Std: 7.36811276756   Time: 23"
       ]
      },
      {
       "output_type": "stream",
       "stream": "stdout",
       "text": [
        "\n",
        "Best: 18.4905710621   Uni: 7   Gen: 2500   Mean: 15.0032895871   Max: 32.439696962   Std: 7.36811276756   Time: 25"
       ]
      },
      {
       "output_type": "stream",
       "stream": "stdout",
       "text": [
        "\n",
        "Best: 18.4905710621   Uni: 5   Gen: 2750   Mean: 15.0032895871   Max: 32.439696962   Std: 7.36811276756   Time: 27"
       ]
      },
      {
       "output_type": "stream",
       "stream": "stdout",
       "text": [
        "\n",
        "Best: 18.4905710621   Uni: 5   Gen: 3000   Mean: 15.0032895871   Max: 32.439696962   Std: 7.36811276756   Time: 29"
       ]
      },
      {
       "output_type": "stream",
       "stream": "stdout",
       "text": [
        "\n",
        "Best: 18.4905710621   Uni: 4   Gen: 3250   Mean: 15.0032895871   Max: 32.439696962   Std: 7.36811276756   Time: 31"
       ]
      },
      {
       "output_type": "stream",
       "stream": "stdout",
       "text": [
        "\n",
        "Best: 18.4690623453   Uni: 5   Gen: 3500   Mean: 14.9764036911   Max: 32.439696962   Std: 7.26608076097   Time: 33"
       ]
      },
      {
       "output_type": "stream",
       "stream": "stdout",
       "text": [
        "\n",
        "Best: 18.4690623453   Uni: 4   Gen: 3750   Mean: 14.9764036911   Max: 32.439696962   Std: 7.26608076097   Time: 35"
       ]
      },
      {
       "output_type": "stream",
       "stream": "stdout",
       "text": [
        "\n",
        "Best: 18.4690623453   Uni: 2   Gen: 4000   Mean: 14.9764036911   Max: 32.439696962   Std: 7.26608076097   Time: 37"
       ]
      },
      {
       "output_type": "stream",
       "stream": "stdout",
       "text": [
        "\n",
        "Best: 18.4690623453   Uni: 2   Gen: 4250   Mean: 14.9764036911   Max: 32.439696962   Std: 7.26608076097   Time: 39"
       ]
      },
      {
       "output_type": "stream",
       "stream": "stdout",
       "text": [
        "\n",
        "Best: 18.4690623453   Uni: 2   Gen: 4500   Mean: 14.9764036911   Max: 32.439696962   Std: 7.26608076097   Time: 41"
       ]
      },
      {
       "output_type": "stream",
       "stream": "stdout",
       "text": [
        "\n",
        "Best: 18.4690623453   Uni: 2   Gen: 4750   Mean: 14.9764036911   Max: 32.439696962   Std: 7.26608076097   Time: 43"
       ]
      },
      {
       "output_type": "stream",
       "stream": "stdout",
       "text": [
        "\n",
        "Best: 18.4690623453   Uni: 2   Gen: 5000   Mean: 14.9764036911   Max: 32.439696962   Std: 7.26608076097   Time: 46"
       ]
      },
      {
       "output_type": "stream",
       "stream": "stdout",
       "text": [
        "\n"
       ]
      },
      {
       "metadata": {},
       "output_type": "display_data",
       "png": "[encoded data removed]",
       "text": [
        "<matplotlib.figure.Figure at 0x7f1b5715a3d0>"
       ]
      },
      {
       "output_type": "stream",
       "stream": "stdout",
       "text": [
        "Best: 18.4690623453   Uni: 2   Gen: 5250   Mean: 14.9764036911   Max: 32.439696962   Std: 7.26608076097   Time: 54\n",
        "\n",
        "Stable solution found at generation 3322 and maintained for 2000 generations"
       ]
      },
      {
       "output_type": "stream",
       "stream": "stdout",
       "text": [
        "\n"
       ]
      },
      {
       "metadata": {},
       "output_type": "display_data",
       "png": "[encoded data removed]",
       "text": [
        "<matplotlib.figure.Figure at 0x7f1b4f93de90>"
       ]
      },
      {
       "output_type": "stream",
       "stream": "stdout",
       "text": [
        "74 improvements made\n"
       ]
      }
     ],
     "prompt_number": 45
    },
    {
     "cell_type": "code",
     "collapsed": false,
     "input": [
      "#Hill climb until stable solution is maintained for 3000 generations\n",
      "cfg['threads'] = 1\n",
      "stagnantLimit = 4000\n",
      "\n",
      "rLocs,tracker,best,bestStats = climb(pLocs,rLocs,size,meanTilt,cfg,\n",
      "                              stopLimit = stagnantLimit,\n",
      "                              timeLimit = 'null',\n",
      "                              showEvery = showEvery,\n",
      "                              best = best,\n",
      "                              bestStats = bestStats,\n",
      "                              tracker = tracker)"
     ],
     "language": "python",
     "metadata": {},
     "outputs": [
      {
       "output_type": "stream",
       "stream": "stdout",
       "text": [
        "Best: 18.460650643   Uni: 0   Gen: 0   Mean: 14.7547454918   Max: 33.2842712474   Std: 7.19109885735   Time: 0\n"
       ]
      },
      {
       "metadata": {},
       "output_type": "display_data",
       "png": "[encoded data removed]",
       "text": [
        "<matplotlib.figure.Figure at 0x7f1b4aedfdd0>"
       ]
      },
      {
       "output_type": "stream",
       "stream": "stdout",
       "text": [
        "Best: 17.9896254042   Uni: 18   Gen: 250   Mean: 14.6837308964   Max: 31.2132034356   Std: 7.07048561028   Time: 8\n",
        "Best: 17.9333195778   Uni: 25   Gen: 500   Mean: 14.6292126052   Max: 31.1497474683   Std: 7.10313156916   Time: 10"
       ]
      },
      {
       "output_type": "stream",
       "stream": "stdout",
       "text": [
        "\n",
        "Best: 17.9285235279   Uni: 27   Gen: 750   Mean: 14.6232175428   Max: 31.1497474683   Std: 7.13514542464   Time: 12"
       ]
      },
      {
       "output_type": "stream",
       "stream": "stdout",
       "text": [
        "\n",
        "Best: 17.9281892122   Uni: 28   Gen: 1000   Mean: 14.6227996482   Max: 31.1497474683   Std: 7.1214955338   Time: 14"
       ]
      },
      {
       "output_type": "stream",
       "stream": "stdout",
       "text": [
        "\n",
        "Best: 17.9281892122   Uni: 28   Gen: 1250   Mean: 14.6227996482   Max: 31.1497474683   Std: 7.1214955338   Time: 16"
       ]
      },
      {
       "output_type": "stream",
       "stream": "stdout",
       "text": [
        "\n",
        "Best: 17.9281892122   Uni: 28   Gen: 1500   Mean: 14.6227996482   Max: 31.1497474683   Std: 7.1214955338   Time: 18"
       ]
      },
      {
       "output_type": "stream",
       "stream": "stdout",
       "text": [
        "\n",
        "Best: 17.9281892122   Uni: 28   Gen: 1750   Mean: 14.6227996482   Max: 31.1497474683   Std: 7.1214955338   Time: 20"
       ]
      },
      {
       "output_type": "stream",
       "stream": "stdout",
       "text": [
        "\n",
        "Best: 17.9281892122   Uni: 28   Gen: 2000   Mean: 14.6227996482   Max: 31.1497474683   Std: 7.1214955338   Time: 22"
       ]
      },
      {
       "output_type": "stream",
       "stream": "stdout",
       "text": [
        "\n",
        "Best: 17.9281892122   Uni: 28   Gen: 2250   Mean: 14.6227996482   Max: 31.1497474683   Std: 7.1214955338   Time: 24"
       ]
      },
      {
       "output_type": "stream",
       "stream": "stdout",
       "text": [
        "\n",
        "Best: 17.9281892122   Uni: 28   Gen: 2500   Mean: 14.6227996482   Max: 31.1497474683   Std: 7.1214955338   Time: 26"
       ]
      },
      {
       "output_type": "stream",
       "stream": "stdout",
       "text": [
        "\n",
        "Best: 17.9281892122   Uni: 28   Gen: 2750   Mean: 14.6227996482   Max: 31.1497474683   Std: 7.1214955338   Time: 28"
       ]
      },
      {
       "output_type": "stream",
       "stream": "stdout",
       "text": [
        "\n",
        "Best: 17.9281892122   Uni: 28   Gen: 3000   Mean: 14.6227996482   Max: 31.1497474683   Std: 7.1214955338   Time: 29"
       ]
      },
      {
       "output_type": "stream",
       "stream": "stdout",
       "text": [
        "\n",
        "Best: 17.9281892122   Uni: 28   Gen: 3250   Mean: 14.6227996482   Max: 31.1497474683   Std: 7.1214955338   Time: 31"
       ]
      },
      {
       "output_type": "stream",
       "stream": "stdout",
       "text": [
        "\n",
        "Best: 17.9281892122   Uni: 28   Gen: 3500   Mean: 14.6227996482   Max: 31.1497474683   Std: 7.1214955338   Time: 33"
       ]
      },
      {
       "output_type": "stream",
       "stream": "stdout",
       "text": [
        "\n",
        "Best: 17.9281892122   Uni: 28   Gen: 3750   Mean: 14.6227996482   Max: 31.1497474683   Std: 7.1214955338   Time: 35"
       ]
      },
      {
       "output_type": "stream",
       "stream": "stdout",
       "text": [
        "\n",
        "Best: 17.9281892122   Uni: 28   Gen: 4000   Mean: 14.6227996482   Max: 31.1497474683   Std: 7.1214955338   Time: 37"
       ]
      },
      {
       "output_type": "stream",
       "stream": "stdout",
       "text": [
        "\n",
        "Best: 17.9281892122   Uni: 11   Gen: 4250   Mean: 14.6227996482   Max: 31.1497474683   Std: 7.1214955338   Time: 39"
       ]
      },
      {
       "output_type": "stream",
       "stream": "stdout",
       "text": [
        "\n",
        "Best: 17.9281892122   Uni: 4   Gen: 4500   Mean: 14.6227996482   Max: 31.1497474683   Std: 7.1214955338   Time: 41"
       ]
      },
      {
       "output_type": "stream",
       "stream": "stdout",
       "text": [
        "\n",
        "Best: 17.9281892122   Uni: 2   Gen: 4750   Mean: 14.6227996482   Max: 31.1497474683   Std: 7.1214955338   Time: 43"
       ]
      },
      {
       "output_type": "stream",
       "stream": "stdout",
       "text": [
        "\n",
        "\n",
        "Stable solution found at generation 796 and maintained for 4000 generations"
       ]
      },
      {
       "output_type": "stream",
       "stream": "stdout",
       "text": [
        "\n"
       ]
      },
      {
       "metadata": {},
       "output_type": "display_data",
       "png": "[encoded data removed]",
       "text": [
        "<matplotlib.figure.Figure at 0x7f1b3be1e190>"
       ]
      },
      {
       "output_type": "stream",
       "stream": "stdout",
       "text": [
        "102 improvements made\n"
       ]
      }
     ],
     "prompt_number": 46
    },
    {
     "cell_type": "code",
     "collapsed": false,
     "input": [
      "def animateMaps(pLocs,tracker,cfg,cmap='gist_earth'):\n",
      "    length = len(tracker)\n",
      "    fig = plt.figure(figsize=(7,7))\n",
      "        \n",
      "    def animate(i):\n",
      "        pltLocs(pLocs,\n",
      "                   tracker[i]['pts'],\n",
      "                   cfg,\n",
      "                   stats=tracker[i]['stats'],\n",
      "                   title='Gen %s Optimal Placement' % tracker[i]['gen'],\n",
      "                   call='animate',\n",
      "                   cmap=cmap)\n",
      "    \n",
      "    anim = animation.FuncAnimation(fig,animate,frames=length,interval=200, blit=False)\n",
      "    fileName = 'mapOptimization'\n",
      "    #print \"Generating\", fileName, \"gif animation\"\n",
      "    #anim.save(fileName+'.gif', writer='imagemagick', fps=1)\n",
      "    #sleep(3)\n",
      "    print \"Generating\", fileName, \"mp4 video\"\n",
      "    writer = animation.writers['ffmpeg'](fps=5)\n",
      "    anim.save(fileName+'.mp4',writer=writer,dpi=250)\n",
      "    return anim,fileName"
     ],
     "language": "python",
     "metadata": {},
     "outputs": [],
     "prompt_number": 48
    },
    {
     "cell_type": "code",
     "collapsed": false,
     "input": [
      "anim,fileName = animateMaps(pLocs,tracker,cfg)\n",
      "#display_animation(anim,fileName)"
     ],
     "language": "python",
     "metadata": {},
     "outputs": [
      {
       "output_type": "stream",
       "stream": "stdout",
       "text": [
        "Generating mapOptimization mp4 video\n"
       ]
      },
      {
       "metadata": {},
       "output_type": "display_data",
       "png": "[encoded data removed]",
       "text": [
        "<matplotlib.figure.Figure at 0x7f1b6ea94d50>"
       ]
      }
     ],
     "prompt_number": 50
    },
    {
     "cell_type": "raw",
     "metadata": {},
     "source": [
      "\u00a9 2014 James Schlitt"
     ]
    }
   ],
   "metadata": {}
  }
 ]
}