{
 "metadata": {
  "name": "",
  "signature": "sha256:c749d68e6aa2668e42e58d4023f0ce72b1a48f40264b4f00911bf553fa1a4d56"
 },
 "nbformat": 3,
 "nbformat_minor": 0,
 "worksheets": [
  {
   "cells": [
    {
     "cell_type": "heading",
     "level": 1,
     "metadata": {},
     "source": [
      "Resource Allocation Distance Optimizer"
     ]
    },
    {
     "cell_type": "heading",
     "level": 3,
     "metadata": {},
     "source": [
      "The goal of this program is to find locations for a finite set of resources such that the minimal mean distance from resource to population member is achieved without leaving any members at an excessive distance from the nearest resource."
     ]
    },
    {
     "cell_type": "code",
     "collapsed": false,
     "input": [
      "import matplotlib.pyplot as plt\n",
      "from random import randint, sample, random, choice, uniform\n",
      "from numpy import mean, std, zeros, average, array\n",
      "from copy import deepcopy\n",
      "from numpy.random import rand\n",
      "from multiprocessing import Process, Queue, cpu_count, Manager\n",
      "from math import ceil, sqrt\n",
      "\n",
      "import matplotlib.cm as cm\n",
      "import networkx as nx\n",
      "import datetime\n",
      "import matplotlib.colors as colors\n",
      "import pymongo as pm\n",
      "\n",
      "from numpy import ones,vstack\n",
      "from numpy.linalg import lstsq\n",
      "\n",
      "import cPickle\n",
      "\n",
      "%matplotlib inline"
     ],
     "language": "python",
     "metadata": {},
     "outputs": [],
     "prompt_number": 79
    },
    {
     "cell_type": "heading",
     "level": 3,
     "metadata": {},
     "source": [
      "Animation enabled"
     ]
    },
    {
     "cell_type": "code",
     "collapsed": false,
     "input": [
      "import matplotlib.animation as animation\n",
      "from IPython.display import HTML\n",
      "\n",
      "#Animating via tutorial at:\n",
      "#http://jakevdp.github.io/blog/2013/05/12/embedding-matplotlib-animations/\n",
      "\n",
      "VIDEO_TAG = \"\"\"<video width=\"1024\" height=\"768\" controls>\n",
      " <source src=\"data:video/x-m4v;base64,{0}\" type=\"video/mp4\">\n",
      " Your browser does not support the video tag.\n",
      "</video>\"\"\"\n",
      "\n",
      "def display_animation(anim,fileName):\n",
      "    print \"Preparing to render video in notebook...\"\n",
      "    plt.close(anim._fig)\n",
      "    return HTML(anim_to_html(anim,fileName))\n",
      "\n",
      "def anim_to_html(anim,fileName):\n",
      "    fileName = fileName+'.mp4'\n",
      "    video = open(fileName, \"rb\").read()\n",
      "    anim._encoded_video = video.encode(\"base64\")\n",
      "    \n",
      "    return VIDEO_TAG.format(anim._encoded_video)"
     ],
     "language": "python",
     "metadata": {},
     "outputs": [],
     "prompt_number": 80
    },
    {
     "cell_type": "heading",
     "level": 3,
     "metadata": {},
     "source": [
      "Experiment Globals"
     ]
    },
    {
     "cell_type": "code",
     "collapsed": false,
     "input": [
      "nPopulation = 400\n",
      "nResource = 5\n",
      "meanTilt = 0.80 #Score = tilt* mean distance + (1-tilt)* max distance\n",
      "size = 120\n",
      "pLake = 0.4\n",
      "lakeSize = 10\n",
      "\n",
      "cfg = {'travel':'network',\n",
      "           'distance':'manhattan',\n",
      "           'population':'density',\n",
      "           'obstacles':0.2,\n",
      "           'extras':dict(),\n",
      "           'precision':'int',\n",
      "           'penalty':size*2,\n",
      "           'wander':3,\n",
      "           'inCityD':True,\n",
      "           'inCityH':False,\n",
      "           'threads':1,\n",
      "           'landFill':1,\n",
      "           'roadLimit':1,\n",
      "           'roadTimes':[0.5,0.3,0.1],\n",
      "           'roads':3,\n",
      "           'permanent':3,\n",
      "           'pickledRun':'network.pickle',\n",
      "           'pickledDist':'network.pickle',\n",
      "           'resourceFile':'hospitals.txt',\n",
      "           'populationFile':'popd.txt',\n",
      "           'roadFile':'roads.txt',\n",
      "           'useDB':'EbolaMonroviaFull',\n",
      "           'filterAccessible':False,\n",
      "           'trimRadius':20,\n",
      "           'sparsifyX':True,\n",
      "           'sparsifyY':True,\n",
      "           'sparsifyLimit':1,\n",
      "           'distMethod':'reverse'}\n",
      "\n",
      "cfg['pickledRun'] = False\n",
      "cfg['pickledDist'] = False\n",
      "\n",
      "#Travel modes = crow or path\n",
      "#Population modes = density or discrete\n",
      "#Obstacles = odds of obstructed point on network map"
     ],
     "language": "python",
     "metadata": {},
     "outputs": [],
     "prompt_number": 81
    },
    {
     "cell_type": "code",
     "collapsed": false,
     "input": [
      "if cfg['useDB'] != False:\n",
      "    connection = pm.Connection()\n",
      "    db = connection[cfg['useDB']]\n",
      "    posts = db.posts\n",
      "    cfg['extras']['dbC'] = db\n",
      "    cfg['extras']['dbP'] = posts"
     ],
     "language": "python",
     "metadata": {},
     "outputs": [],
     "prompt_number": 82
    },
    {
     "cell_type": "code",
     "collapsed": false,
     "input": [
      "fromFile = False\n",
      "\n",
      "def importFile(ref,mapper = 'null',limit='null'):\n",
      "    paramDict = dict()\n",
      "    fileIn = open(ref)\n",
      "    content = [line.replace('\\n','').replace('\\t',' ').replace('\\r','').replace('  ',' ') for line in fileIn.readlines()]\n",
      "    fileIn.close()\n",
      "    dLen = max([len(line) for line in content])\n",
      "    params = [entry for entry in content if len(entry) < (.5*dLen)]\n",
      "    entries = [entry.split(' ') for entry in content if len(entry) >= (.5*dLen)]\n",
      "    entries = [[entry for entry in row if entry != ''] for row in entries]\n",
      "    for i in range(len(params)):\n",
      "        entry = params[i].replace('\\t',' ')\n",
      "        while '  ' in entry:\n",
      "            entry = entry.replace('  ', ' ')\n",
      "        temp = entry.split(' ')\n",
      "        try:\n",
      "            paramDict[temp[0]] = float(temp[1])\n",
      "        except:\n",
      "            try:\n",
      "                paramDict[temp[0]] = temp[1]\n",
      "            except:\n",
      "                None\n",
      "    xLen = len(entries)\n",
      "    yLen = len(entries[0])\n",
      "    print 'x:',xLen,'y:',yLen\n",
      "    print paramDict\n",
      "    if mapper != 'null':\n",
      "        entries = [[mapper[entry] for entry in row] for row in entries]\n",
      "    else:\n",
      "        entries = [[float(entry) for entry in row] for row in entries]\n",
      "    if limit != 'null':\n",
      "        for x in range(xLen):\n",
      "            for y in range(yLen):\n",
      "                if entries[x][y]<limit:\n",
      "                    entries[x][y] = 0\n",
      "    return entries\n",
      "\n",
      "\n",
      "if cfg['resourceFile'] != False or cfg['populationFile'] != False or cfg['roadFile'] != False:\n",
      "    fromFile = True\n",
      "    roadMapper = {'0':-1,'1':0.1,'2':0.00166} #60mph hwy, 20mph local, 2mph offroad\n",
      "    roads = importFile(cfg['roadFile'],mapper=roadMapper)\n",
      "    population = importFile(cfg['populationFile'],limit=2)\n",
      "    resources = importFile(cfg['resourceFile'])\n",
      "    resourceList = []\n",
      "    cfg['xSize'] = xSize = len(resources)\n",
      "    cfg['ySize'] = ySize = len(resources[0])\n",
      "    for x in range(xSize):\n",
      "        for y in range(ySize):\n",
      "            if resources[x][y] != 0:\n",
      "                resourceList.append([x,y])\n",
      "    print \"Number of resources:\",len(resourceList)\n",
      "print \"From file:\", fromFile\n",
      "#for pos in range(10):\n",
      "#    print pos, len(extract(population,pos,99999))"
     ],
     "language": "python",
     "metadata": {},
     "outputs": [
      {
       "output_type": "stream",
       "stream": "stdout",
       "text": [
        "x: 204 y: 210\n",
        "{'ncols': 210.0, 'cellsize': 0.002778, 'nrows': 204.0, 'xllcorner': -10.883333, 'yllcorner': 6.091667, 'NODATA_value': -9999.0}\n",
        "x: 204 y: 210\n",
        "{'ncols': 210.0, 'cellsize': 0.002778, 'nrows': 204.0, 'xllcorner': -10.883333, 'yllcorner': 6.091667, 'NODATA_value': -9999.0}\n",
        "x:"
       ]
      },
      {
       "output_type": "stream",
       "stream": "stdout",
       "text": [
        " 204 y: 210\n",
        "{'ncols': 210.0, 'cellsize': 0.002778, 'nrows': 204.0, 'xllcorner': -10.883333, 'yllcorner': 6.091667, 'NODATA_value': -9999.0}\n",
        "Number of resources: 4\n",
        "From file: True\n"
       ]
      }
     ],
     "prompt_number": 83
    },
    {
     "cell_type": "heading",
     "level": 3,
     "metadata": {},
     "source": [
      "Population, Obstacle, and Resource Location Generation"
     ]
    },
    {
     "cell_type": "code",
     "collapsed": false,
     "input": [
      "fromPickle = False\n",
      "\n",
      "if cfg['pickledRun'] != False:\n",
      "    pickleIn = open(cfg['pickledRun'])\n",
      "    runP = cPickle.load(pickleIn)\n",
      "    pickleIn.close()\n",
      "    fromPickle = True\n",
      "print fromPickle"
     ],
     "language": "python",
     "metadata": {},
     "outputs": [
      {
       "output_type": "stream",
       "stream": "stdout",
       "text": [
        "False\n"
       ]
      }
     ],
     "prompt_number": 84
    },
    {
     "cell_type": "code",
     "collapsed": false,
     "input": [
      "#Randomly places lake obstacles if network mode is used\n",
      "cfg['extras']['permanent'] = []\n",
      "\n",
      "if cfg['travel'] == 'network' and not fromFile:\n",
      "    lakes = zeros((size,size)); fill = cfg['landFill']\n",
      "    lakes.fill(fill)\n",
      "    if not fromPickle:\n",
      "        for x in range(size/lakeSize):\n",
      "            for y in range(size/lakeSize):\n",
      "                if random() < pLake:\n",
      "                    for i in range(lakeSize):\n",
      "                        for j in range(lakeSize):\n",
      "                            lakes[x*lakeSize+i][y*lakeSize+j] = -1\n",
      "        pLocs = []\n",
      "        for pt in range(nPopulation):\n",
      "            x,y = randint(0,size-1),randint(0,size-1)\n",
      "            while lakes[x][y] != cfg['landFill']:\n",
      "                x,y = randint(0,size-1),randint(0,size-1)\n",
      "            pLocs.append([x,y])\n",
      "        cfg['extras']['lakes'] = lakes\n",
      "    else:\n",
      "        cfg['extras']['lakes'] = runP['map']\n",
      "        pLocs = runP['towns']\n",
      "    if cfg['permanent'] != 0:\n",
      "        perm = []\n",
      "        for pt in range(cfg['permanent']):\n",
      "            x,y = randint(0,size-1),randint(0,size-1)\n",
      "            while cfg['extras']['lakes'][x][y] != cfg['landFill']:\n",
      "                x,y = randint(0,size-1),randint(0,size-1)\n",
      "            perm.append([x,y])\n",
      "        cfg['extras']['permanent'] = perm\n",
      "elif not fromFile:\n",
      "    pLocs = [[randint(0,size-1),randint(0,size-1)] for x in range(nPopulation)]\n",
      "    if cfg['permanent'] != 0:\n",
      "        cfg['extras']['permanent']= [[randint(0,size-1),randint(0,size-1)] for x in range(cfg['permanent'])]\n",
      "\n",
      "\n",
      "#Extract pts from matrix\n",
      "def extract(matrix,minV,maxV):\n",
      "    listed = []\n",
      "    for x in range(len(matrix)):\n",
      "        for y in range(len(matrix[0])):\n",
      "            if matrix[x][y]>minV and matrix[x][y]<maxV:\n",
      "                listed.append([x,y])\n",
      "    return listed        \n",
      "        \n",
      "\n",
      "#If population stored by density, creates density matrix\n",
      "if cfg['population'] == 'density' and not fromFile:\n",
      "    cfg['extras']['occupied'] = pLocs\n",
      "    temp = zeros((size,size))\n",
      "    for i in range(nPopulation):\n",
      "        temp[pLocs[i][0]][pLocs[i][1]] += random()\n",
      "    pLocs = temp\n",
      "elif not fromFile:\n",
      "    cfg['extras']['occupied'] = pLocs\n",
      "            \n",
      "\n",
      "#Extracting point lists from matrices   \n",
      "if cfg['travel'] == 'network' and fromFile:\n",
      "    cfg['extras']['lakes'] = roads\n",
      "    pLocs = population\n",
      "    cfg['extras']['occupied'] = extract(pLocs,1,9999999999999999)\n",
      "    cfg['extras']['permanent'] = extract(resources,0,999) \n",
      "    \n",
      "\n",
      "#Calculating neighbors if hill climber constrained to populated points    \n",
      "if cfg['inCityH']:\n",
      "    neighbors = []\n",
      "    for i in range(nPopulation):\n",
      "        d = cfg['wander'] + 1\n",
      "        x = cfg['extras']['occupied'][i][0]\n",
      "        y = cfg['extras']['occupied'][i][1]\n",
      "        accessible = [loc for loc in cfg['extras']['occupied'] if loc[0]<(x+d) and loc[0]>(x-d) and loc[1]<(y+d) and loc[1]>(y-d)]\n",
      "        neighbors.append(deepcopy(accessible))\n",
      "        \n",
      "    cfg['extras']['neighbors'] = neighbors\n",
      "    \n",
      "cfg['extras']['permanent']\n",
      "print extract(resources,0,999) "
     ],
     "language": "python",
     "metadata": {},
     "outputs": [
      {
       "output_type": "stream",
       "stream": "stdout",
       "text": [
        "[[99, 34], [110, 149], [133, 39], [150, 67]]\n"
       ]
      }
     ],
     "prompt_number": 85
    },
    {
     "cell_type": "code",
     "collapsed": false,
     "input": [
      "#Removing inaccessible locations\n",
      "if cfg['filterAccessible']:\n",
      "    cfg['extras']['occupied'] = [i for i in cfg['extras']['occupied'] if cfg['extras']['lakes'][i[0]][i[1]] != -1]\n",
      "#Add low speed roads to occupied pts\n",
      "else:\n",
      "    for i in cfg['extras']['occupied']:\n",
      "        if cfg['extras']['lakes'][i[0]][i[1]] == -1:\n",
      "            cfg['extras']['lakes'][i[0]][i[1]] = 1"
     ],
     "language": "python",
     "metadata": {},
     "outputs": [],
     "prompt_number": 86
    },
    {
     "cell_type": "code",
     "collapsed": false,
     "input": [
      "#Randomly place roads if roads used\n",
      "if cfg['roads'] != 0 and cfg['travel'] == 'network' and not fromPickle and not fromFile:\n",
      "    for pos in range(cfg['roads']):\n",
      "        speed = choice(cfg['roadTimes'])\n",
      "        p1 = randint(0,size); p2 = randint(0,size)\n",
      "        slope = (p2-p1)/float(size)\n",
      "        orient = choice([True, False])\n",
      "        j = p1\n",
      "        for i in range(size):\n",
      "            try:\n",
      "                if orient:\n",
      "                    cfg['extras']['lakes'][int(i)][int(j)] = speed\n",
      "                else:\n",
      "                    cfg['extras']['lakes'][int(j)][int(i)] = speed\n",
      "            except:\n",
      "                None\n",
      "            j += slope"
     ],
     "language": "python",
     "metadata": {},
     "outputs": [],
     "prompt_number": 87
    },
    {
     "cell_type": "code",
     "collapsed": false,
     "input": [
      "#Scatters initial set of resources\n",
      "rLocs = [[randint(0,size-1),randint(0,size-1)] for x in range(nResource)]"
     ],
     "language": "python",
     "metadata": {},
     "outputs": [],
     "prompt_number": 88
    },
    {
     "cell_type": "heading",
     "level": 3,
     "metadata": {},
     "source": [
      "Network Population Function for Manhattan Distance Travel"
     ]
    },
    {
     "cell_type": "code",
     "collapsed": false,
     "input": [
      "def getNetwork(cfg,size):\n",
      "    \"\"\"Generates Network for Manhattan Distance Travel\"\"\"\n",
      "    network=nx.Graph()\n",
      "    try:\n",
      "        xSize = cfg['xSize']\n",
      "    except:\n",
      "        xSize = size\n",
      "    try:\n",
      "        ySize = cfg['ySize']\n",
      "    except:\n",
      "        ySize = size\n",
      "\n",
      "    for x in range(xSize-1):\n",
      "        for y in range(ySize):\n",
      "            if cfg['extras']['lakes'][x+1][y] != -1 and cfg['extras']['lakes'][x][y] != -1:\n",
      "                weight = max([cfg['extras']['lakes'][x+1][y],cfg['extras']['lakes'][x][y]])\n",
      "                network.add_edge(str([x+1,y]),str([x,y]),weight = weight)\n",
      "    for x in range(xSize):\n",
      "        for y in range(ySize-1):\n",
      "            if cfg['extras']['lakes'][x][y+1] != -1 and cfg['extras']['lakes'][x][y] != -1:\n",
      "                weight = max([cfg['extras']['lakes'][x][y+1],cfg['extras']['lakes'][x][y]])\n",
      "                network.add_edge(str([x,y+1]),str([x,y]),weight = weight)\n",
      "                \n",
      "    if cfg['roads'] >= 0: \n",
      "        roadV = cfg['roadLimit']\n",
      "        for x in range(xSize-1):\n",
      "            for y in range(ySize-1):\n",
      "                if cfg['extras']['lakes'][x][y] != -1 and cfg['extras']['lakes'][x+1][y+1] != -1:\n",
      "                    if cfg['extras']['lakes'][x][y] < roadV and cfg['extras']['lakes'][x+1][y+1] < roadV:\n",
      "                        weight = max([cfg['extras']['lakes'][x][y],cfg['extras']['lakes'][x+1][y+1]])\n",
      "                        network.add_edge(str([x,y]),str([x+1,y+1]),weight = weight*1.41421356237)\n",
      "        for x in range(1,xSize):\n",
      "            for y in range(ySize-1):\n",
      "                if cfg['extras']['lakes'][x][y] != -1 and cfg['extras']['lakes'][x-1][y+1] != -1: \n",
      "                    if cfg['extras']['lakes'][x][y] < roadV and cfg['extras']['lakes'][x-1][y+1] < roadV:\n",
      "                        weight = max([cfg['extras']['lakes'][x][y],cfg['extras']['lakes'][x-1][y+1]])\n",
      "                        network.add_edge(str([x,y]),str([x-1,y+1]),weight = weight*1.41421356237)\n",
      "                \n",
      "    return network\n",
      "\n",
      "if not fromPickle:\n",
      "    cfg['extras']['network'] = getNetwork(cfg,size)\n",
      "else:\n",
      "    cfg['extras']['network'] = runP['network']\n",
      "#nx.draw(cfg['extras']['network'])"
     ],
     "language": "python",
     "metadata": {},
     "outputs": [],
     "prompt_number": 89
    },
    {
     "cell_type": "code",
     "collapsed": false,
     "input": [
      "a = [[1,1],[123,34],[13,3123]]\n",
      "print [1,1] in a"
     ],
     "language": "python",
     "metadata": {},
     "outputs": [
      {
       "output_type": "stream",
       "stream": "stdout",
       "text": [
        "True\n"
       ]
      }
     ],
     "prompt_number": 90
    },
    {
     "cell_type": "code",
     "collapsed": false,
     "input": [
      "def distance(pt1,pt2):\n",
      "    return pow(pow(pt1[0]-pt2[0],2)+pow(pt1[1]-pt2[0],2),0.5)\n",
      "\n",
      "def sparsify(network,cfg,pLocs,size,rLocs):\n",
      "    limit = cfg['sparsifyLimit']\n",
      "    newNet = deepcopy(network)\n",
      "    try:\n",
      "        xSize = cfg['xSize']\n",
      "    except:\n",
      "        xSize = size\n",
      "    try:\n",
      "        ySize = cfg['ySize']\n",
      "    except:\n",
      "        ySize = size\n",
      "\n",
      "    destinations = rLocs + cfg['extras']['permanent']\n",
      "    if cfg['sparsifyX']:\n",
      "        for x in range(0,xSize-1,2):\n",
      "            for y in range(ySize):\n",
      "                if cfg['extras']['lakes'][x][y]>=limit and cfg['extras']['lakes'][x+1][y]>=limit and [x+1,y] not in destinations:\n",
      "                    try:\n",
      "                        newNet.remove_node(str([x+1,y]))\n",
      "                        cfg['extras']['lakes'][x+1][y] = -1\n",
      "                        pLocs[x][y] += pLocs[x+1][y]\n",
      "                        pLocs[x+1][y] = 0\n",
      "                        #print \"removing x node\",x,y\n",
      "                    except:\n",
      "                        None\n",
      "                    try:\n",
      "                        #print \"adding x edge\",x,y,x+2,y\n",
      "                        weight = max(cfg['extras']['lakes'][x][y],cfg['extras']['lakes'][x+2][y])\n",
      "                        newNet.add_edge(str([x,y]),str([x+2,y]),weight = 2*weight)\n",
      "                    except:\n",
      "                        None\n",
      "    if cfg['sparsifyY']:\n",
      "        for x in range(xSize):\n",
      "            for y in range(0,ySize-1,2):\n",
      "                if cfg['extras']['lakes'][x][y]>=limit and cfg['extras']['lakes'][x][y+1]>=limit and [x,y+1] not in destinations:\n",
      "                    try:\n",
      "                        newNet.remove_node(str([x,y+1]))\n",
      "                        cfg['extras']['lakes'][x][y+1] = -1\n",
      "                        pLocs[x][y] += pLocs[x][y+1]\n",
      "                        pLocs[x][y+1] = 0\n",
      "                        #print \"removing y node\",x,y\n",
      "                    except:\n",
      "                        None\n",
      "                    try:\n",
      "                        #print \"adding y edge\",x,y,x,y+2\n",
      "                        weight = max(cfg['extras']['lakes'][x][y],cfg['extras']['lakes'][x][y+2])\n",
      "                        newNet.add_edge(str([x,y]),str([x,y+2]),weight = 2*weight)\n",
      "                    except:\n",
      "                        None\n",
      "    occupied = extract(pLocs,0,99999)\n",
      "    return newNet,pLocs,occupied,cfg['extras']['lakes']\n",
      "            \n",
      "            \n",
      "netTemp = deepcopy(cfg['extras']['network'])\n",
      "cfg['extras']['network'],pLocs,cfg['extras']['occupied'],cfg['extras']['lakes'] = sparsify(netTemp,cfg,pLocs,0,rLocs)"
     ],
     "language": "python",
     "metadata": {},
     "outputs": [],
     "prompt_number": 92
    },
    {
     "cell_type": "code",
     "collapsed": false,
     "input": [
      "def getKey(key1,key2):\n",
      "\tpt1 = key1\n",
      "\tpt2 = listFromStr(key2)\n",
      "\treturn str(rank(pt1[0],pt1[1],pt2[0],pt2[1]))\n",
      "\n",
      "def listFromStr(text):\n",
      "    return [int(entry) for entry in list(text.replace('[','').replace(']','').replace('(','').replace(')','').split(','))]"
     ],
     "language": "python",
     "metadata": {},
     "outputs": [],
     "prompt_number": 93
    },
    {
     "cell_type": "code",
     "collapsed": false,
     "input": [
      "import mmap\n",
      "\n",
      "\n",
      "def findDistNet(network,pts):\n",
      "    t1 = datetime.datetime.now()\n",
      "    distances = dict(); count = 0\n",
      "    toDo = len(pts)\n",
      "    print \"Process starting run with %s entries\" % (len(pts))\n",
      "    for p in pts:\n",
      "    \tnewDistances = nx.single_source_dijkstra_path_length(network,str(p))\n",
      "        print p\n",
      "    \tfor key, item in newDistances.iteritems():\n",
      "    \t\tdistances[getKey(p,key)] = int(newDistances[key]+.5)\n",
      "    print \"Process  Distance tabulation complete!\"\n",
      "    return distances"
     ],
     "language": "python",
     "metadata": {},
     "outputs": [],
     "prompt_number": 94
    },
    {
     "cell_type": "code",
     "collapsed": false,
     "input": [
      "#a = findDistNet(cfg['extras']['network'],cfg['extras']['occupied'])\n",
      "#print len(a)\n",
      "    "
     ],
     "language": "python",
     "metadata": {},
     "outputs": [],
     "prompt_number": 95
    },
    {
     "cell_type": "code",
     "collapsed": false,
     "input": [
      "#From http://stackoverflow.com/questions/849211/shortest-distance-between-a-point-and-a-line-segment\n",
      "def dist(pt1,pt2,pt3): # x3,y3 is the point\n",
      "    px = pt2[0]-pt1[0]; py = pt2[1]-pt1[1]\n",
      "    i = px*px + py*py\n",
      "    u =  ((pt3[0] - pt1[0]) * px + (pt3[1] - pt1[1]) * py) / float(i)\n",
      "    if u > 1:\n",
      "        u = 1\n",
      "    elif u < 0:\n",
      "        u = 0\n",
      "    x = pt1[0] + u * px; y = pt1[1] + u * py\n",
      "    dx = x - pt3[0]; dy = y - pt3[1]\n",
      "    return sqrt(dx*dx + dy*dy)\n",
      "\n",
      "def inRange(pt,pt1,pt2,xMax,xMin,yMax,yMin):\n",
      "    return pt[0]<=xMax and pt[0]>= xMin and pt[1]<=yMax and pt[1]>=yMin\n",
      "    \"\"\"if pt[0]<=xMax and pt[0]>= xMin and pt[1]<=yMax and pt[1]>=yMin:\n",
      "        try:\n",
      "        \tif dist(pt1,pt2,pt) < trimAll:\n",
      "        \t    return True\n",
      "        except:\n",
      "        \treturn True\n",
      "    return False\"\"\"\n",
      "\n",
      "def trimNet(network,pt1,pt2,trimRadius):\n",
      "    xMax = max(pt1[0],pt2[0])+trimRadius\n",
      "    xMin = min(pt1[0],pt2[0])-trimRadius\n",
      "    yMax = max(pt1[1],pt2[1])+trimRadius\n",
      "    yMin = min(pt1[1],pt2[1])-trimRadius\n",
      "    nodeList = [node for node in network.nodes() if inRange(listFromStr(node),pt1,pt2,xMax,xMin,yMax,yMin)]\n",
      "    return network.subgraph(nodeList)"
     ],
     "language": "python",
     "metadata": {},
     "outputs": [],
     "prompt_number": 96
    },
    {
     "cell_type": "heading",
     "level": 3,
     "metadata": {},
     "source": [
      "Prioritizes Points to Reduce Redundancy"
     ]
    },
    {
     "cell_type": "code",
     "collapsed": false,
     "input": [
      "def rank(x1,y1,x2,y2):\n",
      "    if x1 < x2:\n",
      "        return x1,y1,x2,y2\n",
      "    elif x1 > x2:\n",
      "        return x2,y2,x1,y1\n",
      "    elif y1 < y2:\n",
      "        return x1,y1,x2,y2\n",
      "    else:\n",
      "        return x2,y2,x1,y1"
     ],
     "language": "python",
     "metadata": {},
     "outputs": [],
     "prompt_number": 97
    },
    {
     "cell_type": "heading",
     "level": 3,
     "metadata": {},
     "source": [
      "Distance Grid Population for High r Runs"
     ]
    },
    {
     "cell_type": "code",
     "collapsed": false,
     "input": [
      "if cfg['pickledDist'] != False:\n",
      "    pickleIn = open(cfg['pickledDist'])\n",
      "    cfg['extras']['distgrid'] = cPickle.load(pickleIn)\n",
      "    pickleIn.close()\n",
      "\n",
      "else:\n",
      "    cfg['extras']['distgrid'] = dict()"
     ],
     "language": "python",
     "metadata": {},
     "outputs": [],
     "prompt_number": 98
    },
    {
     "cell_type": "code",
     "collapsed": false,
     "input": [
      "cfg['extras']['distgrid'].values()[0:5]\n",
      "pLocTemp = deepcopy(pLocs)"
     ],
     "language": "python",
     "metadata": {},
     "outputs": [],
     "prompt_number": 99
    },
    {
     "cell_type": "heading",
     "level": 3,
     "metadata": {},
     "source": [
      "Worker Functions"
     ]
    },
    {
     "cell_type": "code",
     "collapsed": false,
     "input": [
      "def getPts(locs):\n",
      "    \"\"\"Converts pt list to plotable format\"\"\"\n",
      "    ptsX = [pt[0] for pt in locs]\n",
      "    ptsY = [pt[1] for pt in locs]\n",
      "    return ptsX,ptsY"
     ],
     "language": "python",
     "metadata": {},
     "outputs": [],
     "prompt_number": 100
    },
    {
     "cell_type": "code",
     "collapsed": false,
     "input": [
      "def distCache(cfg,x1,y1,x2,y2):\n",
      "    \"\"\"Caches network distances\"\"\"\n",
      "    try:\n",
      "        if cfg['useDB'] != False:\n",
      "            length = float(cfg['extras']['dbP'].find_one({\"key\":str(rank(x1,y1,x2,y2))})['length'])\n",
      "        else:\n",
      "            length = cfg['extras']['distgrid'][str(rank(x1,y1,x2,y2))]\n",
      "    except:\n",
      "        if cfg['travel'] == 'network':\n",
      "            try:\n",
      "                length = nx.shortest_path_length(cfg['extras']['network'], \n",
      "                                                                    source=str([x1,y1]),\n",
      "                                                                    target=str([x2,y2]),\n",
      "                                                                    weight='weight')\n",
      "            except:\n",
      "                length = cfg['penalty']\n",
      "        else:\n",
      "            length = pow(pow(x1-x2,2)+pow(y1-y2,2),0.5)\n",
      "            if cfg['precision'] == 'int':\n",
      "                length = int(length)\n",
      "        if cfg['useDB'] != False:\n",
      "            cfg['extras']['dbP'].insert({'key':str(rank(x1,y1,x2,y2)),'length':length})\n",
      "        else:\n",
      "            cfg['extras']['distgrid'][str(rank(x1,y1,x2,y2))] = length\n",
      "    return length\n",
      "        \n",
      "\n",
      "def getClosest(pt,rLocs,cfg):\n",
      "    \"\"\"Returns distance to closest resource\"\"\"\n",
      "    #dist = lambda x: cfg['extras']['distgrid'][rank(pt[0],pt[1],x[0],x[1])]\n",
      "    try:\n",
      "        shortest = min([distCache(cfg,loc[0],loc[1],pt[0],pt[1]) for loc in rLocs+cfg['extras']['permanent']])\n",
      "        #shortest = min([distCache(cfg,loc[0],loc[1],pt[0],pt[1]) for loc in rLocs])\n",
      "    except:\n",
      "        shortest = cfg['penalty']+1\n",
      "    return shortest\n",
      "\n",
      "\n",
      "def statsProc(pLocs,rLocs,cfg,core,piece,out_q):\n",
      "    \"\"\"Subprocess for stats generation\"\"\"\n",
      "    out_q.put({core:[getClosest(pt,rLocs,cfg) for pt in piece]}) "
     ],
     "language": "python",
     "metadata": {},
     "outputs": [],
     "prompt_number": 101
    },
    {
     "cell_type": "code",
     "collapsed": false,
     "input": [
      "for r in rLocs:\n",
      "    print nx.edges(cfg['extras']['network'],str(r))"
     ],
     "language": "python",
     "metadata": {},
     "outputs": [
      {
       "output_type": "stream",
       "stream": "stdout",
       "text": [
        "[('[98, 62]', '[97, 62]'), ('[98, 62]', '[98, 61]'), ('[98, 62]', '[98, 64]'), ('[98, 62]', '[99, 62]')]\n",
        "[('[57, 12]', '[57, 11]'), ('[57, 12]', '[56, 12]')]\n",
        "[('[31, 21]', '[31, 22]'), ('[31, 21]', '[31, 20]')]\n",
        "[('[15, 30]', '[16, 30]'), ('[15, 30]', '[15, 29]'), ('[15, 30]', '[15, 31]'), ('[15, 30]', '[14, 30]')]\n",
        "[('[28, 114]', '[28, 112]')]\n"
       ]
      }
     ],
     "prompt_number": 105
    },
    {
     "cell_type": "code",
     "collapsed": false,
     "input": [
      "def reverseLookup(cfg,rLocs):\n",
      "    try:\n",
      "        last = cfg['extras']['last']\n",
      "    except:\n",
      "        last = dict()\n",
      "    distances = dict()\n",
      "    data = []\n",
      "    destinations = rLocs+cfg['extras']['permanent']\n",
      "    for pt in destinations:\n",
      "        key = srt(pt)\n",
      "        try:\n",
      "            distances[key] = last[key]\n",
      "        except:\n",
      "                distances[key] = nx.single_source_dijkstra_path_length(cfg['extras']['network'],key)\n",
      "                print distances\n",
      "                print pt, \"appears to be solitary\"\n",
      "    for pt in cfg['extras']['occupied']:\n",
      "        trips = set()\n",
      "        key = str(pt)\n",
      "        for destination in destinations:\n",
      "            try:\n",
      "                trips.add(destination[key])\n",
      "            except:\n",
      "                None\n",
      "        data.append(min(trips))\n",
      "    cfg['extras']['last'] = destinations\n",
      "    return data                                                              "
     ],
     "language": "python",
     "metadata": {},
     "outputs": [],
     "prompt_number": 112
    },
    {
     "cell_type": "code",
     "collapsed": false,
     "input": [
      "def getStats(pLocs,rLocs,cfg):\n",
      "    \"\"\"Return distance stats\"\"\"\n",
      "    if cfg['threads'] != 1:\n",
      "        mgr = Manager(); cfgP = mgr.dict(cfg)\n",
      "        out_q = Queue()\n",
      "        \n",
      "        block = int(ceil(len(cfg['extras']['occupied'])/float(cfg['threads'])))\n",
      "        processes = []; distances = []\n",
      "\n",
      "        for i in range(cfg['threads']):\n",
      "            p = Process(target = statsProc, args = (pLocs,rLocs,cfgP,i,cfg['extras']['occupied'][block*i:block*(i+1)],out_q))\n",
      "            processes.append(p)\n",
      "            p.start()\n",
      "            merged = {}\n",
      "        for i in range(cfg['threads']):\n",
      "            merged.update(out_q.get())\n",
      "        for p in processes:\n",
      "            p.join()\n",
      "        for i in range(cfg['threads']):\n",
      "            distances += merged[i]\n",
      "        cfg = dict(cfgP.items())\n",
      "            \n",
      "    else:\n",
      "        if cfg['distMethod'] != 'reverse':\n",
      "            distances = [getClosest(pt,rLocs,cfg) for pt in cfg['extras']['occupied']]\n",
      "        else:\n",
      "            distances = reverseLookup(cfg,rLocs)\n",
      "        \n",
      "    if cfg['population'] == 'discrete':\n",
      "        return {'max':max(distances),\n",
      "                'min':min(distances),\n",
      "                'mean':mean(distances),\n",
      "                'std':std(distances)}\n",
      "    else:\n",
      "        weights = [pLocs[pt[0]][pt[1]] for pt in cfg['extras']['occupied']]\n",
      "        mean = average(distances, weights=weights)\n",
      "        return {'max':max(distances),\n",
      "                'min':min(distances),\n",
      "                'mean':mean,\n",
      "                'std':pow(average((distances-mean)**2, weights=weights),0.5)}"
     ],
     "language": "python",
     "metadata": {},
     "outputs": [],
     "prompt_number": 36
    },
    {
     "cell_type": "heading",
     "level": 3,
     "metadata": {},
     "source": [
      "Plot Generation"
     ]
    },
    {
     "cell_type": "code",
     "collapsed": false,
     "input": [
      "def mapTransparency(grid,coloredGrid):\n",
      "    temp = deepcopy(coloredGrid)\n",
      "    maxVal = max([max(row) for row in grid])\n",
      "    for i in range(len(temp)):\n",
      "        for j in range(len(temp[0])):\n",
      "            \n",
      "            temp[i][j][3] = pow((float(grid[i][j])/maxVal),.30)\n",
      "    return temp\n",
      "\n",
      "\n",
      "def mapColors(grid,level,cmap):\n",
      "    cNorm = colors.Normalize(vmin=0, vmax=level)\n",
      "    scalarMap = cm.ScalarMappable(norm=cNorm, cmap=cmap)\n",
      "    if type(grid) is list:\n",
      "        temp = array(grid).tolist()\n",
      "    else:\n",
      "        temp = grid.tolist()\n",
      "    for x in range(len(grid)):\n",
      "        for y in range(len(grid[0])):\n",
      "            temp[x][y] = list(scalarMap.to_rgba(float(grid[x][y])))\n",
      "    return temp\n",
      "\n",
      "\n",
      "def pltLocs(pLocs,rLocs,cfg,stats='null',\n",
      "            title='null',\n",
      "            call='null',\n",
      "            cmap ='autumn_r', \n",
      "            cmap2 = 'spring',\n",
      "            transpose = True,\n",
      "            popAlpha = 1):\n",
      "    if call == 'animate':\n",
      "        plt.clf()\n",
      "    else:\n",
      "        fig = plt.figure(figsize=(7,7))\n",
      "    \n",
      "    \n",
      "    if cfg['travel'] == 'network':\n",
      "        plt.imshow(cfg['extras']['lakes'],cmap=cmap,interpolation='nearest',alpha =0.7)\n",
      "        plt.xlim(0,len(cfg['extras']['lakes'][0]))\n",
      "        plt.ylim(0,len(cfg['extras']['lakes']))\n",
      "    else:\n",
      "        plt.xlim(0,max([entry[0] for entry in cfg['extra']['occupied']]))\n",
      "        plt.ylim(0,max([entry[1] for entry in cfg['extra']['occupied']]))\n",
      "    if cfg['population'] == 'discrete':\n",
      "        pX,pY = getPts(pLocs)\n",
      "        plt.scatter(pY,pX, s=2, c='black', alpha=0.25)\n",
      "    else:\n",
      "        colorized = mapColors(pLocs,1,cmap2)\n",
      "        colorized = mapTransparency(pLocs,colorized)\n",
      "        plt.imshow(colorized,cmap=cmap2,interpolation='nearest',zorder=2,alpha = popAlpha)\n",
      "    rX,rY = getPts(rLocs)\n",
      "    plt.scatter(rY,rX, s=150, c='red', alpha=1, zorder=3)\n",
      "    bX,bY = getPts(cfg['extras']['permanent'])\n",
      "    plt.scatter(bY,bX, s=150, c='blue', alpha=1, zorder=3)\n",
      "    cfg['extras']['permanent']\n",
      "    if title != 'null':\n",
      "        plt.title(title)\n",
      "    if stats != 'null':\n",
      "        plt.xlabel('Mean Distance: %s\\nMax Distance: %s\\nStd Dev: %s' % (stats['mean'],stats['max'],stats['std']))\n",
      "    if call != 'animate':\n",
      "        plt.show()\n",
      "    return plt"
     ],
     "language": "python",
     "metadata": {},
     "outputs": [],
     "prompt_number": 31
    },
    {
     "cell_type": "heading",
     "level": 3,
     "metadata": {},
     "source": [
      "Starting Conditions"
     ]
    },
    {
     "cell_type": "code",
     "collapsed": false,
     "input": [
      "pltLocs(pLocs,rLocs,cfg,cmap='Greys_r',cmap2='autumn_r', transpose = True, popAlpha = 1)"
     ],
     "language": "python",
     "metadata": {},
     "outputs": [
      {
       "metadata": {},
       "output_type": "display_data",
       "png": "[encoded data removed]",
       "text": [
        "<matplotlib.figure.Figure at 0x116052d50>"
       ]
      },
      {
       "metadata": {},
       "output_type": "pyout",
       "prompt_number": 32,
       "text": [
        "<module 'matplotlib.pyplot' from '/Library/Python/2.7/site-packages/matplotlib/pyplot.pyc'>"
       ]
      }
     ],
     "prompt_number": 32
    },
    {
     "cell_type": "code",
     "collapsed": false,
     "input": [
      "if not fromPickle:\n",
      "    pickleOut = open('networkFull.pickle',\"wb\")\n",
      "    cPickle.dump({'network':cfg['extras']['network'],'map':cfg['extras']['lakes'],'towns':cfg['extras']['occupied']}, pickleOut)\n",
      "    pickleOut.close()\n",
      "    print \"Pickle dump complete\""
     ],
     "language": "python",
     "metadata": {},
     "outputs": [
      {
       "output_type": "stream",
       "stream": "stdout",
       "text": [
        "Pickle dump complete\n"
       ]
      }
     ],
     "prompt_number": 33
    },
    {
     "cell_type": "heading",
     "level": 3,
     "metadata": {},
     "source": [
      "Denaturing Algorithm"
     ]
    },
    {
     "cell_type": "code",
     "collapsed": false,
     "input": [
      "def denature(pLocs,rLocs,size,meanTilt,cfg,\n",
      "             tracker=[],\n",
      "             stopLimit = 50,\n",
      "             timeLimit = 20000,\n",
      "             showEvery = 25,\n",
      "             best = 10000000,\n",
      "             bestStats=dict()):\n",
      "    \n",
      "    \"\"\"Randomly replaces 1 to n/2 resource locations and keeps if new solution scores better\"\"\"\n",
      "    n = len(rLocs)\n",
      "    gen = 0\n",
      "    scores = []\n",
      "    bestStats = dict()\n",
      "    t1 = datetime.datetime.now()\n",
      "    while len(scores)<stopLimit or len(set(scores[-stopLimit:])) != 1:\n",
      "        newLocs = deepcopy(rLocs)\n",
      "        ids = sample(range(n),randint(1,int(n/2.+.5)))\n",
      "        for x in ids:\n",
      "            loc = [randint(0,size-1),randint(0,size-1)]\n",
      "            if cfg['inCityD']:\n",
      "                loc = choice(cfg['extras']['occupied'])\n",
      "            else:\n",
      "                loc = [randint(0,size-1),randint(0,size-1)]\n",
      "            newLocs[x] = loc\n",
      "        stats = getStats(pLocs,newLocs,cfg)\n",
      "        score = stats['mean']*meanTilt + stats['max']*(1-meanTilt)\n",
      "        if best > score:\n",
      "            rLocs = deepcopy(newLocs); bestStats = deepcopy(stats)\n",
      "            best = score\n",
      "            tracker.append({'gen':'Denature %s' % gen,'score':score,'stats':deepcopy(stats),'pts':deepcopy(rLocs)})\n",
      "        if gen%showEvery == 0:\n",
      "            print \"Best: %s   Uni: %s   Gen: %s   Mean: %s   Max: %s   Std: %s   Time: %s\" % (best,\n",
      "                                                                   len(set(scores[-stopLimit:])),\n",
      "                                                                   gen,bestStats['mean'],\n",
      "                                                                   bestStats['max'],\n",
      "                                                                   bestStats['std'],\n",
      "                                                                   (datetime.datetime.now()-t1).seconds)\n",
      "        if gen%(showEvery*20) == 0:\n",
      "            pltLocs(pLocs,rLocs,cfg,bestStats,title='Denaturer Gen %s Optimal Placement' % gen)\n",
      "        if gen == timeLimit:\n",
      "            break\n",
      "        scores.append(best)\n",
      "        gen += 1\n",
      "    if gen == timeLimit:\n",
      "        print \"\\nGeneration limit reached after %s generations\" % timeLimit\n",
      "    else:\n",
      "        print \"\\nStable solution found at generation %s and maintained for %s generations\" % (gen-stopLimit,stopLimit)\n",
      "    pltLocs(pLocs,rLocs,cfg,bestStats,title='Gen %s Optimal Placement' % gen)\n",
      "    print len(tracker), \"improvements made\"\n",
      "    return rLocs,tracker,best,bestStats"
     ],
     "language": "python",
     "metadata": {},
     "outputs": [],
     "prompt_number": 34
    },
    {
     "cell_type": "heading",
     "level": 3,
     "metadata": {},
     "source": [
      "Hill Climber Algorithm"
     ]
    },
    {
     "cell_type": "code",
     "collapsed": false,
     "input": [
      "def climb(pLocs,rLocs,size,meanTilt,cfg,\n",
      "             tracker=[],\n",
      "             stopLimit = 50,\n",
      "             timeLimit = 20000,\n",
      "             showEvery = 25,\n",
      "             best = 10000000,\n",
      "             bestStats=dict()):\n",
      "    \"\"\"Randomly nudges 1 to n/2 resources locations and keeps if new solution is better\"\"\"\n",
      "    n = len(rLocs)\n",
      "    gen = 0\n",
      "    scores = []\n",
      "    t1 = datetime.datetime.now()\n",
      "    while len(scores)<stopLimit or len(set(scores[-stopLimit:])) != 1:\n",
      "        newLocs = deepcopy(rLocs)\n",
      "        ids = sample(range(n),randint(1,int(n/2.+.5)))\n",
      "        for x in ids:\n",
      "            if cfg['inCityH']:\n",
      "                loc = choice(cfg['extras']['neighbors'][x])\n",
      "            else:\n",
      "                loc = [rLocs[x][0]+randint(-cfg['wander'],cfg['wander']),rLocs[x][1]+randint(-cfg['wander'],cfg['wander'])]\n",
      "            newLocs[x] = loc\n",
      "        stats = getStats(pLocs,newLocs,cfg)\n",
      "        score = stats['mean']*meanTilt + stats['max']*(1-meanTilt)\n",
      "        if best > score:\n",
      "            rLocs = deepcopy(newLocs); bestStats = deepcopy(stats)\n",
      "            best = score\n",
      "            tracker.append({'gen':'Hill Climber %s' % gen,'score':score,'stats':deepcopy(stats),'pts':deepcopy(rLocs)})\n",
      "        if gen%showEvery == 0:\n",
      "            print \"Best: %s   Uni: %s   Gen: %s   Mean: %s   Max: %s   Std: %s   Time: %s\" % (best,\n",
      "                                                                   len(set(scores[-stopLimit:])),\n",
      "                                                                   gen,bestStats['mean'],\n",
      "                                                                   bestStats['max'],\n",
      "                                                                   bestStats['std'],\n",
      "                                                                   (datetime.datetime.now()-t1).seconds)\n",
      "        if gen%(showEvery*20) == 0:\n",
      "            pltLocs(pLocs,rLocs,cfg,bestStats,title='Hill Climber Gen %s Optimal Placement' % gen)\n",
      "        if gen == timeLimit:\n",
      "            break\n",
      "        scores.append(best)\n",
      "        gen += 1\n",
      "    if gen == timeLimit:\n",
      "        print \"\\nGeneration limit reached after %s generations\" % timeLimit\n",
      "    else:\n",
      "        print \"\\nStable solution found at generation %s and maintained for %s generations\" % (gen-stopLimit,stopLimit)\n",
      "    pltLocs(pLocs,rLocs,cfg,bestStats,title='Gen %s Optimal Placement' % gen)\n",
      "    print len(tracker), \"improvements made\"    \n",
      "    return rLocs,tracker,best,bestStats"
     ],
     "language": "python",
     "metadata": {},
     "outputs": [],
     "prompt_number": 22
    },
    {
     "cell_type": "heading",
     "level": 3,
     "metadata": {},
     "source": [
      "Experiment Results"
     ]
    },
    {
     "cell_type": "code",
     "collapsed": false,
     "input": [
      "#print set(cfg['extras']['distgrid'].values())"
     ],
     "language": "python",
     "metadata": {},
     "outputs": [],
     "prompt_number": 23
    },
    {
     "cell_type": "code",
     "collapsed": false,
     "input": [
      "#Denature until stable solution is maintained for 30000 generations\n",
      "stagnantLimit = 2000\n",
      "best = 10000000\n",
      "showEvery = 2\n",
      "cfg['threads'] = 1\n",
      "\n",
      "rLocs,tracker,best,bestStats = denature(pLocs,rLocs,size,meanTilt,cfg,\n",
      "                              stopLimit = stagnantLimit,\n",
      "                              timeLimit = 'null',\n",
      "                              showEvery = showEvery,\n",
      "                              best = best)"
     ],
     "language": "python",
     "metadata": {},
     "outputs": [
      {
       "ename": "TypeError",
       "evalue": "unhashable type: 'list'",
       "output_type": "pyerr",
       "traceback": [
        "\u001b[0;31m---------------------------------------------------------------------------\u001b[0m\n\u001b[0;31mTypeError\u001b[0m                                 Traceback (most recent call last)",
        "\u001b[0;32m<ipython-input-113-1d4afe8bbeef>\u001b[0m in \u001b[0;36m<module>\u001b[0;34m()\u001b[0m\n\u001b[1;32m      9\u001b[0m                               \u001b[0mtimeLimit\u001b[0m \u001b[0;34m=\u001b[0m \u001b[0;34m'null'\u001b[0m\u001b[0;34m,\u001b[0m\u001b[0;34m\u001b[0m\u001b[0m\n\u001b[1;32m     10\u001b[0m                               \u001b[0mshowEvery\u001b[0m \u001b[0;34m=\u001b[0m \u001b[0mshowEvery\u001b[0m\u001b[0;34m,\u001b[0m\u001b[0;34m\u001b[0m\u001b[0m\n\u001b[0;32m---> 11\u001b[0;31m                               best = best)\n\u001b[0m",
        "\u001b[0;32m<ipython-input-34-333ed2187239>\u001b[0m in \u001b[0;36mdenature\u001b[0;34m(pLocs, rLocs, size, meanTilt, cfg, tracker, stopLimit, timeLimit, showEvery, best, bestStats)\u001b[0m\n\u001b[1;32m     23\u001b[0m                 \u001b[0mloc\u001b[0m \u001b[0;34m=\u001b[0m \u001b[0;34m[\u001b[0m\u001b[0mrandint\u001b[0m\u001b[0;34m(\u001b[0m\u001b[0;36m0\u001b[0m\u001b[0;34m,\u001b[0m\u001b[0msize\u001b[0m\u001b[0;34m-\u001b[0m\u001b[0;36m1\u001b[0m\u001b[0;34m)\u001b[0m\u001b[0;34m,\u001b[0m\u001b[0mrandint\u001b[0m\u001b[0;34m(\u001b[0m\u001b[0;36m0\u001b[0m\u001b[0;34m,\u001b[0m\u001b[0msize\u001b[0m\u001b[0;34m-\u001b[0m\u001b[0;36m1\u001b[0m\u001b[0;34m)\u001b[0m\u001b[0;34m]\u001b[0m\u001b[0;34m\u001b[0m\u001b[0m\n\u001b[1;32m     24\u001b[0m             \u001b[0mnewLocs\u001b[0m\u001b[0;34m[\u001b[0m\u001b[0mx\u001b[0m\u001b[0;34m]\u001b[0m \u001b[0;34m=\u001b[0m \u001b[0mloc\u001b[0m\u001b[0;34m\u001b[0m\u001b[0m\n\u001b[0;32m---> 25\u001b[0;31m         \u001b[0mstats\u001b[0m \u001b[0;34m=\u001b[0m \u001b[0mgetStats\u001b[0m\u001b[0;34m(\u001b[0m\u001b[0mpLocs\u001b[0m\u001b[0;34m,\u001b[0m\u001b[0mnewLocs\u001b[0m\u001b[0;34m,\u001b[0m\u001b[0mcfg\u001b[0m\u001b[0;34m)\u001b[0m\u001b[0;34m\u001b[0m\u001b[0m\n\u001b[0m\u001b[1;32m     26\u001b[0m         \u001b[0mscore\u001b[0m \u001b[0;34m=\u001b[0m \u001b[0mstats\u001b[0m\u001b[0;34m[\u001b[0m\u001b[0;34m'mean'\u001b[0m\u001b[0;34m]\u001b[0m\u001b[0;34m*\u001b[0m\u001b[0mmeanTilt\u001b[0m \u001b[0;34m+\u001b[0m \u001b[0mstats\u001b[0m\u001b[0;34m[\u001b[0m\u001b[0;34m'max'\u001b[0m\u001b[0;34m]\u001b[0m\u001b[0;34m*\u001b[0m\u001b[0;34m(\u001b[0m\u001b[0;36m1\u001b[0m\u001b[0;34m-\u001b[0m\u001b[0mmeanTilt\u001b[0m\u001b[0;34m)\u001b[0m\u001b[0;34m\u001b[0m\u001b[0m\n\u001b[1;32m     27\u001b[0m         \u001b[0;32mif\u001b[0m \u001b[0mbest\u001b[0m \u001b[0;34m>\u001b[0m \u001b[0mscore\u001b[0m\u001b[0;34m:\u001b[0m\u001b[0;34m\u001b[0m\u001b[0m\n",
        "\u001b[0;32m<ipython-input-36-6ea0f7238310>\u001b[0m in \u001b[0;36mgetStats\u001b[0;34m(pLocs, rLocs, cfg)\u001b[0m\n\u001b[1;32m     25\u001b[0m             \u001b[0mdistances\u001b[0m \u001b[0;34m=\u001b[0m \u001b[0;34m[\u001b[0m\u001b[0mgetClosest\u001b[0m\u001b[0;34m(\u001b[0m\u001b[0mpt\u001b[0m\u001b[0;34m,\u001b[0m\u001b[0mrLocs\u001b[0m\u001b[0;34m,\u001b[0m\u001b[0mcfg\u001b[0m\u001b[0;34m)\u001b[0m \u001b[0;32mfor\u001b[0m \u001b[0mpt\u001b[0m \u001b[0;32min\u001b[0m \u001b[0mcfg\u001b[0m\u001b[0;34m[\u001b[0m\u001b[0;34m'extras'\u001b[0m\u001b[0;34m]\u001b[0m\u001b[0;34m[\u001b[0m\u001b[0;34m'occupied'\u001b[0m\u001b[0;34m]\u001b[0m\u001b[0;34m]\u001b[0m\u001b[0;34m\u001b[0m\u001b[0m\n\u001b[1;32m     26\u001b[0m         \u001b[0;32melse\u001b[0m\u001b[0;34m:\u001b[0m\u001b[0;34m\u001b[0m\u001b[0m\n\u001b[0;32m---> 27\u001b[0;31m             \u001b[0mdistances\u001b[0m \u001b[0;34m=\u001b[0m \u001b[0mreverseLookup\u001b[0m\u001b[0;34m(\u001b[0m\u001b[0mcfg\u001b[0m\u001b[0;34m,\u001b[0m\u001b[0mrLocs\u001b[0m\u001b[0;34m)\u001b[0m\u001b[0;34m\u001b[0m\u001b[0m\n\u001b[0m\u001b[1;32m     28\u001b[0m \u001b[0;34m\u001b[0m\u001b[0m\n\u001b[1;32m     29\u001b[0m     \u001b[0;32mif\u001b[0m \u001b[0mcfg\u001b[0m\u001b[0;34m[\u001b[0m\u001b[0;34m'population'\u001b[0m\u001b[0;34m]\u001b[0m \u001b[0;34m==\u001b[0m \u001b[0;34m'discrete'\u001b[0m\u001b[0;34m:\u001b[0m\u001b[0;34m\u001b[0m\u001b[0m\n",
        "\u001b[0;32m<ipython-input-112-1fba39d9f09c>\u001b[0m in \u001b[0;36mreverseLookup\u001b[0;34m(cfg, rLocs)\u001b[0m\n\u001b[1;32m     11\u001b[0m             \u001b[0mdistances\u001b[0m\u001b[0;34m[\u001b[0m\u001b[0mpt\u001b[0m\u001b[0;34m]\u001b[0m \u001b[0;34m=\u001b[0m \u001b[0mlast\u001b[0m\u001b[0;34m[\u001b[0m\u001b[0mpt\u001b[0m\u001b[0;34m]\u001b[0m\u001b[0;34m\u001b[0m\u001b[0m\n\u001b[1;32m     12\u001b[0m         \u001b[0;32mexcept\u001b[0m\u001b[0;34m:\u001b[0m\u001b[0;34m\u001b[0m\u001b[0m\n\u001b[0;32m---> 13\u001b[0;31m                 \u001b[0mdistances\u001b[0m\u001b[0;34m[\u001b[0m\u001b[0mpt\u001b[0m\u001b[0;34m]\u001b[0m \u001b[0;34m=\u001b[0m \u001b[0mnx\u001b[0m\u001b[0;34m.\u001b[0m\u001b[0msingle_source_dijkstra_path_length\u001b[0m\u001b[0;34m(\u001b[0m\u001b[0mcfg\u001b[0m\u001b[0;34m[\u001b[0m\u001b[0;34m'extras'\u001b[0m\u001b[0;34m]\u001b[0m\u001b[0;34m[\u001b[0m\u001b[0;34m'network'\u001b[0m\u001b[0;34m]\u001b[0m\u001b[0;34m,\u001b[0m\u001b[0mstr\u001b[0m\u001b[0;34m(\u001b[0m\u001b[0mpt\u001b[0m\u001b[0;34m)\u001b[0m\u001b[0;34m)\u001b[0m\u001b[0;34m\u001b[0m\u001b[0m\n\u001b[0m\u001b[1;32m     14\u001b[0m                 \u001b[0;32mprint\u001b[0m \u001b[0mdistances\u001b[0m\u001b[0;34m\u001b[0m\u001b[0m\n\u001b[1;32m     15\u001b[0m                 \u001b[0;32mprint\u001b[0m \u001b[0mpt\u001b[0m\u001b[0;34m,\u001b[0m \u001b[0;34m\"appears to be solitary\"\u001b[0m\u001b[0;34m\u001b[0m\u001b[0m\n",
        "\u001b[0;31mTypeError\u001b[0m: unhashable type: 'list'"
       ]
      }
     ],
     "prompt_number": 113
    },
    {
     "cell_type": "code",
     "collapsed": false,
     "input": [
      "#Hill climb until stable solution is maintained for 3000 generations\n",
      "cfg['threads'] = 1\n",
      "stagnantLimit = 4000\n",
      "\n",
      "rLocs,tracker,best,bestStats = climb(pLocs,rLocs,size,meanTilt,cfg,\n",
      "                              stopLimit = stagnantLimit,\n",
      "                              timeLimit = 'null',\n",
      "                              showEvery = showEvery,\n",
      "                              best = best,\n",
      "                              bestStats = bestStats,\n",
      "                              tracker = tracker)"
     ],
     "language": "python",
     "metadata": {},
     "outputs": [],
     "prompt_number": "*"
    },
    {
     "cell_type": "code",
     "collapsed": false,
     "input": [
      "def animateMaps(pLocs,tracker,cfg,cmap='gist_earth',cmap2='autumn'):\n",
      "    length = len(tracker)\n",
      "    fig = plt.figure(figsize=(7,7))\n",
      "        \n",
      "    def animate(i):\n",
      "        pltLocs(pLocs,\n",
      "                   tracker[i]['pts'],\n",
      "                   cfg,\n",
      "                   stats=tracker[i]['stats'],\n",
      "                   title='Gen %s Optimal Placement' % tracker[i]['gen'],\n",
      "                   call='animate',\n",
      "                   cmap=cmap\n",
      "                   cmap2=cmap2)\n",
      "    \n",
      "    anim = animation.FuncAnimation(fig,animate,frames=length,interval=200, blit=False)\n",
      "    fileName = 'mapOptimization'\n",
      "    #print \"Generating\", fileName, \"gif animation\"\n",
      "    #anim.save(fileName+'.gif', writer='imagemagick', fps=1)\n",
      "    #sleep(3)\n",
      "    print \"Generating\", fileName, \"mp4 video\"\n",
      "    writer = animation.writers['ffmpeg'](fps=5)\n",
      "    anim.save(fileName+'.mp4',writer=writer,dpi=250)\n",
      "    return anim,fileName"
     ],
     "language": "python",
     "metadata": {},
     "outputs": [],
     "prompt_number": "*"
    },
    {
     "cell_type": "code",
     "collapsed": false,
     "input": [
      "anim,fileName = animateMaps(pLocs,tracker,cfg)\n",
      "#display_animation(anim,fileName)"
     ],
     "language": "python",
     "metadata": {},
     "outputs": [
      {
       "output_type": "stream",
       "stream": "stdout",
       "text": [
        "Generating mapOptimization mp4 video\n"
       ]
      },
      {
       "metadata": {},
       "output_type": "display_data",
       "png": "[encoded data removed]",
       "text": [
        "<matplotlib.figure.Figure at 0x7f1b6ea94d50>"
       ]
      }
     ],
     "prompt_number": "*"
    },
    {
     "cell_type": "raw",
     "metadata": {},
     "source": [
      "\u00a9 2014 James Schlitt"
     ]
    }
   ],
   "metadata": {}
  }
 ]
}