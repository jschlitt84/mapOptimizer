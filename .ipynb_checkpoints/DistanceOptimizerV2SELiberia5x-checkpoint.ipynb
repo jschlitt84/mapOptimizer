{
 "metadata": {
  "name": "",
  "signature": "sha256:c749d68e6aa2668e42e58d4023f0ce72b1a48f40264b4f00911bf553fa1a4d56"
 },
 "nbformat": 3,
 "nbformat_minor": 0,
 "worksheets": [
  {
   "cells": [
    {
     "cell_type": "heading",
     "level": 1,
     "metadata": {},
     "source": [
      "Resource Allocation Distance Optimizer v2"
     ]
    },
    {
     "cell_type": "heading",
     "level": 3,
     "metadata": {},
     "source": [
      "The goal of this program is to find locations for a finite set of resources such that the minimal mean distance from resource to population member is achieved without leaving any members at an excessive distance from the nearest resource."
     ]
    },
    {
     "cell_type": "code",
     "collapsed": false,
     "input": [
      "import matplotlib.pyplot as plt\n",
      "from random import randint, sample, random, choice, uniform\n",
      "from numpy import mean, std, zeros, average, array\n",
      "from copy import deepcopy\n",
      "from numpy.random import rand\n",
      "from multiprocessing import Process, Queue, cpu_count, Manager\n",
      "from math import ceil, sqrt\n",
      "\n",
      "import matplotlib.cm as cm\n",
      "import networkx as nx\n",
      "import datetime\n",
      "import matplotlib.colors as colors\n",
      "import pymongo as pm\n",
      "\n",
      "from numpy import ones,vstack\n",
      "from numpy.linalg import lstsq\n",
      "\n",
      "import cPickle\n",
      "\n",
      "%matplotlib inline"
     ],
     "language": "python",
     "metadata": {},
     "outputs": [],
     "prompt_number": 17
    },
    {
     "cell_type": "heading",
     "level": 3,
     "metadata": {},
     "source": [
      "Animation enabled"
     ]
    },
    {
     "cell_type": "code",
     "collapsed": false,
     "input": [
      "import matplotlib.animation as animation\n",
      "from IPython.display import HTML\n",
      "\n",
      "#Animating via tutorial at:\n",
      "#http://jakevdp.github.io/blog/2013/05/12/embedding-matplotlib-animations/\n",
      "\n",
      "VIDEO_TAG = \"\"\"<video width=\"1024\" height=\"768\" controls>\n",
      " <source src=\"data:video/x-m4v;base64,{0}\" type=\"video/mp4\">\n",
      " Your browser does not support the video tag.\n",
      "</video>\"\"\"\n",
      "\n",
      "def display_animation(anim,fileName):\n",
      "    print \"Preparing to render video in notebook...\"\n",
      "    plt.close(anim._fig)\n",
      "    return HTML(anim_to_html(anim,fileName))\n",
      "\n",
      "def anim_to_html(anim,fileName):\n",
      "    fileName = fileName+'.mp4'\n",
      "    video = open(fileName, \"rb\").read()\n",
      "    anim._encoded_video = video.encode(\"base64\")\n",
      "    \n",
      "    return VIDEO_TAG.format(anim._encoded_video)"
     ],
     "language": "python",
     "metadata": {},
     "outputs": [],
     "prompt_number": 18
    },
    {
     "cell_type": "heading",
     "level": 3,
     "metadata": {},
     "source": [
      "Experiment Globals"
     ]
    },
    {
     "cell_type": "code",
     "collapsed": false,
     "input": [
      "meanTilt = 0.80 #Score = tilt* mean distance + (1-tilt)* max distance\n",
      "figSize = 10\n",
      "nResource = 5\n",
      "\n",
      "cfg = {'travel':'network',\n",
      "           'distance':'manhattan',\n",
      "           'population':'density',\n",
      "           'obstacles':0.2,\n",
      "           'extras':dict(),\n",
      "           'precision':'int',\n",
      "           'penalty':size*2,\n",
      "           'wander':3,\n",
      "           'inCityD':True,\n",
      "           'inCityH':False,\n",
      "           'threads':1,\n",
      "           'landFill':1,\n",
      "           'roadLimit':1.1,\n",
      "           'roadTimes':[0.5,0.3,0.1],\n",
      "           'roads':3,\n",
      "           'permanent':False,\n",
      "           'pickledRun':'network.pickle',\n",
      "           'pickledDist':'network.pickle',\n",
      "           'resourceFile':False,\n",
      "           'populationFile':'SELiberiaFiles/population.txt',\n",
      "           'roadFile':'SELiberiaFiles/network.txt',\n",
      "           'exclusionFile':'SELiberiaFiles/candidates.txt',\n",
      "           'useDB':'EbolaMonroviaFull',\n",
      "           'filterAccessible':False,\n",
      "           'trimRadius':20,\n",
      "           'sparsifyX':False,\n",
      "           'sparsifyY':False,\n",
      "           'sparsifyLimit':1,\n",
      "           'distMethod':'reverse'}\n",
      "\n",
      "cfg['extras'] = {'permanent':[]}\n",
      "\n",
      "cfg['pickledRun'] = False\n",
      "cfg['pickledDist'] = False\n",
      "#cfg['resourceFile']='SELiberiaFiles/hospitals.txt',\n",
      "\n",
      "\n",
      "#Travel modes = crow or path\n",
      "#Population modes = density or discrete\n",
      "#Obstacles = odds of obstructed point on network map"
     ],
     "language": "python",
     "metadata": {},
     "outputs": [],
     "prompt_number": 19
    },
    {
     "cell_type": "code",
     "collapsed": false,
     "input": [
      "fromFile = False\n",
      "\n",
      "def importFile(ref,mapper = 'null',limit='null'):\n",
      "    paramDict = dict()\n",
      "    fileIn = open(ref)\n",
      "    content = [line.replace('\\n','').replace('\\t',' ').replace('\\r','').replace('  ',' ') for line in fileIn.readlines()]\n",
      "    fileIn.close()\n",
      "    dLen = max([len(line) for line in content])\n",
      "    params = [entry for entry in content if len(entry) < (.5*dLen)]\n",
      "    entries = [entry.split(' ') for entry in content if len(entry) >= (.5*dLen)]\n",
      "    entries = [[entry for entry in row if entry != ''] for row in entries]\n",
      "    for i in range(len(params)):\n",
      "        entry = params[i].replace('\\t',' ')\n",
      "        while '  ' in entry:\n",
      "            entry = entry.replace('  ', ' ')\n",
      "        temp = entry.split(' ')\n",
      "        try:\n",
      "            paramDict[temp[0]] = float(temp[1])\n",
      "        except:\n",
      "            try:\n",
      "                paramDict[temp[0]] = temp[1]\n",
      "            except:\n",
      "                None\n",
      "    xLen = len(entries)\n",
      "    yLen = len(entries[0])\n",
      "    print 'x:',xLen,'y:',yLen\n",
      "    print paramDict\n",
      "    if mapper != 'null':\n",
      "        try:\n",
      "            entries = [[mapper[entry] for entry in row] for row in reversed(entries)]\n",
      "        except:\n",
      "            entries = [[mapper[float(entry)] for entry in row] for row in reversed(entries)]\n",
      "    else:\n",
      "        entries = [[float(entry) for entry in row] for row in reversed(entries)]\n",
      "    if limit != 'null':\n",
      "        for x in range(xLen):\n",
      "            for y in range(yLen):\n",
      "                if entries[x][y]<limit:\n",
      "                    entries[x][y] = 0\n",
      "    return entries\n",
      "\n",
      "\n",
      "if cfg['resourceFile'] != False or cfg['populationFile'] != False or cfg['roadFile'] != False:\n",
      "    fromFile = True\n",
      "    roadMapper = {-9999.0:-1,1:0.03333} #60mph hwy, 20mph local, 2mph offroad\n",
      "    roads = importFile(cfg['roadFile'],mapper=roadMapper)\n",
      "    population = importFile(cfg['populationFile'],limit=2)\n",
      "    cfg['extras']['exclude'] = importFile(cfg['exclusionFile'])\n",
      "    resourceList = []\n",
      "    if cfg['resourceFile'] != False:\n",
      "        resources = importFile(cfg['resourceFile'])\n",
      "        for x in range(xSize):\n",
      "            for y in range(ySize):\n",
      "                if resources[x][y] != 0:\n",
      "                    resourceList.append([x,y])\n",
      "    print \"Number of resources:\",len(resourceList)\n",
      "    cfg['xSize'] = xSize = len(population)\n",
      "    cfg['ySize'] = ySize = len(population[0])\n",
      "    \n",
      "print \"From file:\", fromFile\n",
      "#for pos in range(10):\n",
      "#    print pos, len(extract(population,pos,99999))"
     ],
     "language": "python",
     "metadata": {},
     "outputs": [
      {
       "output_type": "stream",
       "stream": "stdout",
       "text": [
        "x: 259 y: 284\n",
        "{'ncols': 284.0, 'cellsize': 0.00833333333333, 'nrows': 259.0, 'xllcorner': -9.741109753912, 'yllcorner': 4.350000000048, 'NODATA_value': -9999.0}\n",
        "x: 176 y: 284\n",
        "{'14': 13.0, 'ncols': 284.0, '-9999': -9999.0, 'cellsize': 0.0083333333333299, 'nrows': 259.0, '3': 7.0, '4': 10.0, 'xllcorner': -9.741109753912, 'yllcorner': 4.350000000048, 'NODATA_value': -9999.0}\n",
        "x:"
       ]
      },
      {
       "output_type": "stream",
       "stream": "stdout",
       "text": [
        " 259 y: 284\n",
        "{'ncols': 284.0, 'cellsize': 0.0083333333333299, 'nrows': 259.0, 'xllcorner': -9.741109753912, 'yllcorner': 4.350000000048, 'NODATA_value': -9999.0}\n",
        "Number of resources: 0\n",
        "From file: True\n"
       ]
      }
     ],
     "prompt_number": 20
    },
    {
     "cell_type": "heading",
     "level": 3,
     "metadata": {},
     "source": [
      "Population, Obstacle, and Resource Location Generation"
     ]
    },
    {
     "cell_type": "code",
     "collapsed": false,
     "input": [
      "#Randomly places lake obstacles if network mode is used\n",
      "cfg['extras']['permanent'] = []\n",
      "\n",
      "if cfg['travel'] == 'network' and not fromFile:\n",
      "    lakes = zeros((size,size)); fill = cfg['landFill']\n",
      "    lakes.fill(fill)\n",
      "    if not fromPickle:\n",
      "        for x in range(size/lakeSize):\n",
      "            for y in range(size/lakeSize):\n",
      "                if random() < pLake:\n",
      "                    for i in range(lakeSize):\n",
      "                        for j in range(lakeSize):\n",
      "                            lakes[x*lakeSize+i][y*lakeSize+j] = -1\n",
      "        pLocs = []\n",
      "        for pt in range(nPopulation):\n",
      "            x,y = randint(0,size-1),randint(0,size-1)\n",
      "            while lakes[x][y] != cfg['landFill']:\n",
      "                x,y = randint(0,size-1),randint(0,size-1)\n",
      "            pLocs.append([x,y])\n",
      "        cfg['extras']['lakes'] = lakes\n",
      "    else:\n",
      "        cfg['extras']['lakes'] = runP['map']\n",
      "        pLocs = runP['towns']\n",
      "    if cfg['permanent'] != 0:\n",
      "        perm = []\n",
      "        for pt in range(cfg['permanent']):\n",
      "            x,y = randint(0,size-1),randint(0,size-1)\n",
      "            while cfg['extras']['lakes'][x][y] != cfg['landFill']:\n",
      "                x,y = randint(0,size-1),randint(0,size-1)\n",
      "            perm.append([x,y])\n",
      "        cfg['extras']['permanent'] = perm\n",
      "elif not fromFile:\n",
      "    pLocs = [[randint(0,size-1),randint(0,size-1)] for x in range(nPopulation)]\n",
      "    if cfg['permanent'] != 0:\n",
      "        cfg['extras']['permanent']= [[randint(0,size-1),randint(0,size-1)] for x in range(cfg['permanent'])]\n",
      "\n",
      "\n",
      "#Extract pts from matrix\n",
      "def extract(matrix,minV,maxV):\n",
      "    listed = []\n",
      "    for x in range(len(matrix)):\n",
      "        for y in range(len(matrix[0])):\n",
      "            if matrix[x][y]>minV and matrix[x][y]<maxV:\n",
      "                listed.append([x,y])\n",
      "    return listed        \n",
      "        \n",
      "\n",
      "#If population stored by density, creates density matrix\n",
      "if cfg['population'] == 'density' and not fromFile:\n",
      "    cfg['extras']['occupied'] = pLocs\n",
      "    temp = zeros((size,size))\n",
      "    for i in range(nPopulation):\n",
      "        temp[pLocs[i][0]][pLocs[i][1]] += random()\n",
      "    pLocs = temp\n",
      "elif not fromFile:\n",
      "    cfg['extras']['occupied'] = pLocs\n",
      "            \n",
      "\n",
      "#Extracting point lists from matrices   \n",
      "if cfg['travel'] == 'network' and fromFile:\n",
      "    cfg['extras']['lakes'] = roads\n",
      "    pLocs = population\n",
      "    cfg['extras']['occupied'] = extract(pLocs,0,9999999999999999)\n",
      "    if cfg['resourceFile'] != False:\n",
      "        cfg['extras']['permanent'] = extract(resources,0,999) \n",
      "    \n",
      "\n",
      "#Calculating neighbors if hill climber constrained to populated points    \n",
      "if cfg['inCityH']:\n",
      "    neighbors = []\n",
      "    for i in range(nPopulation):\n",
      "        d = cfg['wander'] + 1\n",
      "        x = cfg['extras']['occupied'][i][0]\n",
      "        y = cfg['extras']['occupied'][i][1]\n",
      "        accessible = [loc for loc in cfg['extras']['occupied'] if loc[0]<(x+d) and loc[0]>(x-d) and loc[1]<(y+d) and loc[1]>(y-d)]\n",
      "        accessible = [loc for loc in accessible if cfg['extras']['exclude'][loc[0]][loc[1]] == 1]\n",
      "        neighbors.append(deepcopy(accessible))\n",
      "        \n",
      "    cfg['extras']['neighbors'] = neighbors\n",
      "    \n",
      "if cfg['inCityD']:\n",
      "    cfg['extras']['postExclusion'] = [loc for loc in cfg['extras']['occupied'] if cfg['extras']['exclude'][loc[0]][loc[1]] == 1]\n",
      "    \n",
      "if cfg['resourceFile'] != False:\n",
      "    print \"Fixed resources:\",extract(resources,0,999)\n",
      "else:\n",
      "    print \"No fixed resources found\""
     ],
     "language": "python",
     "metadata": {},
     "outputs": [
      {
       "output_type": "stream",
       "stream": "stdout",
       "text": [
        "No fixed resources found\n"
       ]
      }
     ],
     "prompt_number": 21
    },
    {
     "cell_type": "code",
     "collapsed": false,
     "input": [
      "#Removing inaccessible locations\n",
      "if cfg['filterAccessible']:\n",
      "    print \"Population filtered by road accessibility\"\n",
      "    cfg['extras']['occupied'] = [i for i in cfg['extras']['occupied'] if cfg['extras']['lakes'][i[0]][i[1]] != -1]\n",
      "#Add low speed roads to occupied pts\n",
      "else:\n",
      "    print \"Speed 1 road network added to populated areas\"\n",
      "    for i in cfg['extras']['occupied']:\n",
      "        if cfg['extras']['lakes'][i[0]][i[1]] == -1:\n",
      "            cfg['extras']['lakes'][i[0]][i[1]] = 1"
     ],
     "language": "python",
     "metadata": {},
     "outputs": [
      {
       "output_type": "stream",
       "stream": "stdout",
       "text": [
        "Speed 1 road network added to populated areas\n"
       ]
      }
     ],
     "prompt_number": 22
    },
    {
     "cell_type": "code",
     "collapsed": false,
     "input": [
      "#Scatters initial set of resources\n",
      "rLocs = [[randint(0,size-1),randint(0,size-1)] for x in range(nResource)]"
     ],
     "language": "python",
     "metadata": {},
     "outputs": [],
     "prompt_number": 23
    },
    {
     "cell_type": "heading",
     "level": 3,
     "metadata": {},
     "source": [
      "Network Population Function for Manhattan Distance Travel"
     ]
    },
    {
     "cell_type": "code",
     "collapsed": false,
     "input": [
      "def getNetwork(cfg,size):\n",
      "    \"\"\"Generates Network for Manhattan Distance Travel\"\"\"\n",
      "    network=nx.Graph()\n",
      "    try:\n",
      "        xSize = cfg['xSize']\n",
      "    except:\n",
      "        xSize = size\n",
      "    try:\n",
      "        ySize = cfg['ySize']\n",
      "    except:\n",
      "        ySize = size\n",
      "\n",
      "    for x in range(xSize-1):\n",
      "        for y in range(ySize):\n",
      "            if cfg['extras']['lakes'][x+1][y] != -1 and cfg['extras']['lakes'][x][y] != -1:\n",
      "                weight = max([cfg['extras']['lakes'][x+1][y],cfg['extras']['lakes'][x][y]])\n",
      "                network.add_edge(str([x+1,y]),str([x,y]),weight = weight)\n",
      "    for x in range(xSize):\n",
      "        for y in range(ySize-1):\n",
      "            if cfg['extras']['lakes'][x][y+1] != -1 and cfg['extras']['lakes'][x][y] != -1:\n",
      "                weight = max([cfg['extras']['lakes'][x][y+1],cfg['extras']['lakes'][x][y]])\n",
      "                network.add_edge(str([x,y+1]),str([x,y]),weight = weight)\n",
      "                \n",
      "    if cfg['roads'] >= 0: \n",
      "        roadV = cfg['roadLimit']\n",
      "        for x in range(xSize-1):\n",
      "            for y in range(ySize-1):\n",
      "                if cfg['extras']['lakes'][x][y] != -1 and cfg['extras']['lakes'][x+1][y+1] != -1:\n",
      "                    if cfg['extras']['lakes'][x][y] < roadV and cfg['extras']['lakes'][x+1][y+1] < roadV:\n",
      "                        weight = max([cfg['extras']['lakes'][x][y],cfg['extras']['lakes'][x+1][y+1]])\n",
      "                        network.add_edge(str([x,y]),str([x+1,y+1]),weight = weight*1.41421356237)\n",
      "        for x in range(1,xSize):\n",
      "            for y in range(ySize-1):\n",
      "                if cfg['extras']['lakes'][x][y] != -1 and cfg['extras']['lakes'][x-1][y+1] != -1: \n",
      "                    if cfg['extras']['lakes'][x][y] < roadV and cfg['extras']['lakes'][x-1][y+1] < roadV:\n",
      "                        weight = max([cfg['extras']['lakes'][x][y],cfg['extras']['lakes'][x-1][y+1]])\n",
      "                        network.add_edge(str([x,y]),str([x-1,y+1]),weight = weight*1.41421356237)\n",
      "                \n",
      "    return network\n",
      "\n",
      "\n",
      "cfg['extras']['network'] = getNetwork(cfg,size)\n",
      "#nx.draw(cfg['extras']['network'])"
     ],
     "language": "python",
     "metadata": {},
     "outputs": [],
     "prompt_number": 24
    },
    {
     "cell_type": "heading",
     "level": 3,
     "metadata": {},
     "source": [
      "Sparsify function reduces resolution for nodes below a reachability threshold for high resolution runs"
     ]
    },
    {
     "cell_type": "code",
     "collapsed": false,
     "input": [
      "def sparsify(network,cfg,pLocs,size,rLocs):\n",
      "    limit = cfg['sparsifyLimit']\n",
      "    newNet = deepcopy(network)\n",
      "    try:\n",
      "        xSize = cfg['xSize']\n",
      "    except:\n",
      "        xSize = size\n",
      "    try:\n",
      "        ySize = cfg['ySize']\n",
      "    except:\n",
      "        ySize = size\n",
      "\n",
      "    destinations = rLocs + cfg['extras']['permanent']\n",
      "    if cfg['sparsifyX']:\n",
      "        for x in range(0,xSize-1,2):\n",
      "            for y in range(ySize):\n",
      "                if cfg['extras']['lakes'][x][y]>=limit and cfg['extras']['lakes'][x+1][y]>=limit and [x+1,y] not in destinations:\n",
      "                    try:\n",
      "                        newNet.remove_node(str([x+1,y]))\n",
      "                        cfg['extras']['lakes'][x+1][y] = -1\n",
      "                        pLocs[x][y] += pLocs[x+1][y]\n",
      "                        pLocs[x+1][y] = 0\n",
      "                        #print \"removing x node\",x,y\n",
      "                    except:\n",
      "                        None\n",
      "                    try:\n",
      "                        #print \"adding x edge\",x,y,x+2,y\n",
      "                        weight = max(cfg['extras']['lakes'][x][y],cfg['extras']['lakes'][x+2][y])\n",
      "                        newNet.add_edge(str([x,y]),str([x+2,y]),weight = 2*weight)\n",
      "                    except:\n",
      "                        None\n",
      "        print \"X Sparsification complete\"\n",
      "    if cfg['sparsifyY']:\n",
      "        for x in range(xSize):\n",
      "            for y in range(0,ySize-1,2):\n",
      "                if cfg['extras']['lakes'][x][y]>=limit and cfg['extras']['lakes'][x][y+1]>=limit and [x,y+1] not in destinations:\n",
      "                    try:\n",
      "                        newNet.remove_node(str([x,y+1]))\n",
      "                        cfg['extras']['lakes'][x][y+1] = -1\n",
      "                        pLocs[x][y] += pLocs[x][y+1]\n",
      "                        pLocs[x][y+1] = 0\n",
      "                        #print \"removing y node\",x,y\n",
      "                    except:\n",
      "                        None\n",
      "                    try:\n",
      "                        #print \"adding y edge\",x,y,x,y+2\n",
      "                        weight = max(cfg['extras']['lakes'][x][y],cfg['extras']['lakes'][x][y+2])\n",
      "                        newNet.add_edge(str([x,y]),str([x,y+2]),weight = 2*weight)\n",
      "                    except:\n",
      "                        None\n",
      "        print \"Y Sparsification complete\"\n",
      "    occupied = extract(pLocs,0,99999)\n",
      "    return newNet,pLocs,occupied,cfg['extras']['lakes']\n",
      "            \n",
      "if cfg['sparsifyY'] or cfg['sparsifyY']:      \n",
      "    cfg['extras']['network'],pLocs,cfg['extras']['occupied'],cfg['extras']['lakes'] = sparsify(netTemp,cfg,pLocs,0,rLocs)"
     ],
     "language": "python",
     "metadata": {},
     "outputs": [],
     "prompt_number": 25
    },
    {
     "cell_type": "code",
     "collapsed": false,
     "input": [
      "def getKey(key1,key2):\n",
      "\tpt1 = key1\n",
      "\tpt2 = listFromStr(key2)\n",
      "\treturn str(rank(pt1[0],pt1[1],pt2[0],pt2[1]))\n",
      "\n",
      "def listFromStr(text):\n",
      "    return [int(entry) for entry in list(text.replace('[','').replace(']','').replace('(','').replace(')','').split(','))]"
     ],
     "language": "python",
     "metadata": {},
     "outputs": [],
     "prompt_number": 26
    },
    {
     "cell_type": "heading",
     "level": 3,
     "metadata": {},
     "source": [
      "Prioritizes Points to Reduce Redundancy"
     ]
    },
    {
     "cell_type": "code",
     "collapsed": false,
     "input": [
      "def rank(x1,y1,x2,y2):\n",
      "    if x1 < x2:\n",
      "        return x1,y1,x2,y2\n",
      "    elif x1 > x2:\n",
      "        return x2,y2,x1,y1\n",
      "    elif y1 < y2:\n",
      "        return x1,y1,x2,y2\n",
      "    else:\n",
      "        return x2,y2,x1,y1"
     ],
     "language": "python",
     "metadata": {},
     "outputs": [],
     "prompt_number": 27
    },
    {
     "cell_type": "heading",
     "level": 3,
     "metadata": {},
     "source": [
      "Reverse Lookup Method, find all distances to a give resource location"
     ]
    },
    {
     "cell_type": "code",
     "collapsed": false,
     "input": [
      "def reverseLookup(cfg,rLocs,pLocs):\n",
      "    try:\n",
      "        last = cfg['extras']['last']\n",
      "    except:\n",
      "        last = dict()\n",
      "    distances = dict()\n",
      "    data = []\n",
      "    weights = []\n",
      "    destinations = rLocs+cfg['extras']['permanent']\n",
      "    destStrings = []\n",
      "    for pt in destinations:\n",
      "        key = str(pt)\n",
      "        try:\n",
      "            distances[key] = last[key]\n",
      "            destStrings.append(key)\n",
      "        except:\n",
      "            try:\n",
      "                distances[key] = nx.single_source_dijkstra_path_length(cfg['extras']['network'],key)\n",
      "                destStrings.append(key)\n",
      "            except:\n",
      "                None\n",
      "                #print pt, \"appears to be solitary\"\n",
      "    for pt in cfg['extras']['occupied']:\n",
      "        trips = set()\n",
      "        key = str(pt)\n",
      "        for dest in destStrings:\n",
      "            try:\n",
      "                trips.add(distances[dest][key])\n",
      "            except:\n",
      "                None\n",
      "        if len(trips) != 0:\n",
      "            data.append(min(trips))\n",
      "            weights.append(pLocs[pt[0]][pt[1]])\n",
      "    cfg['extras']['last'] = destinations\n",
      "    #print average(data)\n",
      "    #print distances.items()[0]\n",
      "    return data, weights                                                             "
     ],
     "language": "python",
     "metadata": {},
     "outputs": [],
     "prompt_number": 28
    },
    {
     "cell_type": "heading",
     "level": 3,
     "metadata": {},
     "source": [
      "Worker Functions"
     ]
    },
    {
     "cell_type": "code",
     "collapsed": false,
     "input": [
      "def getPts(locs):\n",
      "    \"\"\"Converts pt list to plotable format\"\"\"\n",
      "    ptsX = [pt[0] for pt in locs]\n",
      "    ptsY = [pt[1] for pt in locs]\n",
      "    return ptsX,ptsY"
     ],
     "language": "python",
     "metadata": {},
     "outputs": [],
     "prompt_number": 29
    },
    {
     "cell_type": "code",
     "collapsed": false,
     "input": [
      "def getStats(pLocs,rLocs,cfg):\n",
      "    \"\"\"Return distance stats\"\"\"\n",
      "    if cfg['threads'] != 1:\n",
      "        mgr = Manager(); cfgP = mgr.dict(cfg)\n",
      "        out_q = Queue()\n",
      "        \n",
      "        block = int(ceil(len(cfg['extras']['occupied'])/float(cfg['threads'])))\n",
      "        processes = []; distances = []\n",
      "\n",
      "        for i in range(cfg['threads']):\n",
      "            p = Process(target = statsProc, args = (pLocs,rLocs,cfgP,i,cfg['extras']['occupied'][block*i:block*(i+1)],out_q))\n",
      "            processes.append(p)\n",
      "            p.start()\n",
      "            merged = {}\n",
      "        for i in range(cfg['threads']):\n",
      "            merged.update(out_q.get())\n",
      "        for p in processes:\n",
      "            p.join()\n",
      "        for i in range(cfg['threads']):\n",
      "            distances += merged[i]\n",
      "        cfg = dict(cfgP.items())\n",
      "            \n",
      "    else:\n",
      "        if cfg['distMethod'] != 'reverse':\n",
      "            distances = [getClosest(pt,rLocs,cfg) for pt in cfg['extras']['occupied']]\n",
      "        else:\n",
      "            distances,weights = reverseLookup(cfg,rLocs,pLocs)\n",
      "        \n",
      "    if cfg['population'] == 'discrete':\n",
      "        return {'max':max(distances),\n",
      "                'min':min(distances),\n",
      "                'mean':mean(distances),\n",
      "                'std':std(distances)}\n",
      "    else:\n",
      "        if cfg['distMethod'] != 'reverse':\n",
      "            weights = [pLocs[pt[0]][pt[1]] for pt in cfg['extras']['occupied']]\n",
      "        mean = average(distances, weights=weights)\n",
      "        return {'max':max(distances),\n",
      "                'min':min(distances),\n",
      "                'mean':mean,\n",
      "                'std':pow(average((distances-mean)**2, weights=weights),0.5)}"
     ],
     "language": "python",
     "metadata": {},
     "outputs": [],
     "prompt_number": 30
    },
    {
     "cell_type": "heading",
     "level": 3,
     "metadata": {},
     "source": [
      "Plot Generation"
     ]
    },
    {
     "cell_type": "code",
     "collapsed": false,
     "input": [
      "def mapTransparency(grid,coloredGrid):\n",
      "    temp = deepcopy(coloredGrid)\n",
      "    maxVal = max([max(row) for row in grid])\n",
      "    for i in range(len(temp)):\n",
      "        for j in range(len(temp[0])):\n",
      "            \n",
      "            temp[i][j][3] = pow((float(grid[i][j])/maxVal),.30)\n",
      "    return temp\n",
      "\n",
      "\n",
      "def mapColors(grid,level,cmap):\n",
      "    cNorm = colors.Normalize(vmin=0, vmax=level)\n",
      "    scalarMap = cm.ScalarMappable(norm=cNorm, cmap=cmap)\n",
      "    if type(grid) is list:\n",
      "        temp = array(grid).tolist()\n",
      "    else:\n",
      "        temp = grid.tolist()\n",
      "    for x in range(len(grid)):\n",
      "        for y in range(len(grid[0])):\n",
      "            temp[x][y] = list(scalarMap.to_rgba(float(grid[x][y])))\n",
      "    return temp\n",
      "\n",
      "\n",
      "def pltLocs(pLocs,rLocs,cfg,stats='null',\n",
      "            title='null',\n",
      "            call='null',\n",
      "            cmap ='autumn_r', \n",
      "            cmap2 = 'spring',\n",
      "            transpose = True,\n",
      "            popAlpha = 1):\n",
      "    if call == 'animate':\n",
      "        plt.clf()\n",
      "    else:\n",
      "        fig = plt.figure(figsize=(figSize,figSize))\n",
      "    \n",
      "    \n",
      "    if cfg['travel'] == 'network':\n",
      "        plt.imshow(cfg['extras']['lakes'],cmap=cmap,interpolation='nearest',alpha =0.7)\n",
      "        plt.xlim(0,len(cfg['extras']['lakes'][0]))\n",
      "        plt.ylim(0,len(cfg['extras']['lakes']))\n",
      "    else:\n",
      "        plt.xlim(0,max([entry[0] for entry in cfg['extra']['occupied']]))\n",
      "        plt.ylim(0,max([entry[1] for entry in cfg['extra']['occupied']]))\n",
      "    if cfg['population'] == 'discrete':\n",
      "        pX,pY = getPts(pLocs)\n",
      "        plt.scatter(pY,pX, s=2, c='black', alpha=0.25)\n",
      "    else:\n",
      "        colorized = mapColors(pLocs,1,cmap2)\n",
      "        colorized = mapTransparency(pLocs,colorized)\n",
      "        plt.imshow(colorized,cmap=cmap2,interpolation='nearest',zorder=2,alpha = popAlpha)\n",
      "    rX,rY = getPts(rLocs)\n",
      "    plt.scatter(rY,rX, s=150, c='red', alpha=1, zorder=3)\n",
      "    bX,bY = getPts(cfg['extras']['permanent'])\n",
      "    plt.scatter(bY,bX, s=150, c='blue', alpha=1, zorder=3)\n",
      "    cfg['extras']['permanent']\n",
      "    if title != 'null':\n",
      "        plt.title(title)\n",
      "    if stats != 'null':\n",
      "        plt.xlabel('Mean Travel Time %s\\nMax Travel Time: %s\\nStd Dev: %s' % (stats['mean'],stats['max'],stats['std']))\n",
      "    if call != 'animate':\n",
      "        plt.show()\n",
      "    return plt"
     ],
     "language": "python",
     "metadata": {},
     "outputs": [],
     "prompt_number": 31
    },
    {
     "cell_type": "heading",
     "level": 3,
     "metadata": {},
     "source": [
      "Starting Conditions"
     ]
    },
    {
     "cell_type": "code",
     "collapsed": false,
     "input": [
      "pltLocs(pLocs,rLocs,cfg,cmap='Greys_r',cmap2='autumn_r', transpose = True, popAlpha = 1)"
     ],
     "language": "python",
     "metadata": {},
     "outputs": [
      {
       "metadata": {},
       "output_type": "display_data",
       "png": "[encoded data removed]",
       "text": [
        "<matplotlib.figure.Figure at 0x113085150>"
       ]
      },
      {
       "metadata": {},
       "output_type": "pyout",
       "prompt_number": 32,
       "text": [
        "<module 'matplotlib.pyplot' from '/Library/Python/2.7/site-packages/matplotlib/pyplot.pyc'>"
       ]
      }
     ],
     "prompt_number": 32
    },
    {
     "cell_type": "heading",
     "level": 3,
     "metadata": {},
     "source": [
      "Denaturing Algorithm"
     ]
    },
    {
     "cell_type": "code",
     "collapsed": false,
     "input": [
      "def denature(pLocs,rLocs,size,meanTilt,cfg,\n",
      "             tracker=[],\n",
      "             stopLimit = 50,\n",
      "             timeLimit = 20000,\n",
      "             showEvery = 25,\n",
      "             best = 10000000,\n",
      "             bestStats=dict()):\n",
      "    \n",
      "    \"\"\"Randomly replaces 1 to n/2 resource locations and keeps if new solution scores better\"\"\"\n",
      "    n = len(rLocs)\n",
      "    gen = 0\n",
      "    scores = []\n",
      "    bestStats = dict()\n",
      "    t1 = datetime.datetime.now()\n",
      "    while len(scores)<stopLimit or len(set(scores[-stopLimit:])) != 1:\n",
      "        newLocs = deepcopy(rLocs)\n",
      "        ids = sample(range(n),randint(1,int(n/2.+.5)))\n",
      "        for x in ids:\n",
      "            loc = [randint(0,size-1),randint(0,size-1)]\n",
      "            if cfg['inCityD']:\n",
      "                loc = choice(cfg['extras']['occupied'])\n",
      "            else:\n",
      "                loc = [randint(0,size-1),randint(0,size-1)]\n",
      "            newLocs[x] = loc\n",
      "        stats = getStats(pLocs,newLocs,cfg)\n",
      "        score = stats['mean']*meanTilt + stats['max']*(1-meanTilt)\n",
      "        if best > score:\n",
      "            rLocs = deepcopy(newLocs); bestStats = deepcopy(stats)\n",
      "            best = score\n",
      "            tracker.append({'gen':'Denature %s' % gen,'score':score,'stats':deepcopy(stats),'pts':deepcopy(rLocs)})\n",
      "        if gen%showEvery == 0:\n",
      "            print \"Best: %s   Uni: %s   Gen: %s   Mean: %s   Max: %s   Std: %s   Time: %s\" % (best,\n",
      "                                                                   len(set(scores[-stopLimit:])),\n",
      "                                                                   gen,bestStats['mean'],\n",
      "                                                                   bestStats['max'],\n",
      "                                                                   bestStats['std'],\n",
      "                                                                   (datetime.datetime.now()-t1).seconds)\n",
      "        if gen%(showEvery*20) == 0:\n",
      "            pltLocs(pLocs,rLocs,cfg,bestStats,title='Denaturer Gen %s Optimal Placement' % gen,cmap='Greys_r',cmap2='autumn_r')\n",
      "        if gen == timeLimit:\n",
      "            break\n",
      "        scores.append(best)\n",
      "        gen += 1\n",
      "    if gen == timeLimit:\n",
      "        print \"\\nGeneration limit reached after %s generations\" % timeLimit\n",
      "    else:\n",
      "        print \"\\nStable solution found at generation %s and maintained for %s generations\" % (gen-stopLimit,stopLimit)\n",
      "    pltLocs(pLocs,rLocs,cfg,bestStats,title='Gen %s Optimal Placement' % gen,cmap='Greys_r',cmap2='autumn_r')\n",
      "    print len(tracker), \"improvements made\"\n",
      "    return rLocs,tracker,best,bestStats"
     ],
     "language": "python",
     "metadata": {},
     "outputs": [],
     "prompt_number": 33
    },
    {
     "cell_type": "heading",
     "level": 3,
     "metadata": {},
     "source": [
      "Hill Climber Algorithm"
     ]
    },
    {
     "cell_type": "code",
     "collapsed": false,
     "input": [
      "def climb(pLocs,rLocs,size,meanTilt,cfg,\n",
      "             tracker=[],\n",
      "             stopLimit = 50,\n",
      "             timeLimit = 20000,\n",
      "             showEvery = 25,\n",
      "             best = 10000000,\n",
      "             bestStats=dict()):\n",
      "    \"\"\"Randomly nudges 1 to n/2 resources locations and keeps if new solution is better\"\"\"\n",
      "    n = len(rLocs)\n",
      "    gen = 0\n",
      "    scores = []\n",
      "    t1 = datetime.datetime.now()\n",
      "    while len(scores)<stopLimit or len(set(scores[-stopLimit:])) != 1:\n",
      "        newLocs = deepcopy(rLocs)\n",
      "        ids = sample(range(n),randint(1,int(n/2.+.5)))\n",
      "        for x in ids:\n",
      "            if cfg['inCityH']:\n",
      "                loc = choice(cfg['extras']['neighbors'][x])\n",
      "            else:\n",
      "                loc = [rLocs[x][0]+randint(-cfg['wander'],cfg['wander']),rLocs[x][1]+randint(-cfg['wander'],cfg['wander'])]\n",
      "            newLocs[x] = loc\n",
      "        stats = getStats(pLocs,newLocs,cfg)\n",
      "        score = stats['mean']*meanTilt + stats['max']*(1-meanTilt)\n",
      "        if best > score:\n",
      "            rLocs = deepcopy(newLocs); bestStats = deepcopy(stats)\n",
      "            best = score\n",
      "            tracker.append({'gen':'Hill Climber %s' % gen,'score':score,'stats':deepcopy(stats),'pts':deepcopy(rLocs)})\n",
      "        if gen%showEvery == 0:\n",
      "            print \"Best: %s   Uni: %s   Gen: %s   Mean: %s   Max: %s   Std: %s   Time: %s\" % (best,\n",
      "                                                                   len(set(scores[-stopLimit:])),\n",
      "                                                                   gen,bestStats['mean'],\n",
      "                                                                   bestStats['max'],\n",
      "                                                                   bestStats['std'],\n",
      "                                                                   (datetime.datetime.now()-t1).seconds)\n",
      "        if gen%(showEvery*20) == 0:\n",
      "            pltLocs(pLocs,rLocs,cfg,bestStats,title='Hill Climber Gen %s Optimal Placement' % gen,cmap='Greys_r',cmap2='autumn_r')\n",
      "        if gen == timeLimit:\n",
      "            break\n",
      "        scores.append(best)\n",
      "        gen += 1\n",
      "    if gen == timeLimit:\n",
      "        print \"\\nGeneration limit reached after %s generations\" % timeLimit\n",
      "    else:\n",
      "        print \"\\nStable solution found at generation %s and maintained for %s generations\" % (gen-stopLimit,stopLimit)\n",
      "    pltLocs(pLocs,rLocs,cfg,bestStats,title='Gen %s Optimal Placement' % gen,cmap='Greys_r',cmap2='autumn_r')\n",
      "    print len(tracker), \"improvements made\"    \n",
      "    return rLocs,tracker,best,bestStats"
     ],
     "language": "python",
     "metadata": {},
     "outputs": [],
     "prompt_number": "*"
    },
    {
     "cell_type": "heading",
     "level": 3,
     "metadata": {},
     "source": [
      "Experiment Results"
     ]
    },
    {
     "cell_type": "code",
     "collapsed": false,
     "input": [
      "#Denature until stable solution is maintained for 30000 generations\n",
      "stagnantLimit = 2000\n",
      "best = 10000000\n",
      "showEvery = 50\n",
      "cfg['threads'] = 1\n",
      "\n",
      "rLocs,tracker,best,bestStats = denature(pLocs,rLocs,size,meanTilt,cfg,\n",
      "                              stopLimit = stagnantLimit,\n",
      "                              timeLimit = 'null',\n",
      "                              showEvery = showEvery,\n",
      "                              best = best)"
     ],
     "language": "python",
     "metadata": {},
     "outputs": [
      {
       "output_type": "stream",
       "stream": "stdout",
       "text": [
        "Best: 10.6373366539   Uni: 0   Gen: 0   Mean: 5.68514339621   Max: 30.4461096848   Std: 3.23085430117   Time: 0\n"
       ]
      },
      {
       "metadata": {},
       "output_type": "display_data",
       "png": "[encoded data removed]",
       "text": [
        "<matplotlib.figure.Figure at 0x10a61d690>"
       ]
      },
      {
       "output_type": "stream",
       "stream": "stdout",
       "text": [
        "Best: 7.95253136597   Uni: 7   Gen: 50   Mean: 3.42005776552   Max: 26.0824257678   Std: 3.15195001461   Time: 60\n",
        "Best: 7.59372612476   Uni: 10   Gen: 100   Mean: 3.01274451594   Max: 25.91765256   Std: 3.01697246014   Time: 108"
       ]
      },
      {
       "output_type": "stream",
       "stream": "stdout",
       "text": [
        "\n",
        "Best: 7.55650566117   Uni: 11   Gen: 150   Mean: 2.96621893645   Max: 25.91765256   Std: 2.83774998402   Time: 157"
       ]
      },
      {
       "output_type": "stream",
       "stream": "stdout",
       "text": [
        "\n",
        "Best: 7.55650566117   Uni: 11   Gen: 200   Mean: 2.96621893645   Max: 25.91765256   Std: 2.83774998402   Time: 205"
       ]
      },
      {
       "output_type": "stream",
       "stream": "stdout",
       "text": [
        "\n",
        "Best: 7.39426570967   Uni: 14   Gen: 250   Mean: 3.0273366912   Max: 24.8619817836   Std: 2.7167768693   Time: 253"
       ]
      },
      {
       "output_type": "stream",
       "stream": "stdout",
       "text": [
        "\n",
        "Best: 7.39426570967   Uni: 14   Gen: 300   Mean: 3.0273366912   Max: 24.8619817836   Std: 2.7167768693   Time: 301"
       ]
      },
      {
       "output_type": "stream",
       "stream": "stdout",
       "text": [
        "\n",
        "Best: 7.19631298338   Uni: 15   Gen: 350   Mean: 3.0550782139   Max: 23.7612520613   Std: 2.71279400696   Time: 349"
       ]
      },
      {
       "output_type": "stream",
       "stream": "stdout",
       "text": [
        "\n",
        "Best: 7.19631298338   Uni: 15   Gen: 400   Mean: 3.0550782139   Max: 23.7612520613   Std: 2.71279400696   Time: 397"
       ]
      },
      {
       "output_type": "stream",
       "stream": "stdout",
       "text": [
        "\n",
        "Best: 7.19631298338   Uni: 15   Gen: 450   Mean: 3.0550782139   Max: 23.7612520613   Std: 2.71279400696   Time: 445"
       ]
      },
      {
       "output_type": "stream",
       "stream": "stdout",
       "text": [
        "\n",
        "Best: 7.19631298338   Uni: 15   Gen: 500   Mean: 3.0550782139   Max: 23.7612520613   Std: 2.71279400696   Time: 493"
       ]
      },
      {
       "output_type": "stream",
       "stream": "stdout",
       "text": [
        "\n",
        "Best: 7.19631298338   Uni: 15   Gen: 550   Mean: 3.0550782139   Max: 23.7612520613   Std: 2.71279400696   Time: 540"
       ]
      },
      {
       "output_type": "stream",
       "stream": "stdout",
       "text": [
        "\n",
        "Best: 7.19631298338   Uni: 15   Gen: 600   Mean: 3.0550782139   Max: 23.7612520613   Std: 2.71279400696   Time: 591"
       ]
      },
      {
       "output_type": "stream",
       "stream": "stdout",
       "text": [
        "\n",
        "Best: 7.14355281589   Uni: 16   Gen: 650   Mean: 2.98912800454   Max: 23.7612520613   Std: 2.78884278267   Time: 640"
       ]
      },
      {
       "output_type": "stream",
       "stream": "stdout",
       "text": [
        "\n",
        "Best: 7.14235778164   Uni: 17   Gen: 700   Mean: 2.98763421172   Max: 23.7612520613   Std: 2.80557386731   Time: 688"
       ]
      }
     ],
     "prompt_number": "*"
    },
    {
     "cell_type": "code",
     "collapsed": false,
     "input": [
      "#Hill climb until stable solution is maintained for 3000 generations\n",
      "cfg['threads'] = 1\n",
      "stagnantLimit = 4000\n",
      "\n",
      "rLocs,tracker,best,bestStats = climb(pLocs,rLocs,size,meanTilt,cfg,\n",
      "                              stopLimit = stagnantLimit,\n",
      "                              timeLimit = 'null',\n",
      "                              showEvery = showEvery,\n",
      "                              best = best,\n",
      "                              bestStats = bestStats,\n",
      "                              tracker = tracker)"
     ],
     "language": "python",
     "metadata": {},
     "outputs": [],
     "prompt_number": "*"
    },
    {
     "cell_type": "code",
     "collapsed": false,
     "input": [
      "def animateMaps(pLocs,tracker,cfg,cmap='gist_earth',cmap2='autumn'):\n",
      "    length = len(tracker)\n",
      "    fig = plt.figure(figsize=(figSize,figSize))\n",
      "        \n",
      "    def animate(i):\n",
      "        pltLocs(pLocs,\n",
      "                   tracker[i]['pts'],\n",
      "                   cfg,\n",
      "                   stats=tracker[i]['stats'],\n",
      "                   title='Gen %s Optimal Placement' % tracker[i]['gen'],\n",
      "                   call='animate',\n",
      "                   cmap=cmap\n",
      "                   cmap2=cmap2)\n",
      "    \n",
      "    anim = animation.FuncAnimation(fig,animate,frames=length,interval=200, blit=False)\n",
      "    fileName = 'mapOptimization'\n",
      "    #print \"Generating\", fileName, \"gif animation\"\n",
      "    #anim.save(fileName+'.gif', writer='imagemagick', fps=1)\n",
      "    #sleep(3)\n",
      "    print \"Generating\", fileName, \"mp4 video\"\n",
      "    writer = animation.writers['ffmpeg'](fps=5)\n",
      "    anim.save(fileName+'.mp4',writer=writer,dpi=250)\n",
      "    return anim,fileName"
     ],
     "language": "python",
     "metadata": {},
     "outputs": [],
     "prompt_number": "*"
    },
    {
     "cell_type": "code",
     "collapsed": false,
     "input": [
      "anim,fileName = animateMaps(pLocs,tracker,cfg)\n",
      "#display_animation(anim,fileName)"
     ],
     "language": "python",
     "metadata": {},
     "outputs": [],
     "prompt_number": "*"
    },
    {
     "cell_type": "raw",
     "metadata": {},
     "source": [
      "\u00a9 2014 James Schlitt"
     ]
    }
   ],
   "metadata": {}
  }
 ]
}