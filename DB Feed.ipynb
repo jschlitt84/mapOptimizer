{
 "metadata": {
  "name": ""
 },
 "nbformat": 3,
 "nbformat_minor": 0,
 "worksheets": [
  {
   "cells": [
    {
     "cell_type": "code",
     "collapsed": false,
     "input": [
      "import pymongo as pm\n",
      "import cPickle"
     ],
     "language": "python",
     "metadata": {},
     "outputs": [],
     "prompt_number": 5
    },
    {
     "cell_type": "code",
     "collapsed": false,
     "input": [
      "nodes = 30\n",
      "dbName = 'EbolaMonroviaFull'\n",
      "files = ['dbFeed/DistDict%s.pickle' % i for i in range(nodes)]"
     ],
     "language": "python",
     "metadata": {},
     "outputs": [],
     "prompt_number": 6
    },
    {
     "cell_type": "code",
     "collapsed": false,
     "input": [
      "connection = pm.Connection()\n",
      "db = connection[dbName]\n",
      "posts = db.posts"
     ],
     "language": "python",
     "metadata": {},
     "outputs": [],
     "prompt_number": 7
    },
    {
     "cell_type": "code",
     "collapsed": false,
     "input": [
      "posts.insert(reindexed)"
     ],
     "language": "python",
     "metadata": {},
     "outputs": [],
     "prompt_number": "*"
    },
    {
     "cell_type": "code",
     "collapsed": false,
     "input": [
      "for dictFile in files:\n",
      "    inFile = open(dictFile,'rb')\n",
      "    print \"Preparing to load file\", dictFile, \"from pickle\"\n",
      "    loaded = cPickle.load(inFile); inFile.close()\n",
      "    print \"Preparing to reindex file\",dictFile, \"for db insertion\"\n",
      "    reindexed = [{'key':i[0],'length':i[1]} for i in loaded.items()]\n",
      "    del loaded\n",
      "    print \"Inserting reindexed file\", dictFile, \"to DB\"\n",
      "    posts.insert(reindexed)\n",
      "    del reindexed\n",
      "    print \"Operation complete....\\n\""
     ],
     "language": "python",
     "metadata": {},
     "outputs": [],
     "prompt_number": "*"
    },
    {
     "cell_type": "code",
     "collapsed": false,
     "input": [],
     "language": "python",
     "metadata": {},
     "outputs": []
    }
   ],
   "metadata": {}
  }
 ]
}