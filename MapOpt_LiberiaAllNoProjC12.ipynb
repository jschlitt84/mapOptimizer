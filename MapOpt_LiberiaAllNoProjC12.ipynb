{
 "metadata": {
  "name": "",
  "signature": "sha256:13eaf6b4c131d4cfc765ae38e30604f86fb1c0217fb0e4ef9e2581a53fa13ca2"
 },
 "nbformat": 3,
 "nbformat_minor": 0,
 "worksheets": [
  {
   "cells": [
    {
     "cell_type": "heading",
     "level": 1,
     "metadata": {},
     "source": [
      "Resource Allocation Distance Optimizer v2"
     ]
    },
    {
     "cell_type": "heading",
     "level": 3,
     "metadata": {},
     "source": [
      "The goal of this program is to find locations for a finite set of resources such that the minimal mean distance from resource to population member is achieved without leaving any members at an excessive distance from the nearest resource."
     ]
    },
    {
     "cell_type": "code",
     "collapsed": false,
     "input": [
      "from random import randint, sample, random, choice, uniform\n",
      "from numpy import mean, std, zeros, average, array, ones, arange\n",
      "from copy import deepcopy\n",
      "from math import ceil, sqrt\n",
      "from multiprocessing import Process, Queue, cpu_count, Manager\n",
      "from geopy.distance import great_circle, vincenty\n",
      "from geopy import geocoders\n",
      "from mpl_toolkits.axes_grid1 import make_axes_locatable\n",
      "\n",
      "import networkx as nx\n",
      "import datetime\n",
      "import matplotlib.colors as colors\n",
      "import matplotlib.pyplot as plt\n",
      "import matplotlib.cm as cm\n",
      "import matplotlib.ticker as ticker\n",
      "import matplotlib.collections as mc\n",
      "\n",
      "import cPickle\n",
      "\n",
      "%matplotlib inline"
     ],
     "language": "python",
     "metadata": {},
     "outputs": [],
     "prompt_number": 1
    },
    {
     "cell_type": "heading",
     "level": 3,
     "metadata": {},
     "source": [
      "Animation enabled"
     ]
    },
    {
     "cell_type": "code",
     "collapsed": false,
     "input": [
      "import matplotlib.animation as animation\n",
      "from IPython.display import HTML\n",
      "\n",
      "#Animating via tutorial at:\n",
      "#http://jakevdp.github.io/blog/2013/05/12/embedding-matplotlib-animations/\n",
      "\n",
      "VIDEO_TAG = \"\"\"<video width=\"1024\" height=\"768\" controls>\n",
      " <source src=\"data:video/x-m4v;base64,{0}\" type=\"video/mp4\">\n",
      " Your browser does not support the video tag.\n",
      "</video>\"\"\"\n",
      "\n",
      "def display_animation(anim,fileName):\n",
      "    print \"Preparing to render video in notebook...\"\n",
      "    plt.close(anim._fig)\n",
      "    return HTML(anim_to_html(anim,fileName))\n",
      "\n",
      "def anim_to_html(anim,fileName):\n",
      "    fileName = fileName+'.mp4'\n",
      "    video = open(fileName, \"rb\").read()\n",
      "    anim._encoded_video = video.encode(\"base64\")\n",
      "    \n",
      "    return VIDEO_TAG.format(anim._encoded_video)"
     ],
     "language": "python",
     "metadata": {},
     "outputs": [],
     "prompt_number": 2
    },
    {
     "cell_type": "heading",
     "level": 3,
     "metadata": {},
     "source": [
      "Experiment Globals"
     ]
    },
    {
     "cell_type": "code",
     "collapsed": false,
     "input": [
      "meanTilt = 0.97 #Score = tilt* mean distance + (1-tilt)* max distance\n",
      "figSize = 10\n",
      "nResource = 12\n",
      "big = 999999999999999\n",
      "\n",
      "try:\n",
      "    print cfg.keys()\n",
      "except:\n",
      "    cfg = {'travel':'network',\n",
      "           'distance':'manhattan',\n",
      "           'population':'density',\n",
      "           'obstacles':0.2,\n",
      "           'extras':dict(),\n",
      "           'precision':'int',\n",
      "           'penalty':300,\n",
      "           'wander':8,\n",
      "           'inCityD':True,\n",
      "           'inCityH':True,\n",
      "           'threads':1,\n",
      "           'landFill':1,\n",
      "           'walkingSpeed':2,\n",
      "           'roadLimit':0.99,\n",
      "           'permanent':False,\n",
      "           'pickledRun':'network.pickle',\n",
      "           'pickledDist':'network.pickle',\n",
      "           'resourceFile':'WholeCountry/etus.txt',\n",
      "           'populationFile':'RevisedGuess/ebolaguess2.txt',\n",
      "           'accessFile':'WholeCountry/population.txt',\n",
      "           'roadFile':'WholeCountry/travelnet.txt',\n",
      "           'exclusionFile':'WholeCountry/etus.txt',\n",
      "           'useDB':'EbolaMonroviaFull',\n",
      "           'filterAccessible':False,\n",
      "           'trimRadius':20,\n",
      "           'sparsifyX':False,\n",
      "           'sparsifyY':False,\n",
      "           'sparsifyLimit':0.001,\n",
      "           'distMethod':'reverse',\n",
      "           'netMode':'proximity',\n",
      "           'netRadius':10,\n",
      "           'extras':{'permanent':[],'tried':dict()}}\n",
      "\n",
      "cfg['pickledRun'] = False\n",
      "cfg['pickledDist'] = False\n",
      "#cfg['resourceFile']='SELiberiaFiles/hospitals.txt',\n",
      "\n",
      "\n",
      "#Travel modes = crow or path\n",
      "#Population modes = density or discrete\n",
      "#Obstacles = odds of obstructed point on network map"
     ],
     "language": "python",
     "metadata": {},
     "outputs": [],
     "prompt_number": 3
    },
    {
     "cell_type": "heading",
     "level": 3,
     "metadata": {},
     "source": [
      "Import Data from GIS Source"
     ]
    },
    {
     "cell_type": "code",
     "collapsed": false,
     "input": [
      "fromFile = False\n",
      "\n",
      "#Extract list from matrix\n",
      "def extract(matrix,minV,maxV):\n",
      "    listed = []\n",
      "    for x in range(len(matrix)):\n",
      "        for y in range(len(matrix[0])):\n",
      "            if matrix[x][y]>minV and matrix[x][y]<maxV:\n",
      "                listed.append([x,y])\n",
      "    return listed        \n",
      "\n",
      "#Import matrix from file\n",
      "def importFile(ref,mapper = 'null',limitHigh=big,limitLow=-big):\n",
      "    paramDict = dict()\n",
      "    fileIn = open(ref)\n",
      "    content = [line.replace('\\n','').replace('\\t',' ').replace('\\r','').replace('  ',' ') for line in fileIn.readlines()]\n",
      "    fileIn.close()\n",
      "    dLen = max([len(line.split(' ')) for line in content])\n",
      "    params = [entry for entry in content if len(entry.split(' ')) < (.5*dLen)]\n",
      "    entries = [entry.split(' ') for entry in content if len(entry) >= (.5*dLen)]\n",
      "    entries = [[entry for entry in row if entry != ''] for row in entries]\n",
      "    for i in range(len(params)):\n",
      "        entry = params[i].replace('\\t',' ')\n",
      "        while '  ' in entry:\n",
      "            entry = entry.replace('  ', ' ')\n",
      "        temp = entry.split(' ')\n",
      "        try:\n",
      "            paramDict[temp[0]] = float(temp[1])\n",
      "        except:\n",
      "            try:\n",
      "                paramDict[temp[0]] = temp[1]\n",
      "            except:\n",
      "                None\n",
      "    xLen = len(entries)\n",
      "    yLen = len(entries[0])\n",
      "    print 'x:',xLen,'y:',yLen\n",
      "    print paramDict\n",
      "    if mapper != 'null':\n",
      "        try:\n",
      "            entries = [[mapper[entry] for entry in row] for row in reversed(entries)]\n",
      "        except:\n",
      "            entries = [[mapper[float(entry)] for entry in row] for row in reversed(entries)]\n",
      "    else:\n",
      "        entries = [[float(entry) for entry in row] for row in reversed(entries)]\n",
      "    if limitHigh != 'null':\n",
      "        for x in range(xLen):\n",
      "            for y in range(yLen):\n",
      "                if entries[x][y]>=limitHigh or entries[x][y]<=limitLow:\n",
      "                    entries[x][y] = 0\n",
      "    return entries,paramDict\n",
      "\n",
      "\n",
      "if cfg['resourceFile'] != False or cfg['populationFile'] != False or cfg['roadFile'] != False:\n",
      "    fromFile = True\n",
      "    roadMapper = {-9999.0:-1,\n",
      "                  60:0.0536,\n",
      "                  40:0.0803,\n",
      "                  15:0.215,\n",
      "                  5:0.645,\n",
      "                  83:0.646,\n",
      "                  165:0.325,\n",
      "                  667:0.0804,\n",
      "                  1000:0.0536}\n",
      "    roads,temp = importFile(cfg['roadFile'],mapper=roadMapper)\n",
      "    population,temp = importFile(cfg['populationFile'],limitLow=0)\n",
      "    cfg['extras']['viable'],temp = importFile(cfg['exclusionFile'],limitLow=0,limitHigh=2)\n",
      "    resourceList = []\n",
      "    if cfg['resourceFile'] != False:\n",
      "        resources,temp = importFile(cfg['resourceFile'],limitLow=1)\n",
      "        resourceList = extract(resources,0,big)\n",
      "    print \"Number of resources:\",len(resourceList)\n",
      "    cfg['xSize'] = xSize = len(population)\n",
      "    cfg['ySize'] = ySize = len(population[0])\n",
      "    cfg['geo'] = temp\n",
      "    \n",
      "print \"From file:\", fromFile"
     ],
     "language": "python",
     "metadata": {},
     "outputs": [
      {
       "output_type": "stream",
       "stream": "stdout",
       "text": [
        "x: 5040 y: 4950\n",
        "{'ncols': 4950.0, 'cellsize': 0.00083333333, 'nrows': 5040.0, 'xllcorner': -11.500000000067, 'yllcorner': 4.3499999999623, 'NODATA_value': -9999.0}\n",
        "x:"
       ]
      },
      {
       "output_type": "stream",
       "stream": "stdout",
       "text": [
        " 5040 y: 4950\n",
        "{'ncols': 4950.0, 'cellsize': 0.00083333333, 'nrows': 5040.0, 'xllcorner': -11.500000000067, 'yllcorner': 4.3499999999623, 'NODATA_value': -9999.0}\n",
        "x:"
       ]
      },
      {
       "output_type": "stream",
       "stream": "stdout",
       "text": [
        " 5040 y: 4950\n",
        "{'ncols': 4950.0, 'cellsize': 0.00083333333, 'nrows': 5040.0, 'xllcorner': -11.500000000067, 'yllcorner': 4.3499999999623, 'NODATA_value': -9999.0}\n",
        "x:"
       ]
      },
      {
       "output_type": "stream",
       "stream": "stdout",
       "text": [
        " 5040 y: 4950\n",
        "{'ncols': 4950.0, 'cellsize': 0.00083333333, 'nrows': 5040.0, 'xllcorner': -11.500000000067, 'yllcorner': 4.3499999999623, 'NODATA_value': -9999.0}\n",
        "Number of resources:"
       ]
      },
      {
       "output_type": "stream",
       "stream": "stdout",
       "text": [
        " 10\n",
        "From file: True\n"
       ]
      }
     ],
     "prompt_number": 4
    },
    {
     "cell_type": "code",
     "collapsed": false,
     "input": [
      "print \"Road pts:\", len(extract(roads,0,2))\n",
      "print \"Population points:\", len(extract(population,0,big))"
     ],
     "language": "python",
     "metadata": {},
     "outputs": [
      {
       "output_type": "stream",
       "stream": "stdout",
       "text": [
        "Road pts: "
       ]
      },
      {
       "output_type": "stream",
       "stream": "stdout",
       "text": [
        "316315\n",
        "Population points: "
       ]
      },
      {
       "output_type": "stream",
       "stream": "stdout",
       "text": [
        "45766\n"
       ]
      }
     ],
     "prompt_number": 5
    },
    {
     "cell_type": "heading",
     "level": 3,
     "metadata": {},
     "source": [
      "Filter lower n% of population density"
     ]
    },
    {
     "cell_type": "code",
     "collapsed": false,
     "input": [
      "if False:\n",
      "    increment = 1000\n",
      "    percentile = 0.90\n",
      "    limit = 0\n",
      "    print \"Trimming population grid...\"\n",
      "    loaded,temp = importFile(cfg['populationFile'],limitLow=0)\n",
      "    score = total = len(extract(loaded,limit,big))\n",
      "    while float(score)/total >= percentile:\n",
      "        limit += increment\n",
      "        score = len(extract(loaded,limit,big))\n",
      "        print \"\\tLimit:\",limit,\"Score:\",score\n",
      "        \n",
      "    population,temp = importFile(cfg['populationFile'],limitLow=limit)\n",
      "    del loaded\n",
      "        \n",
      "    print \"Population grid trimmed from size %s by %s percent to %s\" % (total,1-percentile,score)"
     ],
     "language": "python",
     "metadata": {},
     "outputs": [],
     "prompt_number": 6
    },
    {
     "cell_type": "heading",
     "level": 3,
     "metadata": {},
     "source": [
      "Geospatial edge weighting via Vincenty Algorithm"
     ]
    },
    {
     "cell_type": "code",
     "collapsed": false,
     "input": [
      "def getWeight(pt1,pt2):\n",
      "    return vincenty(pt1,pt2).miles\n",
      "                        \n",
      "def ptToCoords(pt,cfg):\n",
      "    x = pt[1]; y = pt[0]\n",
      "    cellSize = cfg['geo']['cellsize']\n",
      "    xP = cfg['geo']['xllcorner']+cellSize*x\n",
      "    yP = cfg['geo']['yllcorner']+cellSize*y\n",
      "    return [yP,xP]\n",
      "\n",
      "def placeEdge(cfg,pt1,pt2,speed,network):\n",
      "    distance = getWeight(ptToCoords(pt1,cfg),ptToCoords(pt2,cfg))\n",
      "    time = distance/(cfg['walkingSpeed']/speed)\n",
      "    if network != 'null':\n",
      "        network.add_edge(str(pt1),str(pt2),weight = time)\n",
      "        return network\n",
      "    return time"
     ],
     "language": "python",
     "metadata": {},
     "outputs": [],
     "prompt_number": 7
    },
    {
     "cell_type": "code",
     "collapsed": false,
     "input": [
      "#Testing & Debugging output\n",
      "def getMaxDist(cfg):\n",
      "    cellsize = cfg['geo']['cellsize']\n",
      "    x1 = cfg['geo']['xllcorner']\n",
      "    y1 = cfg['geo']['yllcorner']\n",
      "    x2 = xllcorner + cfg['geo']['ncols']*cellsize\n",
      "    y2 = yllcorner + cfg['geo']['nrows']*cellsize\n",
      "    dists = [great_circle((y1,x1),(y1+c,x1)).miles,\n",
      "             great_circle((y1,x1),(y1,x1+c)).miles,\n",
      "             great_circle((y2,x1),(y2-c,x1)).miles,\n",
      "             great_circle((y2,x1),(y2,x1+c)).miles]\n",
      "    maxima = max(dists)\n",
      "    print \"Corner distances found:\",dists\n",
      "    print \"Callibration maxima:\",maxima\n",
      "    return maxima\n",
      "    \n",
      "#cfg['geo']['maxDist'] = getMaxDist(cfg)\n",
      "\n",
      "print placeEdge(cfg,[0,0],[1,0],1,'null')\n",
      "print placeEdge(cfg,[0,0],[0,1],1,'null')"
     ],
     "language": "python",
     "metadata": {},
     "outputs": [
      {
       "output_type": "stream",
       "stream": "stdout",
       "text": [
        "0.028629849779\n",
        "0.0287386631255\n"
       ]
      }
     ],
     "prompt_number": 8
    },
    {
     "cell_type": "heading",
     "level": 3,
     "metadata": {},
     "source": [
      "Population, Obstacle, and Resource Location Generation"
     ]
    },
    {
     "cell_type": "code",
     "collapsed": false,
     "input": [
      "cfg['extras']['permanent'] = []   \n",
      "            \n",
      "print \"Extracting point lists\"    \n",
      "#Extracting point lists from matrices   \n",
      "if cfg['travel'] == 'network' and fromFile:\n",
      "    cfg['extras']['lakes'] = roads\n",
      "    pLocs = population\n",
      "    cfg['extras']['occupied'] = extract(pLocs,0,big)\n",
      "    if cfg['resourceFile'] != False:\n",
      "        cfg['extras']['permanent'] = extract(resources,0,big)\n",
      "\n",
      "        \n",
      "print \"Extracting viable sites list\"\n",
      "if cfg['inCityD']:\n",
      "    #cfg['extras']['postExclusion'] = [loc for loc in cfg['extras']['occupied'] if cfg['extras']['exclude'][loc[0]][loc[1]] == 1]\n",
      "    cfg['extras']['postExclusion'] =  extract(cfg['extras']['viable'],0,2)        \n",
      "        \n",
      "        \n",
      "#Removing inaccessible locations\n",
      "if cfg['filterAccessible']:\n",
      "    print \"Population filtered by road accessibility\"\n",
      "    cfg['extras']['occupied'] = [i for i in cfg['extras']['occupied'] if cfg['extras']['lakes'][i[0]][i[1]] != -1]\n",
      "#Add low speed roads to occupied pts\n",
      "else:\n",
      "    print \"Speed 1 road network added to populated areas\"\n",
      "    count = 0\n",
      "    extraLocs = []\n",
      "    try:\n",
      "        extraLocs,temp = importFile(cfg['accessFile'],limitLow=-0.1)\n",
      "        extraLocs = extract(extraLocs,0,big)\n",
      "        print \"Loaded extra passable locations from:\", cfg['accessFile'],len(extraLocs)\n",
      "    except:\n",
      "        None\n",
      "    for i in (cfg['extras']['occupied']+cfg['extras']['postExclusion']+cfg['extras']['permanent']+extraLocs):\n",
      "        if cfg['extras']['lakes'][i[0]][i[1]] == -1:\n",
      "            cfg['extras']['lakes'][i[0]][i[1]] = 1\n",
      "            count += 1\n",
      "    del extraLocs\n",
      "    print count,\"points added\"\n",
      "           \n",
      "    \n",
      "print \"Extracting adjacency lists\"\n",
      "#Calculating neighbors if hill climber constrained to populated points    \n",
      "if cfg['inCityH']:\n",
      "    neighbors = []\n",
      "    viableTemp = set([str(pt) for pt in cfg['extras']['viable']])\n",
      "    for i in cfg['extras']['occupied']:\n",
      "        if i in cfg['extras']['postExclusion']:\n",
      "            d = cfg['wander'] + 1\n",
      "            x = i[0]\n",
      "            y = i[1]\n",
      "            accessible = []\n",
      "            for xP in range(x-d,x+d):\n",
      "                for yP in range(y-d,y+d):\n",
      "                    try:\n",
      "                        if cfg['extras']['lakes'][xP][yP] != -1:\n",
      "                            accessible.append([xP,yP])\n",
      "                    except:\n",
      "                        None\n",
      "            accessibleTemp = set([str(pt) for pt in accessible])\n",
      "            accessible = [listFromStr(pt) for pt in list(accessibleTemp.intersection(viableTemp))]\n",
      "            #if cfg['exclusionFile'] != False:\n",
      "                #accessible = [loc for loc in accessible if cfg['extras']['viable'][loc[0]][loc[1]] == 1]\n",
      "        else:\n",
      "            accessible = []\n",
      "        neighbors.append(deepcopy(accessible))\n",
      "        \n",
      "    cfg['extras']['neighbors'] = neighbors\n",
      "\n",
      "        \n",
      "if cfg['resourceFile'] != False:\n",
      "    print \"Fixed resources:\",cfg['extras']['permanent']\n",
      "else:\n",
      "    print \"No fixed resources found\""
     ],
     "language": "python",
     "metadata": {},
     "outputs": [
      {
       "output_type": "stream",
       "stream": "stdout",
       "text": [
        "Extracting point lists\n",
        "Extracting viable sites list"
       ]
      },
      {
       "output_type": "stream",
       "stream": "stdout",
       "text": [
        "\n",
        "Speed 1 road network added to populated areas"
       ]
      },
      {
       "output_type": "stream",
       "stream": "stdout",
       "text": [
        "\n",
        "x:"
       ]
      },
      {
       "output_type": "stream",
       "stream": "stdout",
       "text": [
        " 5040 y: 4950\n",
        "{'ncols': 4950.0, 'cellsize': 0.00083333333, 'nrows': 5040.0, 'xllcorner': -11.500000000067, 'yllcorner': 4.3499999999623, 'NODATA_value': -9999.0}\n",
        "Loaded extra passable locations from:"
       ]
      },
      {
       "output_type": "stream",
       "stream": "stdout",
       "text": [
        " WholeCountry/population.txt 90073\n",
        "87575"
       ]
      },
      {
       "output_type": "stream",
       "stream": "stdout",
       "text": [
        " points added\n",
        "Extracting adjacency lists\n",
        "Fixed resources:"
       ]
      },
      {
       "output_type": "stream",
       "stream": "stdout",
       "text": [
        " [[1840, 1746], [2266, 966], [2288, 957], [2324, 876], [2440, 855], [2617, 1377], [2955, 443], [3019, 815], [3190, 2422], [4815, 1544]]\n"
       ]
      }
     ],
     "prompt_number": 9
    },
    {
     "cell_type": "code",
     "collapsed": false,
     "input": [
      "print \"Road pts:\", len(extract(cfg['extras']['lakes'] ,0,2))\n",
      "print \"Population points:\", len(cfg['extras']['occupied'])\n",
      "print \"Outlying cities:\", len(extract(pLocs,0,99999999999)) "
     ],
     "language": "python",
     "metadata": {},
     "outputs": [
      {
       "output_type": "stream",
       "stream": "stdout",
       "text": [
        "Road pts: "
       ]
      },
      {
       "output_type": "stream",
       "stream": "stdout",
       "text": [
        "403890\n",
        "Population points: 45766\n",
        "Outlying cities: "
       ]
      },
      {
       "output_type": "stream",
       "stream": "stdout",
       "text": [
        "45766\n"
       ]
      }
     ],
     "prompt_number": 10
    },
    {
     "cell_type": "code",
     "collapsed": false,
     "input": [
      "#Scatters initial set of resources\n",
      "rLocs = [[randint(0,cfg['xSize']-1),randint(0,cfg['ySize']-1)] for x in range(nResource)]"
     ],
     "language": "python",
     "metadata": {},
     "outputs": [],
     "prompt_number": 11
    },
    {
     "cell_type": "heading",
     "level": 3,
     "metadata": {},
     "source": [
      "Network Population Functions"
     ]
    },
    {
     "cell_type": "code",
     "collapsed": false,
     "input": [
      "#Generates ranked key for node name\n",
      "def getKey(key1,key2):\n",
      "    pt1 = key1\n",
      "    pt2 = listFromStr(key2)\n",
      "    return str(rank(pt1[0],pt1[1],pt2[0],pt2[1]))\n",
      "\n",
      "#Converts key str back to list\n",
      "def listFromStr(text):\n",
      "    return [int(entry) for entry in list(text.replace('[','').replace(']','').replace('(','').replace(')','').split(','))]\n",
      "\n",
      "#Grid distance\n",
      "def distance(pt1,pt2):\n",
      "    return sqrt(pow(pt1[0]-pt2[0],2)+pow(pt1[1]-pt2[1],2))"
     ],
     "language": "python",
     "metadata": {},
     "outputs": [],
     "prompt_number": 12
    },
    {
     "cell_type": "code",
     "collapsed": false,
     "input": [
      "#Checks if outlying pt has any adjacent points that are closer to the origin point\n",
      "def noneClose(pt,listed,limit):\n",
      "    for i in range(len(listed)):\n",
      "        pair = listed[i]\n",
      "        if distance(pt[0],pair[0]) < limit and pt[1]>=pair[1] and pt!=pair:\n",
      "            return False\n",
      "    return True\n",
      "\n",
      "#Generates network from sparse raster\n",
      "def connectNetwork(cfg):\n",
      "    network = nx.Graph()\n",
      "    roadPts = extract(cfg['extras']['lakes'],0,big)\n",
      "    viableTemp = set([str(pt) for pt in roadPts])\n",
      "    count = 0\n",
      "    firstSearch = 12\n",
      "    secondSearch = 4\n",
      "    proxLimit = 2\n",
      "    print \"Preparing to connect sparse raster of size:\", len(roadPts)\n",
      "    for i in roadPts:\n",
      "        #d = cfg['netRadius']\n",
      "        d = 12\n",
      "        x = i[0]\n",
      "        y = i[1]\n",
      "        accessible = []\n",
      "        for xP in range(x-d,x+d):\n",
      "            for yP in range(y-d,y+d):\n",
      "                try:\n",
      "                    if cfg['extras']['lakes'][xP][yP] != -1:\n",
      "                        accessible.append([xP,yP])\n",
      "                except:\n",
      "                    None\n",
      "\n",
      "        accessibleTemp = set([str(pt) for pt in accessible])\n",
      "        accessibleTemp.remove(str(i))\n",
      "        accessible = [listFromStr(pt) for pt in list(accessibleTemp.intersection(viableTemp))]\n",
      "        \n",
      "        if len(accessible) != 0:\n",
      "        \n",
      "            distances = []\n",
      "            for pt in accessible:\n",
      "                distances.append(distance(pt,[xP,yP]))\n",
      "            \n",
      "            keptDist = sorted(distances)[:min(firstSearch,len(distances))]\n",
      "            cutOff = keptDist[-1]\n",
      "            \n",
      "            distPairs = [[accessible[j],distances[j]] for j in range(len(distances)) if distances[j] <= cutOff]\n",
      "            distPairs2 = [pair for pair in distPairs if noneClose(pair,distPairs,proxLimit)]\n",
      "            \n",
      "            keptDist = sorted([pair[1] for pair in distPairs2])[:min(secondSearch,len(distPairs2))]\n",
      "            \n",
      "            try: #Take the 4 closest points that are not proximal to other closer points\n",
      "                cutOff = keptDist[-1]\n",
      "                accessible = [pair[0] for pair in distPairs2 if pair[1] <= cutOff]\n",
      "            except: #If a star is detected, take the 4 closest points\n",
      "                keptDist = sorted([pair[1] for pair in distPairs])[:min(secondSearch,len(distPairs))]\n",
      "                cutOff = keptDist[-1]\n",
      "                accessible = [pair[0] for pair in distPairs if pair[1] <= cutOff]\n",
      "                \n",
      "            for pt in accessible:\n",
      "                weight = max([cfg['extras']['lakes'][pt[0]][pt[1]],cfg['extras']['lakes'][x][y]])\n",
      "                network = placeEdge(cfg,pt,[x,y],weight,network)\n",
      "\n",
      "            count += 1\n",
      "            if count%5000 == 0:\n",
      "                print count,len(accessible),\n",
      "    \n",
      "    print \"Network generation complete, [x,y]:\" ,cfg['xSize'],cfg['ySize']\n",
      "    print \"Nodes:\", len(network)\n",
      "    print \"Edges:\", network.number_of_edges()          \n",
      "    return network"
     ],
     "language": "python",
     "metadata": {},
     "outputs": [],
     "prompt_number": 13
    },
    {
     "cell_type": "code",
     "collapsed": false,
     "input": [
      "def getNetwork(cfg):\n",
      "    \"\"\"Generates Network for Manhattan Distance Travel & 8 directional grid\"\"\"\n",
      "    network=nx.Graph()\n",
      "    try:\n",
      "        xSize = cfg['xSize']\n",
      "    except:\n",
      "        xSize = size\n",
      "    try:\n",
      "        ySize = cfg['ySize']\n",
      "    except:\n",
      "        ySize = size\n",
      "\n",
      "    for x in range(xSize-1):\n",
      "        for y in range(ySize):\n",
      "            if cfg['extras']['lakes'][x+1][y] != -1 and cfg['extras']['lakes'][x][y] != -1:\n",
      "                weight = max([cfg['extras']['lakes'][x+1][y],cfg['extras']['lakes'][x][y]])\n",
      "                network = placeEdge(cfg,[x+1,y],[x,y],weight,network)\n",
      "\n",
      "    for x in range(xSize):\n",
      "        for y in range(ySize-1):\n",
      "            if cfg['extras']['lakes'][x][y+1] != -1 and cfg['extras']['lakes'][x][y] != -1:\n",
      "                weight = max([cfg['extras']['lakes'][x][y+1],cfg['extras']['lakes'][x][y]])\n",
      "                network = placeEdge(cfg,[x,y+1],[x,y],weight,network)\n",
      "\n",
      "                \n",
      "    roadV = cfg['roadLimit']\n",
      "    for x in range(xSize-1):\n",
      "        for y in range(ySize-1):\n",
      "            if cfg['extras']['lakes'][x][y] != -1 and cfg['extras']['lakes'][x+1][y+1] != -1:\n",
      "                if cfg['extras']['lakes'][x][y] < roadV and cfg['extras']['lakes'][x+1][y+1] < roadV:\n",
      "                    weight = max([cfg['extras']['lakes'][x][y],cfg['extras']['lakes'][x+1][y+1]])\n",
      "                    network = placeEdge(cfg,[x,y],[x+1,y+1],weight,network)\n",
      "\n",
      "    for x in range(1,xSize):\n",
      "        for y in range(ySize-1):\n",
      "            if cfg['extras']['lakes'][x][y] != -1 and cfg['extras']['lakes'][x-1][y+1] != -1: \n",
      "                if cfg['extras']['lakes'][x][y] < roadV and cfg['extras']['lakes'][x-1][y+1] < roadV:\n",
      "                    weight = max([cfg['extras']['lakes'][x][y],cfg['extras']['lakes'][x-1][y+1]])\n",
      "                    network = placeEdge(cfg,[x,y],[x-1,y+1],weight,network)\n",
      "\n",
      "    print \"Network generation complete, [x,y]:\" ,cfg['xSize'],cfg['ySize']\n",
      "    print \"Nodes:\", len(network)\n",
      "    print \"Edges:\", network.number_of_edges()          \n",
      "    return network"
     ],
     "language": "python",
     "metadata": {},
     "outputs": [],
     "prompt_number": "*"
    },
    {
     "cell_type": "code",
     "collapsed": false,
     "input": [
      "if cfg['netMode'] == 'grid':\n",
      "    cfg['extras']['network'] = getNetwork(cfg)\n",
      "else:\n",
      "    cfg['extras']['network'] = connectNetwork(cfg)"
     ],
     "language": "python",
     "metadata": {},
     "outputs": [
      {
       "output_type": "stream",
       "stream": "stdout",
       "text": [
        "Preparing to connect sparse raster of size: 403890\n",
        "5000"
       ]
      },
      {
       "output_type": "stream",
       "stream": "stdout",
       "text": [
        " 2 "
       ]
      },
      {
       "output_type": "stream",
       "stream": "stdout",
       "text": [
        "10000 2 "
       ]
      },
      {
       "output_type": "stream",
       "stream": "stdout",
       "text": [
        "15000 5 "
       ]
      },
      {
       "output_type": "stream",
       "stream": "stdout",
       "text": [
        "20000 2 "
       ]
      },
      {
       "output_type": "stream",
       "stream": "stdout",
       "text": [
        "25000 2 "
       ]
      },
      {
       "output_type": "stream",
       "stream": "stdout",
       "text": [
        "30000 3 "
       ]
      },
      {
       "output_type": "stream",
       "stream": "stdout",
       "text": [
        "35000 2 "
       ]
      },
      {
       "output_type": "stream",
       "stream": "stdout",
       "text": [
        "40000 2 "
       ]
      },
      {
       "output_type": "stream",
       "stream": "stdout",
       "text": [
        "45000 3 "
       ]
      },
      {
       "output_type": "stream",
       "stream": "stdout",
       "text": [
        "50000 3 "
       ]
      },
      {
       "output_type": "stream",
       "stream": "stdout",
       "text": [
        "55000 2 "
       ]
      },
      {
       "output_type": "stream",
       "stream": "stdout",
       "text": [
        "60000 5 "
       ]
      },
      {
       "output_type": "stream",
       "stream": "stdout",
       "text": [
        "65000 4 "
       ]
      },
      {
       "output_type": "stream",
       "stream": "stdout",
       "text": [
        "70000 2 "
       ]
      },
      {
       "output_type": "stream",
       "stream": "stdout",
       "text": [
        "75000 5 "
       ]
      },
      {
       "output_type": "stream",
       "stream": "stdout",
       "text": [
        "80000 4 "
       ]
      },
      {
       "output_type": "stream",
       "stream": "stdout",
       "text": [
        "85000 4 "
       ]
      },
      {
       "output_type": "stream",
       "stream": "stdout",
       "text": [
        "90000 2 "
       ]
      },
      {
       "output_type": "stream",
       "stream": "stdout",
       "text": [
        "95000 5 "
       ]
      },
      {
       "output_type": "stream",
       "stream": "stdout",
       "text": [
        "100000 2 "
       ]
      },
      {
       "output_type": "stream",
       "stream": "stdout",
       "text": [
        "105000 4 "
       ]
      }
     ],
     "prompt_number": "*"
    },
    {
     "cell_type": "code",
     "collapsed": false,
     "input": [
      "outDict = {'occupied':cfg['extras']['occupied'],\n",
      "           'viable':cfg['extras']['postExclusion']+cfg['extras']['permanent'],\n",
      "           'network':cfg['extras']['network']}\n",
      "outFile = open('RunData.pickle','w')\n",
      "cPickle.dump(outDict,outFile)\n",
      "outFile.close()"
     ],
     "language": "python",
     "metadata": {},
     "outputs": [],
     "prompt_number": "*"
    },
    {
     "cell_type": "heading",
     "level": 3,
     "metadata": {},
     "source": [
      "Sparsify function reduces resolution for nodes below a reachability threshold for high resolution runs"
     ]
    },
    {
     "cell_type": "code",
     "collapsed": false,
     "input": [
      "def sparsify(network,cfg,pLocs,size):\n",
      "    limit = cfg['sparsifyLimit']\n",
      "    newNet = deepcopy(network)\n",
      "    xSize = cfg['xSize']\n",
      "    ySize = cfg['ySize']\n",
      "    \n",
      "    destinations = cfg['extras']['postExclusion'] + cfg['extras']['permanent']\n",
      "    print \"Number of destinations:\",len(destinations)\n",
      "    print \"Limit:\",limit\n",
      "    xRemoved = 0; yRemoved = 0\n",
      "    \n",
      "    if cfg['sparsifyX']:\n",
      "        for x in range(0,xSize-1,2):\n",
      "            for y in range(ySize):\n",
      "                if cfg['extras']['lakes'][x][y]>=limit and cfg['extras']['lakes'][x+1][y]>=limit:\n",
      "                    if True:\n",
      "                        newNet.remove_node(str([x+1,y]))\n",
      "                        cfg['extras']['lakes'][x+1][y] = -1\n",
      "                        pLocs[x][y] += pLocs[x+1][y]\n",
      "                        pLocs[x+1][y] = 0\n",
      "                        xRemoved += 1\n",
      "                        #print \"removing x node\",x,y\n",
      "                    else:\n",
      "                        None\n",
      "                    if True:\n",
      "                        #print \"adding x edge\",x,y,x+2,y\n",
      "                        weight = max(cfg['extras']['lakes'][x][y],cfg['extras']['lakes'][x+2][y])\n",
      "                        newNet = placeEdge(cfg,[x,y],[x+2,y],weight,newNet)\n",
      "                    else:\n",
      "                        None\n",
      "        print \"X Sparsification complete, removed\", xRemoved,\"edges\"\n",
      "    if cfg['sparsifyY']:\n",
      "        for x in range(xSize):\n",
      "            for y in range(0,ySize-1,2):\n",
      "                if cfg['extras']['lakes'][x][y]>=limit and cfg['extras']['lakes'][x][y+1]>=limit:\n",
      "                    try:\n",
      "                        newNet.remove_node(str([x,y+1]))\n",
      "                        cfg['extras']['lakes'][x][y+1] = -1\n",
      "                        pLocs[x][y] += pLocs[x][y+1]\n",
      "                        pLocs[x][y+1] = 0\n",
      "                        yRemoved += 1\n",
      "                        #print \"removing y node\",x,y\n",
      "                    except:\n",
      "                        None\n",
      "                    try:\n",
      "                        #print \"adding y edge\",x,y,x,y+2\n",
      "                        weight = max(cfg['extras']['lakes'][x][y],cfg['extras']['lakes'][x][y+2])\n",
      "                        newNet = placeEdge(cfg,[x,y],[x,y+2],weight,newNet)\n",
      "                    except:\n",
      "                        None\n",
      "        print \"Y Sparsification complete, removed\", yRemoved,\"edges\"\n",
      "    occupied = extract(pLocs,0,99999)\n",
      "    \n",
      "    #Reinserting resources to network\n",
      "    if xRemoved+yRemoved > 0:\n",
      "        print \"Re-adding resource edges to sparsified network\"\n",
      "        for resource in destinations:\n",
      "            for x in range(resource[0]-1,resource[0]+1):\n",
      "                for y in range(resource[1]-1,resource[1]+1):\n",
      "                    if cfg['extras']['lakes'][x][y] != -1 and [x,y] != resource:\n",
      "                        weight = min(cfg['extras']['lakes'][x][y],cfg['extras']['lakes'][resource[0]][resource[1]])\n",
      "                        cfg['extras']['lakes'][x][y] = 1\n",
      "                        newNet = placeEdge(cfg,[x,y],[resource[0],resource[1]],weight,newNet)\n",
      "                        \n",
      "    print \"Network sparsification complete:\",len(newNet),newNet.number_of_edges()          \n",
      "    return newNet,pLocs,occupied,cfg['extras']['lakes']\n",
      "            \n",
      "if cfg['sparsifyY'] or cfg['sparsifyY']:      \n",
      "    #cfg['extras']['network'],pLocs,cfg['extras']['occupied'],cfg['extras']['lakes'] = sparsify(cfg['extras']['network'],cfg,pLocs,0)\n",
      "    temp,temp,temp,temp = sparsify(cfg['extras']['network'],cfg,pLocs,0)"
     ],
     "language": "python",
     "metadata": {},
     "outputs": [],
     "prompt_number": "*"
    },
    {
     "cell_type": "heading",
     "level": 3,
     "metadata": {},
     "source": [
      "Prioritizes Points to Reduce Redundancy"
     ]
    },
    {
     "cell_type": "code",
     "collapsed": false,
     "input": [
      "def rank(x1,y1,x2,y2):\n",
      "    if x1 < x2:\n",
      "        return x1,y1,x2,y2\n",
      "    elif x1 > x2:\n",
      "        return x2,y2,x1,y1\n",
      "    elif y1 < y2:\n",
      "        return x1,y1,x2,y2\n",
      "    else:\n",
      "        return x2,y2,x1,y1"
     ],
     "language": "python",
     "metadata": {},
     "outputs": [],
     "prompt_number": "*"
    },
    {
     "cell_type": "heading",
     "level": 3,
     "metadata": {},
     "source": [
      "Reverse Lookup Method, find all distances to a give resource location"
     ]
    },
    {
     "cell_type": "code",
     "collapsed": false,
     "input": [
      "inFile = open('DistDictNew.pickle','rb')\n",
      "cfg['extras']['preCalculated'] = cPickle.load(inFile)\n",
      "inFile.close()"
     ],
     "language": "python",
     "metadata": {},
     "outputs": [],
     "prompt_number": "*"
    },
    {
     "cell_type": "code",
     "collapsed": false,
     "input": [
      "def getStatsSub(locations,core,destStrings,out_q):\n",
      "    data = []; weights = []\n",
      "    for pt in data:\n",
      "        trips = set()\n",
      "        key = str(pt)\n",
      "        for dest in destStrings:\n",
      "            try:\n",
      "                trips.add(cfg['extras']['preCalculated'][dest][key])\n",
      "            except:\n",
      "                None\n",
      "        if len(trips) != 0:\n",
      "            data.append(min(trips))\n",
      "            weights.append(pLocs[pt[0]][pt[1]])\n",
      "    out_q.put({core:[data,weights]})"
     ],
     "language": "python",
     "metadata": {},
     "outputs": [],
     "prompt_number": "*"
    },
    {
     "cell_type": "code",
     "collapsed": false,
     "input": [
      "def reverseLookup(cfg,rLocs,pLocs,call='null'):\n",
      "    try:\n",
      "        distances = cfg['extras']['preCalculated']\n",
      "        preCalc = True\n",
      "    except:\n",
      "        preCalc = False\n",
      "        \n",
      "    data = []; weights = []\n",
      "    \n",
      "    if preCalc:\n",
      "        destStrings = [str(pt) for pt in (rLocs+cfg['extras']['permanent'])]\n",
      "    if not preCalc:\n",
      "        try:\n",
      "            last = cfg['extras']['last']\n",
      "        except:\n",
      "            last = dict()\n",
      "        distances = dict()\n",
      "        destinations = rLocs+cfg['extras']['permanent']\n",
      "        destStrings = []\n",
      "        for pt in destinations:\n",
      "            key = str(pt)\n",
      "            try:\n",
      "                distances[key] = last[key]\n",
      "                destStrings.append(key)\n",
      "            except:\n",
      "                try:\n",
      "                    distances[key] = nx.single_source_dijkstra_path_length(cfg['extras']['network'],key)\n",
      "                    destStrings.append(key)\n",
      "                except:\n",
      "                    None\n",
      "\n",
      "    if call == 'null':\n",
      "        for pt in cfg['extras']['occupied']:\n",
      "            trips = set()\n",
      "            key = str(pt)\n",
      "            for dest in destStrings:\n",
      "                try:\n",
      "                    trips.add(distances[dest][key])\n",
      "                except:\n",
      "                    None\n",
      "            if len(trips) != 0:\n",
      "                data.append(min(trips))\n",
      "                weights.append(pLocs[pt[0]][pt[1]])\n",
      "        if not preCalc:\n",
      "            cfg['extras']['last'] = destinations\n",
      "        return data, weights\n",
      "    \n",
      "    elif call == 'full':\n",
      "        for pt in cfg['extras']['occupied']:\n",
      "            trips = set()\n",
      "            key = str(pt)\n",
      "            for dest in destStrings:\n",
      "                try:\n",
      "                    trips.add(distances[dest][key])\n",
      "                except:\n",
      "                    None\n",
      "            if len(trips) != 0:\n",
      "                data.append(min(trips))\n",
      "            else:\n",
      "                data.append(0)\n",
      "        return data\n",
      "    \n",
      "    \n",
      "    elif call == 'plot':\n",
      "        distMap = zeros((xSize,ySize))\n",
      "        ptRefs = dict()\n",
      "        for pt in cfg['extras']['occupied']:\n",
      "            trips = set()\n",
      "            key = str(pt)\n",
      "            for dest in destStrings:\n",
      "                try:\n",
      "                    trips.add(distances[dest][key])\n",
      "                except:\n",
      "                    None\n",
      "            if len(trips) != 0:\n",
      "                ptRefs[str(pt)] = min(trips)\n",
      "        \n",
      "        if not preCalc:\n",
      "            cfg['extras']['last'] = destinations\n",
      "        \n",
      "        for key,value in ptRefs.iteritems():\n",
      "            pt = listFromStr(key)\n",
      "            distMap[pt[0]][pt[1]] = value\n",
      "        return distMap\n",
      "    \n",
      "    elif call == 'multi':\n",
      "        out_q = Queue()\n",
      "        \n",
      "        block = int(ceil(len(cfg['extras']['occupied'])/float(cfg['threads'])))\n",
      "        processes = []; data = []; weights = []\n",
      "\n",
      "        for i in range(cfg['threads']):\n",
      "            p = Process(target = getStatsSub, args = (cfg['extras']['occupied'][block*i:block*(i+1)],destStrings,i,out_q))\n",
      "            processes.append(p)\n",
      "            p.start()\n",
      "            merged = {}\n",
      "        for i in range(cfg['threads']):\n",
      "            merged.update(out_q.get())\n",
      "        for p in processes:\n",
      "            p.join()\n",
      "        for i in range(cfg['threads']):\n",
      "            data += merged[i[0]]\n",
      "            weights += merged[i[1]]\n",
      "\n",
      "        if not preCalc:\n",
      "            cfg['extras']['last'] = destinations\n",
      "            \n",
      "        return data, weights"
     ],
     "language": "python",
     "metadata": {},
     "outputs": [],
     "prompt_number": "*"
    },
    {
     "cell_type": "heading",
     "level": 3,
     "metadata": {},
     "source": [
      "Worker Functions"
     ]
    },
    {
     "cell_type": "code",
     "collapsed": false,
     "input": [
      "def getPts(locs):\n",
      "    \"\"\"Converts pt list to plotable format\"\"\"\n",
      "    ptsX = [pt[0] for pt in locs]\n",
      "    ptsY = [pt[1] for pt in locs]\n",
      "    return ptsX,ptsY"
     ],
     "language": "python",
     "metadata": {},
     "outputs": [],
     "prompt_number": "*"
    },
    {
     "cell_type": "code",
     "collapsed": false,
     "input": [
      "def getStats(pLocs,rLocs,cfg):\n",
      "    data,weights = reverseLookup(cfg,rLocs,pLocs,call='multi')\n",
      "    mean = average(data, weights=weights)\n",
      "    return {'max':max(data),\n",
      "            'min':min(data),\n",
      "            'mean':mean,\n",
      "            'std':pow(average((data-mean)**2, weights=weights),0.5)}"
     ],
     "language": "python",
     "metadata": {},
     "outputs": [],
     "prompt_number": "*"
    },
    {
     "cell_type": "heading",
     "level": 3,
     "metadata": {},
     "source": [
      "Plot Generation"
     ]
    },
    {
     "cell_type": "code",
     "collapsed": false,
     "input": [
      "def mapTransparency(grid,coloredGrid,alphaPow):\n",
      "    temp = deepcopy(coloredGrid)\n",
      "    maxVal = max([max(row) for row in grid])\n",
      "    for i in range(len(temp)):\n",
      "        for j in range(len(temp[0])):\n",
      "            temp[i][j][3] = pow((float(grid[i][j])/maxVal),alphaPow)\n",
      "    return temp\n",
      "\n",
      "\n",
      "def mapColors(grid,level,cmap):\n",
      "    cNorm = colors.Normalize(vmin=0, vmax=level)\n",
      "    scalarMap = cm.ScalarMappable(norm=cNorm, cmap=cmap)\n",
      "    if type(grid) is list:\n",
      "        temp = array(grid).tolist()\n",
      "    else:\n",
      "        temp = grid.tolist()\n",
      "    for x in range(len(grid)):\n",
      "        for y in range(len(grid[0])):\n",
      "            temp[x][y] = list(scalarMap.to_rgba(float(grid[x][y])))\n",
      "    return temp\n",
      "\n",
      "\n",
      "def ptsToText(pts,cfg,precision = 10):\n",
      "    locStrings = []\n",
      "    gCoder = geocoders.GoogleV3()\n",
      "    for pt in pts:\n",
      "        coord = ptToCoords(pt,cfg)\n",
      "        try:\n",
      "            place, (lat,lon) = gCoder.geocode(\"%s,%s\" % (coord[0],coord[1]))\n",
      "        except:\n",
      "            place = 'Unknown Road'\n",
      "        locStrings.append('%s : {%s, %s}' % (place,str(coord[0])[0:precision],str(coord[1])[0:precision]))\n",
      "    return locStrings\n",
      "\n",
      "\n",
      "def pltLocs(pLocs,rLocs,cfg,stats='null',\n",
      "            title='null',\n",
      "            call='null',\n",
      "            cmap ='Greys_r', \n",
      "            cmap2 = 'autumn_r',\n",
      "            transpose = True,\n",
      "            popAlpha = 1,\n",
      "            alphaPow = 0.2,\n",
      "            distMap = True):\n",
      "    \n",
      "    if cfg['netMode'] == 'grid':\n",
      "        print \"Plotting grid map\"\n",
      "        return pltGrid(pLocs,rLocs,cfg,stats=stats,\n",
      "            title = title,\n",
      "            call = call,\n",
      "            cmap = cmap, \n",
      "            cmap2 = cmap2,\n",
      "            transpose = transpose,\n",
      "            popAlpha = popAlpha,\n",
      "            alphaPow = alphaPow,\n",
      "            distMap = distMap)\n",
      "    elif cfg['netMode'] == 'proximity':\n",
      "        print \"Plotting sparse map\"\n",
      "        return pltSparse(pLocs,rLocs,cfg,stats=stats,\n",
      "            title = title,\n",
      "            call = call,\n",
      "            cmap = cmap, \n",
      "            cmap2 = cmap2,\n",
      "            transpose = transpose,\n",
      "            popAlpha = popAlpha,\n",
      "            alphaPow = alphaPow,\n",
      "            distMap = distMap)"
     ],
     "language": "python",
     "metadata": {},
     "outputs": [],
     "prompt_number": "*"
    },
    {
     "cell_type": "code",
     "collapsed": false,
     "input": [
      "def pltGrid(pLocs,rLocs,cfg,stats='null',\n",
      "            title='null',\n",
      "            call='null',\n",
      "            cmap ='Greys_r', \n",
      "            cmap2 = 'autumn_r',\n",
      "            transpose = True,\n",
      "            popAlpha = 1,\n",
      "            alphaPow = 0.2,\n",
      "            distMap = True):\n",
      "    \n",
      "    if call == 'animate' or call == 'final':\n",
      "        plt.clf()\n",
      "        spacer = '\\n\\n'\n",
      "        xNudge = -.05\n",
      "        yNudge = 0.87\n",
      "        #fig = plt.figure(figsize=(15,15))\n",
      "    else:\n",
      "        fig = plt.figure(figsize=(15,15))\n",
      "        spacer = ' '*7\n",
      "        xNudge = -0.05\n",
      "        yNudge = 1.005\n",
      "\n",
      "\n",
      "    ax1 = plt.subplot(221)\n",
      "    \n",
      "    \n",
      "    if cfg['travel'] == 'network':\n",
      "        plt.imshow(cfg['extras']['lakes'],cmap=cmap,interpolation='nearest',alpha =0.7)\n",
      "        plt.xlim(0,len(cfg['extras']['lakes'][0]))\n",
      "        plt.ylim(0,len(cfg['extras']['lakes']))\n",
      "    else:\n",
      "        plt.xlim(0,max([entry[0] for entry in cfg['extra']['occupied']]))\n",
      "        plt.ylim(0,max([entry[1] for entry in cfg['extra']['occupied']]))\n",
      "    if cfg['population'] == 'discrete':\n",
      "        pX,pY = getPts(pLocs)\n",
      "        plt.scatter(pY,pX, s=2, c='black', alpha=0.25)\n",
      "    elif call != 'final' and call != 'finalOut':\n",
      "        colorized = mapColors(pLocs,1,cmap2)\n",
      "        colorized = mapTransparency(pLocs,colorized,alphaPow)\n",
      "        plt.imshow(colorized,cmap=cmap2,interpolation='nearest',zorder=2,alpha = popAlpha)\n",
      "    if call != 'final':\n",
      "        plt.title(\"Regional Population Density and Travel Network\",size=12)\n",
      "    else:\n",
      "        plt.title(\"Regional Travel Network\",size=12)\n",
      "        \n",
      "    xTicks = arange(0,cfg['geo']['ncols'],25)\n",
      "    yTicks = arange(0,cfg['geo']['nrows'],25)\n",
      "    xLabels = [str(ptToCoords([0,pt],cfg)[1])[0:7] for pt in xTicks]\n",
      "    yLabels = [str(ptToCoords([pt,0],cfg)[0])[0:7] for pt in yTicks]\n",
      "    plt.xticks(xTicks, xLabels,rotation=45,size=10)\n",
      "    plt.yticks(yTicks, yLabels,size=10)\n",
      "    plt.grid(True)\n",
      "    \n",
      "        \n",
      "    rX,rY = getPts(rLocs)\n",
      "    plt.scatter(rY,rX, s=250, zorder=3, c = 'none')\n",
      "    plt.scatter(rY,rX, s=250, c='red', zorder=3, alpha = .5)\n",
      "    \n",
      "    bX,bY = getPts(cfg['extras']['permanent'])\n",
      "    plt.scatter(bY,bX, s=250, zorder=3, c = 'none')\n",
      "    plt.scatter(bY,bX, s=250, c='blue', zorder=3, alpha = .5)\n",
      "    \n",
      "    \n",
      "    ax2 = plt.subplot(222)\n",
      "    if distMap:\n",
      "        plt.imshow(reverseLookup(cfg,rLocs,pLocs,call='plot'),origin='lower')\n",
      "    plt.title(\"Expected Travel Time by Region\",size = 12)\n",
      "    plt.xticks(xTicks, xLabels,rotation=45,size=10)\n",
      "    yLabels = ['' for pt in yTicks]\n",
      "    plt.yticks(yTicks, yLabels,size=10)\n",
      "    plt.grid(True)\n",
      "    \n",
      "    \n",
      "    if call == 'final' or call == 'finalOut':\n",
      "        for x, y, in zip(rY, rX):\n",
      "            try:\n",
      "                ax1.annotate(ptsToText([[x,y]],cfg,precision = 7)[0], \n",
      "                xy = (x, y), xytext = (-20, 20),\n",
      "                textcoords = 'offset points', ha = 'left', va = 'bottom',\n",
      "                bbox = dict(boxstyle = 'round,pad=0.4', fc = 'yellow', alpha = 0.8),\n",
      "                arrowprops = dict(arrowstyle = '->', connectionstyle = 'arc3,rad=0'),\n",
      "                zorder = 100)\n",
      "                ax2.texts.append(ax1.texts.pop())\n",
      "            except:\n",
      "                None\n",
      "            plt.suptitle('%s Resource Final Results' % nResource,fontsize =18,y=yNudge)\n",
      "    \n",
      "    if call != 'animate' and call != 'final':\n",
      "        plt.tight_layout()\n",
      "    else:\n",
      "        None\n",
      "        #plt.subplots_adjust(wspace=0.02)\n",
      "    \n",
      "    if title != 'null' and call != 'final' and call != 'finalOut':\n",
      "        plt.suptitle(title,fontsize =18,y=yNudge)\n",
      "    if stats != 'null':\n",
      "        plt.xlabel('Mean Travel Time (hrs): %s%sMax Travel Time: %s%sStd Dev: %s' % (stats['mean'],spacer,stats['max'],spacer,stats['std']),\n",
      "                   x=xNudge,size=14)\n",
      "    if call != 'animate' and call != 'final':\n",
      "        plt.show()\n",
      "    return plt"
     ],
     "language": "python",
     "metadata": {},
     "outputs": [],
     "prompt_number": "*"
    },
    {
     "cell_type": "code",
     "collapsed": false,
     "input": [
      "def pltSparse(pLocs,rLocs,cfg,stats='null',\n",
      "            title='null',\n",
      "            call='null',\n",
      "            cmap ='Greys_r', \n",
      "            cmap2 = 'autumn_r',\n",
      "            transpose = True,\n",
      "            popAlpha = 1,\n",
      "            alphaPow = 0.2,\n",
      "            distMap = True):\n",
      "    \n",
      "    if call == 'animate' or call == 'final':\n",
      "        plt.clf()\n",
      "        spacer = '\\n\\n'\n",
      "        xNudge = -.05\n",
      "        yNudge = 0.87\n",
      "        fig = plt.figure(figsize=(15,15))\n",
      "    else:\n",
      "        fig = plt.figure(figsize=(15,15))\n",
      "        spacer = ' '*7\n",
      "        xNudge = -0.05\n",
      "        yNudge = 1.005\n",
      "\n",
      "\n",
      "    ax1 = plt.subplot(221,axisbg='dimgray')\n",
      "    plt.xlim(0,len(cfg['extras']['lakes'][0]))\n",
      "    plt.ylim(0,len(cfg['extras']['lakes']))\n",
      "    \n",
      "    net = cfg['extras']['network']\n",
      "    travel = cfg['extras']['lakes']\n",
      "    a = [e for e in net.edges_iter()]\n",
      "    lines =[]; colors = []\n",
      "    print \"Prepping vector map\"\n",
      "    for e in a:\n",
      "        ptA = listFromStr(e[0]); ptB = listFromStr(e[1])\n",
      "        alpha = min(1.2 - max(travel[ptA[0]][ptA[1]],travel[ptB[0]][ptB[1]]),1)\n",
      "        lines.append([(ptA[1],ptA[0]),(ptB[1],ptB[0])])\n",
      "        colors.append((0, alpha, 0, alpha))\n",
      "    colors = array(colors)\n",
      "    \n",
      "    ax1.add_collection(mc.LineCollection(lines, colors=colors, linewidths=1))\n",
      "    del a; del lines; del colors\n",
      "\n",
      "    densities = [pLocs[pt[0]][pt[1]] for pt in cfg['extras']['occupied']]\n",
      "    maxDensity = float(max(densities))\n",
      "    breaks = [0.,.05,.1,.2,.4,.6,.8,1.,1]\n",
      "    \n",
      "    print \"Plotting points\"\n",
      "    for pos in range(7):\n",
      "        prior = breaks[pos]; current = breaks[pos+1]\n",
      "        pts = [cfg['extras']['occupied'][pt] for pt in range(len(densities)) if densities[pt]<=current and densities[pt]>=prior]\n",
      "        pX,pY = getPts(pts)\n",
      "        transp = 1.\n",
      "        sizeMod = current*transp\n",
      "        alphaMod = sizeMod\n",
      "        plt.scatter(pY,pX,s=50*sizeMod,c='red',marker=\".\",alpha=alphaMod,edgecolors='none',zorder=2)\n",
      "    \n",
      "    del densities; del pts\n",
      "\n",
      "    if call != 'final':\n",
      "        plt.title(\"Regional Population Density and Travel Network\",size=12)\n",
      "    else:\n",
      "        plt.title(\"Regional Travel Network\",size=12)\n",
      "        \n",
      "    xTicks = arange(0,cfg['geo']['ncols'],cfg['geo']['ncols']/10.)\n",
      "    yTicks = arange(0,cfg['geo']['nrows'],cfg['geo']['nrows']/10.)\n",
      "    xLabels = [str(ptToCoords([0,pt],cfg)[1])[0:7] for pt in xTicks]\n",
      "    yLabels = [str(ptToCoords([pt,0],cfg)[0])[0:7] for pt in yTicks]\n",
      "    plt.xticks(xTicks, xLabels,rotation=45,size=10)\n",
      "    plt.yticks(yTicks, yLabels,size=10)\n",
      "    plt.grid(True)\n",
      "    \n",
      "    print \"Adding resources\"   \n",
      "    rX,rY = getPts(rLocs)\n",
      "    plt.scatter(rY,rX, s=250, zorder=3, c = 'none')\n",
      "    plt.scatter(rY,rX, s=250, c='white', zorder=3, alpha = .5)\n",
      "    \n",
      "    bX,bY = getPts(cfg['extras']['permanent'])\n",
      "    plt.scatter(bY,bX, s=250, zorder=3, c = 'none')\n",
      "    plt.scatter(bY,bX, s=250, c='blue', zorder=3, alpha = .5)\n",
      "    \n",
      "    print \"Adding travel times\"\n",
      "    ax2 = plt.subplot(222,axisbg='darkblue')\n",
      "    plt.xlim(0,len(cfg['extras']['lakes'][0]))\n",
      "    plt.ylim(0,len(cfg['extras']['lakes']))\n",
      "    pX,pY = getPts(cfg['extras']['occupied'])\n",
      "    shades = reverseLookup(cfg,rLocs,pLocs,call='full')\n",
      "    plt.scatter(pY,pX,s=10,\n",
      "                c=shades,\n",
      "                marker=\".\",edgecolors='none')\n",
      "    \n",
      "    del pY; del pX; del shades\n",
      "\n",
      "    plt.title(\"Expected Travel Time by Region\",size = 12)\n",
      "    plt.xticks(xTicks, xLabels,rotation=45,size=10)\n",
      "    yLabels = ['' for pt in yTicks]\n",
      "    plt.yticks(yTicks, yLabels,size=10)\n",
      "    plt.grid(True)\n",
      "    \n",
      "    \n",
      "    if call == 'final' or call == 'finalOut':\n",
      "        for x, y, in zip(rY, rX):\n",
      "            if True:\n",
      "                ax1.annotate(ptsToText([[x,y]],cfg,precision = 7)[0], \n",
      "                xy = (x, y), xytext = (-20, 20),\n",
      "                textcoords = 'offset points', ha = 'left', va = 'bottom',\n",
      "                bbox = dict(boxstyle = 'round,pad=0.4', fc = 'yellow', alpha = 0.8),\n",
      "                arrowprops = dict(arrowstyle = '->', connectionstyle = 'arc3,rad=0'),\n",
      "                zorder = 100)\n",
      "                ax2.texts.append(ax1.texts.pop())\n",
      "            else:\n",
      "                None\n",
      "            plt.suptitle('%s Resource Final Results' % nResource,fontsize =18,y=yNudge)\n",
      "    \n",
      "    if call != 'animate' and call != 'final':\n",
      "        plt.tight_layout()\n",
      "    else:\n",
      "        None\n",
      "    \n",
      "    if title != 'null' and call != 'final' and call != 'finalOut':\n",
      "        plt.suptitle(title,fontsize =18,y=yNudge)\n",
      "    if stats != 'null':\n",
      "        plt.xlabel('Mean Travel Time (hrs): %s%sMax Travel Time: %s%sStd Dev: %s' % (stats['mean'],spacer,stats['max'],spacer,stats['std']),\n",
      "                   x=xNudge,size=14)\n",
      "    if call != 'animate' and call != 'final':\n",
      "        plt.show()\n",
      "    return plt"
     ],
     "language": "python",
     "metadata": {},
     "outputs": [],
     "prompt_number": "*"
    },
    {
     "cell_type": "heading",
     "level": 3,
     "metadata": {},
     "source": [
      "Starting Conditions"
     ]
    },
    {
     "cell_type": "code",
     "collapsed": false,
     "input": [
      "stats  = {'mean':0,'max':0,'std':0}\n",
      "pltLocs(pLocs,rLocs,cfg,title = 'Starting Conditions',popAlpha = 1, stats= stats,call='finalOut')"
     ],
     "language": "python",
     "metadata": {},
     "outputs": [],
     "prompt_number": "*"
    },
    {
     "cell_type": "heading",
     "level": 3,
     "metadata": {},
     "source": [
      "Denaturing Algorithm"
     ]
    },
    {
     "cell_type": "code",
     "collapsed": false,
     "input": [
      "def denature(pLocs,rLocs,meanTilt,cfg,\n",
      "             tracker=[],\n",
      "             stopLimit = 50,\n",
      "             timeLimit = 20000,\n",
      "             showEvery = 25,\n",
      "             best = 10000000,\n",
      "             bestStats=dict(),\n",
      "             show = True):\n",
      "    \n",
      "    \"\"\"Randomly replaces 1 to n/2 resource locations and keeps if new solution scores better\"\"\"\n",
      "    n = len(rLocs)\n",
      "    gen = 0\n",
      "    scores = []\n",
      "    bestStats = dict()\n",
      "    t1 = datetime.datetime.now()\n",
      "    while len(scores)<stopLimit or len(set(scores[-stopLimit:])) != 1:\n",
      "        newLocs = deepcopy(rLocs)\n",
      "        ids = sample(range(n),randint(1,int(n/2.+.5)))\n",
      "        for x in ids:\n",
      "            if cfg['inCityD']:\n",
      "                loc = choice(cfg['extras']['postExclusion'])\n",
      "            else:\n",
      "                loc = [randint(0,cfg['xSize']-1),randint(0,cfg['ySize']-1)]\n",
      "            newLocs[x] = loc\n",
      "            \n",
      "        try:\n",
      "            stats = cfg['extras']['tried'][str(sorted(newLocs))]\n",
      "        except:\n",
      "            stats = getStats(pLocs,newLocs,cfg)\n",
      "            cfg['extras']['tried'][str(sorted(newLocs))] = stats\n",
      "            \n",
      "        score = stats['mean']*meanTilt + stats['max']*(1-meanTilt)\n",
      "        if best > score:\n",
      "            rLocs = deepcopy(newLocs); bestStats = deepcopy(stats)\n",
      "            best = score\n",
      "            tracker.append({'gen':'Denature %s' % gen,'score':score,'stats':deepcopy(stats),'pts':deepcopy(rLocs)})\n",
      "        if gen%showEvery == 0:\n",
      "            print \"Best: %s   Uni: %s   Gen: %s   Mean: %s   Max: %s   Std: %s   Time: %s\" % (best,\n",
      "                                                                   len(set(scores[-stopLimit:])),\n",
      "                                                                   gen,bestStats['mean'],\n",
      "                                                                   bestStats['max'],\n",
      "                                                                   bestStats['std'],\n",
      "                                                                   (datetime.datetime.now()-t1).seconds)\n",
      "        if gen%(showEvery*20) == 0 and show:\n",
      "            pltLocs(pLocs,rLocs,cfg,bestStats,title='Denaturer Gen %s Optimal Placement' % gen,cmap='Greys_r',cmap2='autumn_r')\n",
      "        if gen == timeLimit:\n",
      "            break\n",
      "        scores.append(best)\n",
      "        gen += 1\n",
      "    if gen == timeLimit:\n",
      "        print \"\\nGeneration limit reached after %s generations\" % timeLimit\n",
      "    else:\n",
      "        print \"\\nStable solution found at generation %s and maintained for %s generations\" % (gen-stopLimit,stopLimit)\n",
      "    pltLocs(pLocs,rLocs,cfg,bestStats,title='Gen %s Optimal Placement' % gen,cmap='Greys_r',cmap2='autumn_r')\n",
      "    print len(tracker), \"improvements made\"\n",
      "    return rLocs,tracker,best,bestStats"
     ],
     "language": "python",
     "metadata": {},
     "outputs": [],
     "prompt_number": "*"
    },
    {
     "cell_type": "heading",
     "level": 3,
     "metadata": {},
     "source": [
      "Hill Climber Algorithm"
     ]
    },
    {
     "cell_type": "code",
     "collapsed": false,
     "input": [
      "def climb(pLocs,rLocs,meanTilt,cfg,\n",
      "             tracker=[],\n",
      "             stopLimit = 50,\n",
      "             timeLimit = 20000,\n",
      "             showEvery = 25,\n",
      "             best = 10000000,\n",
      "             bestStats=dict(),\n",
      "             show = True):\n",
      "    \"\"\"Randomly nudges 1 to n/2 resources locations and keeps if new solution is better\"\"\"\n",
      "    n = len(rLocs)\n",
      "    gen = 0\n",
      "    scores = []\n",
      "    t1 = datetime.datetime.now()\n",
      "    while len(scores)<stopLimit or len(set(scores[-stopLimit:])) != 1:\n",
      "        newLocs = deepcopy(rLocs)\n",
      "        ids = sample(range(n),randint(1,int(n/2.+.5)))\n",
      "        for x in ids:\n",
      "            if cfg['inCityH']:\n",
      "                loc = choice(cfg['extras']['neighbors'][x])\n",
      "            else:\n",
      "                loc = [rLocs[x][0]+randint(-cfg['wander'],cfg['wander']),rLocs[x][1]+randint(-cfg['wander'],cfg['wander'])]\n",
      "            newLocs[x] = loc\n",
      "            \n",
      "        try:\n",
      "            stats = cfg['extras']['tried'][str(sorted(newLocs))]\n",
      "        except:\n",
      "            stats = getStats(pLocs,newLocs,cfg)\n",
      "            cfg['extras']['tried'][str(sorted(newLocs))] = stats\n",
      "            \n",
      "        score = stats['mean']*meanTilt + stats['max']*(1-meanTilt)\n",
      "        if best > score:\n",
      "            rLocs = deepcopy(newLocs); bestStats = deepcopy(stats)\n",
      "            best = score\n",
      "            tracker.append({'gen':'Hill Climber %s' % gen,'score':score,'stats':deepcopy(stats),'pts':deepcopy(rLocs)})\n",
      "        if gen%showEvery == 0:\n",
      "            print \"Best: %s   Uni: %s   Gen: %s   Mean: %s   Max: %s   Std: %s   Time: %s\" % (best,\n",
      "                                                                   len(set(scores[-stopLimit:])),\n",
      "                                                                   gen,bestStats['mean'],\n",
      "                                                                   bestStats['max'],\n",
      "                                                                   bestStats['std'],\n",
      "                                                                   (datetime.datetime.now()-t1).seconds)\n",
      "        if gen%(showEvery*20) == 0 and show:\n",
      "            pltLocs(pLocs,rLocs,cfg,bestStats,title='Hill Climber Gen %s Optimal Placement' % gen,cmap='Greys_r',cmap2='autumn_r')\n",
      "        if gen == timeLimit:\n",
      "            break\n",
      "        scores.append(best)\n",
      "        gen += 1\n",
      "    if gen == timeLimit:\n",
      "        print \"\\nGeneration limit reached after %s generations\" % timeLimit\n",
      "    else:\n",
      "        print \"\\nStable solution found at generation %s and maintained for %s generations\" % (gen-stopLimit,stopLimit)\n",
      "    pltLocs(pLocs,rLocs,cfg,bestStats,title='Gen %s Optimal Placement' % gen,cmap='Greys_r',cmap2='autumn_r')\n",
      "    print len(tracker), \"improvements made\"    \n",
      "    return rLocs,tracker,best,bestStats"
     ],
     "language": "python",
     "metadata": {},
     "outputs": [],
     "prompt_number": "*"
    },
    {
     "cell_type": "heading",
     "level": 3,
     "metadata": {},
     "source": [
      "Experiment Results"
     ]
    },
    {
     "cell_type": "code",
     "collapsed": false,
     "input": [
      "#Denature until stable solution is maintained for 30000 generations\n",
      "stagnantLimit = 2000\n",
      "best = 10000000\n",
      "showEvery = 5\n",
      "cfg['threads'] = 4\n",
      "\n",
      "rLocs,tracker,best,bestStats = denature(pLocs,rLocs,meanTilt,cfg,\n",
      "                              stopLimit = stagnantLimit,\n",
      "                              timeLimit = 'null',\n",
      "                              showEvery = showEvery,\n",
      "                              best = best,\n",
      "                              show = False)"
     ],
     "language": "python",
     "metadata": {},
     "outputs": [],
     "prompt_number": "*"
    },
    {
     "cell_type": "code",
     "collapsed": false,
     "input": [
      "\"\"\"#Hill climb until stable solution is maintained for 3000 generations\n",
      "cfg['threads'] = 1\n",
      "stagnantLimit = 2000\n",
      "\n",
      "rLocs,tracker,best,bestStats = climb(pLocs,rLocs,meanTilt,cfg,\n",
      "                              stopLimit = stagnantLimit,\n",
      "                              timeLimit = 'null',\n",
      "                              showEvery = showEvery,\n",
      "                              best = best,\n",
      "                              bestStats = bestStats,\n",
      "                              tracker = tracker)\"\"\""
     ],
     "language": "python",
     "metadata": {},
     "outputs": [],
     "prompt_number": "*"
    },
    {
     "cell_type": "heading",
     "level": 3,
     "metadata": {},
     "source": [
      "Save pickle if ran, load pickle if not"
     ]
    },
    {
     "cell_type": "code",
     "collapsed": false,
     "input": [
      "do = 'save'\n",
      "try:\n",
      "    test = tracker\n",
      "    if len(test) > 1:\n",
      "        fileOut = open('Tracker%s.pickle' % nResource,'w')\n",
      "        cPickle.dump(tracker,fileOut)\n",
      "        fileOut.close()\n",
      "        print \"Saved tracker to file\"\n",
      "    else:\n",
      "        do = 'load'\n",
      "except:\n",
      "    do = 'load'\n",
      "\n",
      "if do == 'load':\n",
      "    fileOut = open('Tracker%s.pickle' % nResource)\n",
      "    tracker = cPickle.load(fileOut)\n",
      "    fileOut.close()\n",
      "    rLocs = tracker[-1]['pts']\n",
      "    stats = tracker[-1]['stats']\n",
      "    gen = tracker[-1]['gen']\n",
      "    print \"Loaded tracker from file\""
     ],
     "language": "python",
     "metadata": {},
     "outputs": [],
     "prompt_number": "*"
    },
    {
     "cell_type": "heading",
     "level": 3,
     "metadata": {},
     "source": [
      "Plot final results"
     ]
    },
    {
     "cell_type": "code",
     "collapsed": false,
     "input": [
      "pltLocs(pLocs,rLocs,cfg,popAlpha = 1, alphaPow = .25, stats= stats,call='finalOut')\n",
      "pltLocs(pLocs,rLocs,cfg,title = 'Gen %s Optimal Results' % gen,popAlpha = 1, alphaPow = .25, stats= stats)"
     ],
     "language": "python",
     "metadata": {},
     "outputs": [],
     "prompt_number": "*"
    },
    {
     "cell_type": "heading",
     "level": 3,
     "metadata": {},
     "source": [
      "Animation Generation"
     ]
    },
    {
     "cell_type": "code",
     "collapsed": false,
     "input": [
      "def animateMaps(pLocs,tracker,cfg,cmap='Greys_r',cmap2='autumn_r',interval = 500,fps = 1):\n",
      "    length = len(tracker) + 1\n",
      "    #length = 1\n",
      "    fig = plt.figure(figsize=(12,8.4))\n",
      "    fig.subplots_adjust(wspace=0.03,hspace=1.8,bottom=-2)\n",
      "\n",
      "        \n",
      "    def animate(i):\n",
      "        print \"ANIMATED FRAME\", i+1, \"OF\", length\n",
      "        if i != length-1:\n",
      "            pltLocs(pLocs,\n",
      "                       tracker[i]['pts'],\n",
      "                       cfg,\n",
      "                       stats=tracker[i]['stats'],\n",
      "                       title='Gen %s, %s Resource Optimal Placement' % (tracker[i]['gen'],nResource),\n",
      "                       call='animate',\n",
      "                       cmap=cmap,\n",
      "                       cmap2=cmap2)\n",
      "        else:\n",
      "            pltLocs(pLocs,\n",
      "                       tracker[i-1]['pts'],\n",
      "                       cfg,\n",
      "                       stats=tracker[i-1]['stats'],\n",
      "                       title='Gen %s Optimal Placement' % tracker[i-1]['gen'],\n",
      "                       call='final',\n",
      "                       cmap=cmap,\n",
      "                       cmap2=cmap2)\n",
      "    \n",
      "    anim = animation.FuncAnimation(fig,animate,frames=length,interval=interval, blit=False)\n",
      "    fileName = 'mapOptimization'\n",
      "    #print \"Generating\", fileName, \"gif animation\"\n",
      "    #anim.save(fileName+'.gif', writer='imagemagick', fps=fps)\n",
      "    #sleep(3)\n",
      "    print \"Generating\", fileName, \"mp4 video\"\n",
      "    writer = animation.writers['ffmpeg'](fps=1.2)\n",
      "    anim.save(fileName+str(nResource)+'.mp4',writer=writer,dpi=250)\n",
      "    print \"Complete!\"\n",
      "    return anim,fileName+str(nResource)"
     ],
     "language": "python",
     "metadata": {},
     "outputs": [],
     "prompt_number": "*"
    },
    {
     "cell_type": "code",
     "collapsed": false,
     "input": [
      "anim,fileName = animateMaps(pLocs,tracker,cfg)"
     ],
     "language": "python",
     "metadata": {},
     "outputs": [],
     "prompt_number": "*"
    },
    {
     "cell_type": "code",
     "collapsed": false,
     "input": [
      "display_animation(anim,fileName)"
     ],
     "language": "python",
     "metadata": {},
     "outputs": [],
     "prompt_number": "*"
    },
    {
     "cell_type": "heading",
     "level": 1,
     "metadata": {},
     "source": [
      "Final Site Selections & Statistics"
     ]
    },
    {
     "cell_type": "code",
     "collapsed": false,
     "input": [
      "for location in sorted(ptsToText(rLocs,cfg,precision = 10)):\n",
      "    print location"
     ],
     "language": "python",
     "metadata": {},
     "outputs": [],
     "prompt_number": "*"
    },
    {
     "cell_type": "code",
     "collapsed": false,
     "input": [
      "for key, item in tracker[-1]['stats'].iteritems():\n",
      "    print \"%s: %s\" % (key,item)"
     ],
     "language": "python",
     "metadata": {},
     "outputs": [],
     "prompt_number": "*"
    },
    {
     "cell_type": "raw",
     "metadata": {},
     "source": [
      "\u00a9 2014 James Schlitt"
     ]
    }
   ],
   "metadata": {}
  }
 ]
}